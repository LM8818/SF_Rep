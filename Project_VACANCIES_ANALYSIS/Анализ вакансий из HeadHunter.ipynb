{
  "cells": [
    {
      "cell_type": "markdown",
      "id": "42289889-bd57-434e-9637-d3e354756316",
      "metadata": {
        "id": "42289889-bd57-434e-9637-d3e354756316"
      },
      "source": [
        "<center> <img src = https://raw.githubusercontent.com/AndreyRysistov/DatasetsForPandas/main/hh%20label.jpg alt=\"drawing\" style=\"width:400px;\">"
      ]
    },
    {
      "cell_type": "markdown",
      "id": "829cb75b-f14e-4ba8-9195-7ba929a7d656",
      "metadata": {
        "id": "829cb75b-f14e-4ba8-9195-7ba929a7d656",
        "tags": []
      },
      "source": [
        "# <center> Проект: Анализ вакансий из HeadHunter\n",
        "   "
      ]
    },
    {
      "cell_type": "code",
      "execution_count": 217,
      "id": "dccfde33-2452-43fb-a8a5-5c6ebc02a71d",
      "metadata": {
        "id": "dccfde33-2452-43fb-a8a5-5c6ebc02a71d"
      },
      "outputs": [],
      "source": [
        "import pandas as pd\n",
        "import psycopg2\n",
        "import plotly.express as px\n",
        "import requests\n",
        "import warnings\n",
        "warnings.filterwarnings('ignore')"
      ]
    },
    {
      "cell_type": "code",
      "execution_count": 218,
      "id": "oVKH4ehvf8Ay",
      "metadata": {
        "id": "oVKH4ehvf8Ay"
      },
      "outputs": [],
      "source": [
        "# вставьте сюда параметры подключения из юнита 1. Работа с базой данных из Python \n",
        "DBNAME = 'project_sql'\n",
        "USER = 'skillfactory'\n",
        "PASSWORD = 'cCkxxLVrDE8EbvjueeMedPKt'\n",
        "HOST = '84.201.134.129'\n",
        "PORT = 5432"
      ]
    },
    {
      "cell_type": "code",
      "execution_count": 219,
      "id": "G4X_q8KBf7SF",
      "metadata": {
        "id": "G4X_q8KBf7SF"
      },
      "outputs": [],
      "source": [
        "connection = psycopg2.connect(\n",
        "    dbname=DBNAME,\n",
        "    user=USER,\n",
        "    host=HOST,\n",
        "    password=PASSWORD,\n",
        "    port=PORT\n",
        ")"
      ]
    },
    {
      "cell_type": "markdown",
      "id": "0dc6476b-7a00-44f1-ac93-6e3baed33a29",
      "metadata": {
        "id": "0dc6476b-7a00-44f1-ac93-6e3baed33a29"
      },
      "source": [
        "# Юнит 3. Предварительный анализ данных"
      ]
    },
    {
      "cell_type": "markdown",
      "id": "889782b6-8d1c-410e-8920-e57f27917c64",
      "metadata": {
        "id": "889782b6-8d1c-410e-8920-e57f27917c64"
      },
      "source": [
        "1. Напишите запрос, который посчитает количество вакансий в нашей базе (вакансии находятся в таблице vacancies). "
      ]
    },
    {
      "cell_type": "code",
      "execution_count": 220,
      "id": "bc39e68e-ed02-4ee2-9235-7258a2f867a8",
      "metadata": {
        "id": "bc39e68e-ed02-4ee2-9235-7258a2f867a8"
      },
      "outputs": [],
      "source": [
        "# текст запроса\n",
        "query_3_1 = f'''select count(id) cnt from VACANCIES'''\n",
        "df_vac = pd.read_sql_query(query_3_1, connection)"
      ]
    },
    {
      "cell_type": "code",
      "execution_count": 221,
      "id": "7mAwtsk4hEHY",
      "metadata": {
        "id": "7mAwtsk4hEHY"
      },
      "outputs": [
        {
          "name": "stdout",
          "output_type": "stream",
          "text": [
            "Количество вакансий в нашей базе = 49197\n"
          ]
        }
      ],
      "source": [
        "# результат запроса \n",
        "print(f'Количество вакансий в нашей базе = {int(df_vac.values)}')"
      ]
    },
    {
      "cell_type": "markdown",
      "id": "b583485d-1f9e-494e-ada4-80ffff7c53d6",
      "metadata": {
        "id": "b583485d-1f9e-494e-ada4-80ffff7c53d6"
      },
      "source": [
        "2. Напишите запрос, который посчитает количество работодателей (таблица employers). "
      ]
    },
    {
      "cell_type": "code",
      "execution_count": 222,
      "id": "5408c52c-3407-4a63-b25b-1aafa2322d28",
      "metadata": {
        "id": "5408c52c-3407-4a63-b25b-1aafa2322d28"
      },
      "outputs": [],
      "source": [
        "# текст запроса EMPLOYERS\n",
        "query_3_2 = f'''select count(id) from EMPLOYERS'''\n",
        "df_emp = pd.read_sql_query(query_3_2, connection)"
      ]
    },
    {
      "cell_type": "code",
      "execution_count": 223,
      "id": "jVL4eshKhdqc",
      "metadata": {
        "id": "jVL4eshKhdqc"
      },
      "outputs": [
        {
          "name": "stdout",
          "output_type": "stream",
          "text": [
            "Количество работодателей = 23501\n"
          ]
        }
      ],
      "source": [
        "# результат запроса \n",
        "print(f'Количество работодателей = {int(df_emp.values)}')"
      ]
    },
    {
      "cell_type": "markdown",
      "id": "a2bfff1f-c975-4bf6-84be-2185d79dcb76",
      "metadata": {
        "id": "a2bfff1f-c975-4bf6-84be-2185d79dcb76"
      },
      "source": [
        "3. Посчитате с помощью запроса количество регионов (таблица areas)."
      ]
    },
    {
      "cell_type": "code",
      "execution_count": 224,
      "id": "1m8QJwBYhey6",
      "metadata": {
        "id": "1m8QJwBYhey6"
      },
      "outputs": [],
      "source": [
        "# текст запроса\n",
        "query_3_3 = f'''select count(id) from AREAS'''\n",
        "df_ar = pd.read_sql_query(query_3_3, connection)"
      ]
    },
    {
      "cell_type": "code",
      "execution_count": 225,
      "id": "EZsn9tlfhe7f",
      "metadata": {
        "id": "EZsn9tlfhe7f"
      },
      "outputs": [
        {
          "name": "stdout",
          "output_type": "stream",
          "text": [
            "Количество  регионов = 1362\n"
          ]
        }
      ],
      "source": [
        "# результат запроса \n",
        "print(f'Количество  регионов = {int(df_ar.values)}')"
      ]
    },
    {
      "cell_type": "markdown",
      "id": "41bb59f3-53cc-4a67-a5bc-bedf573955e4",
      "metadata": {
        "id": "41bb59f3-53cc-4a67-a5bc-bedf573955e4"
      },
      "source": [
        "4. Посчитате с помощью запроса количество сфер деятельности в базе (таблица industries)."
      ]
    },
    {
      "cell_type": "code",
      "execution_count": 226,
      "id": "d286cf4c-707b-4cd2-9190-7ab3587d04a1",
      "metadata": {
        "id": "d286cf4c-707b-4cd2-9190-7ab3587d04a1"
      },
      "outputs": [],
      "source": [
        "# текст запроса\n",
        "query_3_4 = f'''select count(id) from INDUSTRIES'''\n",
        "df_ind = pd.read_sql_query(query_3_4, connection)"
      ]
    },
    {
      "cell_type": "code",
      "execution_count": 227,
      "id": "JYAaoZ4qhfzW",
      "metadata": {
        "id": "JYAaoZ4qhfzW"
      },
      "outputs": [
        {
          "name": "stdout",
          "output_type": "stream",
          "text": [
            "Количество  сфер деятельности в базе = 294\n"
          ]
        }
      ],
      "source": [
        "# результат запроса\n",
        "print(f'Количество  сфер деятельности в базе = {int(df_ind.values)}')"
      ]
    },
    {
      "cell_type": "markdown",
      "id": "9a8a2181-6914-448b-85f1-38f5f18b8a93",
      "metadata": {
        "id": "9a8a2181-6914-448b-85f1-38f5f18b8a93"
      },
      "source": [
        "***"
      ]
    },
    {
      "cell_type": "markdown",
      "metadata": {},
      "source": [
        "### Вывод :\n",
        "* Количество вакансий в нашей базе     = 49197\n",
        "* Количество работодателей             = 23501\n",
        "* Количество  регионов                 = 1362\n",
        "* Количество  сфер деятельности в базе = 294 \n",
        "\n",
        "#### Наша база данных имеет достаточный объем данных для дальнейшего анализа."
      ]
    },
    {
      "cell_type": "markdown",
      "id": "8d62a9f3-f64e-4fe7-bdac-c4dffa16155e",
      "metadata": {
        "id": "8d62a9f3-f64e-4fe7-bdac-c4dffa16155e"
      },
      "source": [
        "# Юнит 4. Детальный анализ вакансий"
      ]
    },
    {
      "cell_type": "markdown",
      "id": "93053d3d-b284-481a-9cf7-012d7014c0e0",
      "metadata": {
        "id": "93053d3d-b284-481a-9cf7-012d7014c0e0"
      },
      "source": [
        "1. Напишите запрос, который позволит узнать, сколько (cnt) вакансий в каждом регионе (area).\n",
        "Отсортируйте по количеству вакансий в порядке убывания."
      ]
    },
    {
      "cell_type": "code",
      "execution_count": 228,
      "id": "3f069da6-fdc9-4ae7-b514-fafe2675efd3",
      "metadata": {
        "id": "3f069da6-fdc9-4ae7-b514-fafe2675efd3"
      },
      "outputs": [],
      "source": [
        "# текст запроса\n",
        "query = f'''select a.name as area, count(v.id) as cnt\n",
        "              from VACANCIES v\n",
        "              join AREAS a on v.AREA_id = a.id\n",
        "              group by a.name\n",
        "              order by 2 desc\n",
        "         '''\n",
        "df = pd.read_sql_query(query, connection)"
      ]
    },
    {
      "cell_type": "code",
      "execution_count": 229,
      "id": "P7QL86hrjhRJ",
      "metadata": {
        "id": "P7QL86hrjhRJ"
      },
      "outputs": [
        {
          "data": {
            "text/html": [
              "<div>\n",
              "<style scoped>\n",
              "    .dataframe tbody tr th:only-of-type {\n",
              "        vertical-align: middle;\n",
              "    }\n",
              "\n",
              "    .dataframe tbody tr th {\n",
              "        vertical-align: top;\n",
              "    }\n",
              "\n",
              "    .dataframe thead th {\n",
              "        text-align: right;\n",
              "    }\n",
              "</style>\n",
              "<table border=\"1\" class=\"dataframe\">\n",
              "  <thead>\n",
              "    <tr style=\"text-align: right;\">\n",
              "      <th></th>\n",
              "      <th>area</th>\n",
              "      <th>cnt</th>\n",
              "    </tr>\n",
              "  </thead>\n",
              "  <tbody>\n",
              "    <tr>\n",
              "      <th>0</th>\n",
              "      <td>Москва</td>\n",
              "      <td>5333</td>\n",
              "    </tr>\n",
              "    <tr>\n",
              "      <th>1</th>\n",
              "      <td>Санкт-Петербург</td>\n",
              "      <td>2851</td>\n",
              "    </tr>\n",
              "    <tr>\n",
              "      <th>2</th>\n",
              "      <td>Минск</td>\n",
              "      <td>2112</td>\n",
              "    </tr>\n",
              "    <tr>\n",
              "      <th>3</th>\n",
              "      <td>Новосибирск</td>\n",
              "      <td>2006</td>\n",
              "    </tr>\n",
              "    <tr>\n",
              "      <th>4</th>\n",
              "      <td>Алматы</td>\n",
              "      <td>1892</td>\n",
              "    </tr>\n",
              "  </tbody>\n",
              "</table>\n",
              "</div>"
            ],
            "text/plain": [
              "              area   cnt\n",
              "0           Москва  5333\n",
              "1  Санкт-Петербург  2851\n",
              "2            Минск  2112\n",
              "3      Новосибирск  2006\n",
              "4           Алматы  1892"
            ]
          },
          "metadata": {},
          "output_type": "display_data"
        }
      ],
      "source": [
        "# результат запроса\n",
        "display(df.head())"
      ]
    },
    {
      "cell_type": "markdown",
      "id": "4266f0b6-1646-492a-88b4-2f6a46502135",
      "metadata": {
        "id": "4266f0b6-1646-492a-88b4-2f6a46502135"
      },
      "source": [
        "2. Напишите запрос, чтобы определить у какого количества вакансий заполнено хотя бы одно из двух полей с зарплатой."
      ]
    },
    {
      "cell_type": "code",
      "execution_count": 230,
      "id": "0c44b350-72eb-4d65-8b54-a1fc449ba9fd",
      "metadata": {
        "id": "0c44b350-72eb-4d65-8b54-a1fc449ba9fd"
      },
      "outputs": [],
      "source": [
        "# текст запроса\n",
        "query = f'''select count(v.id) as cnt\n",
        "              from VACANCIES v\n",
        "              where v.salary_from is not null \n",
        "                 or v.salary_to   is not null\n",
        "         '''\n",
        "df = pd.read_sql_query(query, connection)"
      ]
    },
    {
      "cell_type": "code",
      "execution_count": 231,
      "id": "rhvwaMDkoWTi",
      "metadata": {
        "id": "rhvwaMDkoWTi"
      },
      "outputs": [
        {
          "name": "stdout",
          "output_type": "stream",
          "text": [
            "Количество вакансий, у которых заполнено хотя бы одно из двух полей с зарплатой = 24073\n"
          ]
        }
      ],
      "source": [
        "# результат запроса\n",
        "print(f'Количество вакансий, у которых заполнено хотя бы одно из двух полей с зарплатой = {int(df.values)}')"
      ]
    },
    {
      "cell_type": "markdown",
      "id": "635c4d5d-f323-4c66-b428-50a088120aa0",
      "metadata": {
        "id": "635c4d5d-f323-4c66-b428-50a088120aa0"
      },
      "source": [
        "3. Найдите средние значения для нижней и верхней границы зарплатной вилки. Округлите значения до целого."
      ]
    },
    {
      "cell_type": "code",
      "execution_count": 232,
      "id": "603cdbe4-0ec3-4106-8eaf-c73fcdd29165",
      "metadata": {
        "id": "603cdbe4-0ec3-4106-8eaf-c73fcdd29165"
      },
      "outputs": [],
      "source": [
        "# текст запроса\n",
        "query = f'''select avg(v.salary_from) as avg_salary_from\n",
        "                  ,avg(v.salary_to)   as avg_salary_to \n",
        "              from VACANCIES v \n",
        "         '''\n",
        "df = pd.read_sql_query(query, connection)"
      ]
    },
    {
      "cell_type": "code",
      "execution_count": 233,
      "id": "pswpAb66ovZZ",
      "metadata": {
        "id": "pswpAb66ovZZ"
      },
      "outputs": [
        {
          "name": "stdout",
          "output_type": "stream",
          "text": [
            "Средние значения для нижней и верхней границы зарплатной вилки от 71065 до 110537\n"
          ]
        }
      ],
      "source": [
        "# результат запроса\n",
        "avg_salary_from,avg_salary_to = round(float(df['avg_salary_from'].values)),round(float(df['avg_salary_to'].values))\n",
        "print(f'Средние значения для нижней и верхней границы зарплатной вилки от {avg_salary_from} до {avg_salary_to}') "
      ]
    },
    {
      "cell_type": "markdown",
      "id": "f3fdaec9-5fd3-4260-9cf5-1d7406b628a5",
      "metadata": {
        "id": "f3fdaec9-5fd3-4260-9cf5-1d7406b628a5"
      },
      "source": [
        "4. Напишите запрос, который выведет количество вакансий для каждого сочетания типа рабочего графика (schedule) и типа трудоустройства (employment), используемого в вакансиях. Результат отсортируйте по убыванию количества.\n"
      ]
    },
    {
      "cell_type": "code",
      "execution_count": 234,
      "id": "1ea710ec-871b-431e-9462-c7d0fd87011b",
      "metadata": {
        "id": "1ea710ec-871b-431e-9462-c7d0fd87011b"
      },
      "outputs": [],
      "source": [
        "# текст запроса\n",
        "query = f'''select schedule   as \"Тип рабочего графика\" \n",
        "                  ,employment as \"Тип трудоустройства\"\n",
        "                  ,count(id)  as \"Кол-во вакансий\"\n",
        "              from VACANCIES \n",
        "              group by  schedule , employment\n",
        "              order by 3 desc\n",
        "         '''\n",
        "df = pd.read_sql_query(query, connection)"
      ]
    },
    {
      "cell_type": "code",
      "execution_count": 235,
      "id": "lGUVqavdo4JQ",
      "metadata": {
        "id": "lGUVqavdo4JQ"
      },
      "outputs": [
        {
          "data": {
            "text/html": [
              "<div>\n",
              "<style scoped>\n",
              "    .dataframe tbody tr th:only-of-type {\n",
              "        vertical-align: middle;\n",
              "    }\n",
              "\n",
              "    .dataframe tbody tr th {\n",
              "        vertical-align: top;\n",
              "    }\n",
              "\n",
              "    .dataframe thead th {\n",
              "        text-align: right;\n",
              "    }\n",
              "</style>\n",
              "<table border=\"1\" class=\"dataframe\">\n",
              "  <thead>\n",
              "    <tr style=\"text-align: right;\">\n",
              "      <th></th>\n",
              "      <th>Тип рабочего графика</th>\n",
              "      <th>Тип трудоустройства</th>\n",
              "      <th>Кол-во вакансий</th>\n",
              "    </tr>\n",
              "  </thead>\n",
              "  <tbody>\n",
              "    <tr>\n",
              "      <th>0</th>\n",
              "      <td>Полный день</td>\n",
              "      <td>Полная занятость</td>\n",
              "      <td>35367</td>\n",
              "    </tr>\n",
              "    <tr>\n",
              "      <th>1</th>\n",
              "      <td>Удаленная работа</td>\n",
              "      <td>Полная занятость</td>\n",
              "      <td>7802</td>\n",
              "    </tr>\n",
              "    <tr>\n",
              "      <th>2</th>\n",
              "      <td>Гибкий график</td>\n",
              "      <td>Полная занятость</td>\n",
              "      <td>1593</td>\n",
              "    </tr>\n",
              "    <tr>\n",
              "      <th>3</th>\n",
              "      <td>Удаленная работа</td>\n",
              "      <td>Частичная занятость</td>\n",
              "      <td>1312</td>\n",
              "    </tr>\n",
              "    <tr>\n",
              "      <th>4</th>\n",
              "      <td>Сменный график</td>\n",
              "      <td>Полная занятость</td>\n",
              "      <td>940</td>\n",
              "    </tr>\n",
              "    <tr>\n",
              "      <th>5</th>\n",
              "      <td>Полный день</td>\n",
              "      <td>Стажировка</td>\n",
              "      <td>569</td>\n",
              "    </tr>\n",
              "    <tr>\n",
              "      <th>6</th>\n",
              "      <td>Вахтовый метод</td>\n",
              "      <td>Полная занятость</td>\n",
              "      <td>367</td>\n",
              "    </tr>\n",
              "    <tr>\n",
              "      <th>7</th>\n",
              "      <td>Полный день</td>\n",
              "      <td>Частичная занятость</td>\n",
              "      <td>347</td>\n",
              "    </tr>\n",
              "    <tr>\n",
              "      <th>8</th>\n",
              "      <td>Гибкий график</td>\n",
              "      <td>Частичная занятость</td>\n",
              "      <td>312</td>\n",
              "    </tr>\n",
              "    <tr>\n",
              "      <th>9</th>\n",
              "      <td>Полный день</td>\n",
              "      <td>Проектная работа</td>\n",
              "      <td>141</td>\n",
              "    </tr>\n",
              "    <tr>\n",
              "      <th>10</th>\n",
              "      <td>Удаленная работа</td>\n",
              "      <td>Проектная работа</td>\n",
              "      <td>133</td>\n",
              "    </tr>\n",
              "    <tr>\n",
              "      <th>11</th>\n",
              "      <td>Гибкий график</td>\n",
              "      <td>Стажировка</td>\n",
              "      <td>116</td>\n",
              "    </tr>\n",
              "    <tr>\n",
              "      <th>12</th>\n",
              "      <td>Сменный график</td>\n",
              "      <td>Частичная занятость</td>\n",
              "      <td>101</td>\n",
              "    </tr>\n",
              "    <tr>\n",
              "      <th>13</th>\n",
              "      <td>Удаленная работа</td>\n",
              "      <td>Стажировка</td>\n",
              "      <td>64</td>\n",
              "    </tr>\n",
              "    <tr>\n",
              "      <th>14</th>\n",
              "      <td>Гибкий график</td>\n",
              "      <td>Проектная работа</td>\n",
              "      <td>18</td>\n",
              "    </tr>\n",
              "    <tr>\n",
              "      <th>15</th>\n",
              "      <td>Сменный график</td>\n",
              "      <td>Стажировка</td>\n",
              "      <td>12</td>\n",
              "    </tr>\n",
              "    <tr>\n",
              "      <th>16</th>\n",
              "      <td>Вахтовый метод</td>\n",
              "      <td>Проектная работа</td>\n",
              "      <td>2</td>\n",
              "    </tr>\n",
              "    <tr>\n",
              "      <th>17</th>\n",
              "      <td>Сменный график</td>\n",
              "      <td>Проектная работа</td>\n",
              "      <td>1</td>\n",
              "    </tr>\n",
              "  </tbody>\n",
              "</table>\n",
              "</div>"
            ],
            "text/plain": [
              "   Тип рабочего графика  Тип трудоустройства  Кол-во вакансий\n",
              "0           Полный день     Полная занятость            35367\n",
              "1      Удаленная работа     Полная занятость             7802\n",
              "2         Гибкий график     Полная занятость             1593\n",
              "3      Удаленная работа  Частичная занятость             1312\n",
              "4        Сменный график     Полная занятость              940\n",
              "5           Полный день           Стажировка              569\n",
              "6        Вахтовый метод     Полная занятость              367\n",
              "7           Полный день  Частичная занятость              347\n",
              "8         Гибкий график  Частичная занятость              312\n",
              "9           Полный день     Проектная работа              141\n",
              "10     Удаленная работа     Проектная работа              133\n",
              "11        Гибкий график           Стажировка              116\n",
              "12       Сменный график  Частичная занятость              101\n",
              "13     Удаленная работа           Стажировка               64\n",
              "14        Гибкий график     Проектная работа               18\n",
              "15       Сменный график           Стажировка               12\n",
              "16       Вахтовый метод     Проектная работа                2\n",
              "17       Сменный график     Проектная работа                1"
            ]
          },
          "metadata": {},
          "output_type": "display_data"
        },
        {
          "data": {
            "application/vnd.plotly.v1+json": {
              "config": {
                "plotlyServerURL": "https://plot.ly"
              },
              "data": [
                {
                  "alignmentgroup": "True",
                  "hovertemplate": "Тип рабочего графика=Полный день<br>Кол-во вакансий=%{x}<br>Тип трудоустройства=%{y}<extra></extra>",
                  "legendgroup": "Полный день",
                  "marker": {
                    "color": "#636efa",
                    "pattern": {
                      "shape": ""
                    }
                  },
                  "name": "Полный день",
                  "offsetgroup": "Полный день",
                  "orientation": "h",
                  "showlegend": true,
                  "textposition": "auto",
                  "type": "bar",
                  "x": [
                    35367,
                    569,
                    347,
                    141
                  ],
                  "xaxis": "x",
                  "y": [
                    "Полная занятость",
                    "Стажировка",
                    "Частичная занятость",
                    "Проектная работа"
                  ],
                  "yaxis": "y"
                },
                {
                  "alignmentgroup": "True",
                  "hovertemplate": "Тип рабочего графика=Удаленная работа<br>Кол-во вакансий=%{x}<br>Тип трудоустройства=%{y}<extra></extra>",
                  "legendgroup": "Удаленная работа",
                  "marker": {
                    "color": "#EF553B",
                    "pattern": {
                      "shape": ""
                    }
                  },
                  "name": "Удаленная работа",
                  "offsetgroup": "Удаленная работа",
                  "orientation": "h",
                  "showlegend": true,
                  "textposition": "auto",
                  "type": "bar",
                  "x": [
                    7802,
                    1312,
                    133,
                    64
                  ],
                  "xaxis": "x",
                  "y": [
                    "Полная занятость",
                    "Частичная занятость",
                    "Проектная работа",
                    "Стажировка"
                  ],
                  "yaxis": "y"
                },
                {
                  "alignmentgroup": "True",
                  "hovertemplate": "Тип рабочего графика=Гибкий график<br>Кол-во вакансий=%{x}<br>Тип трудоустройства=%{y}<extra></extra>",
                  "legendgroup": "Гибкий график",
                  "marker": {
                    "color": "#00cc96",
                    "pattern": {
                      "shape": ""
                    }
                  },
                  "name": "Гибкий график",
                  "offsetgroup": "Гибкий график",
                  "orientation": "h",
                  "showlegend": true,
                  "textposition": "auto",
                  "type": "bar",
                  "x": [
                    1593,
                    312,
                    116,
                    18
                  ],
                  "xaxis": "x",
                  "y": [
                    "Полная занятость",
                    "Частичная занятость",
                    "Стажировка",
                    "Проектная работа"
                  ],
                  "yaxis": "y"
                },
                {
                  "alignmentgroup": "True",
                  "hovertemplate": "Тип рабочего графика=Сменный график<br>Кол-во вакансий=%{x}<br>Тип трудоустройства=%{y}<extra></extra>",
                  "legendgroup": "Сменный график",
                  "marker": {
                    "color": "#ab63fa",
                    "pattern": {
                      "shape": ""
                    }
                  },
                  "name": "Сменный график",
                  "offsetgroup": "Сменный график",
                  "orientation": "h",
                  "showlegend": true,
                  "textposition": "auto",
                  "type": "bar",
                  "x": [
                    940,
                    101,
                    12,
                    1
                  ],
                  "xaxis": "x",
                  "y": [
                    "Полная занятость",
                    "Частичная занятость",
                    "Стажировка",
                    "Проектная работа"
                  ],
                  "yaxis": "y"
                },
                {
                  "alignmentgroup": "True",
                  "hovertemplate": "Тип рабочего графика=Вахтовый метод<br>Кол-во вакансий=%{x}<br>Тип трудоустройства=%{y}<extra></extra>",
                  "legendgroup": "Вахтовый метод",
                  "marker": {
                    "color": "#FFA15A",
                    "pattern": {
                      "shape": ""
                    }
                  },
                  "name": "Вахтовый метод",
                  "offsetgroup": "Вахтовый метод",
                  "orientation": "h",
                  "showlegend": true,
                  "textposition": "auto",
                  "type": "bar",
                  "x": [
                    367,
                    2
                  ],
                  "xaxis": "x",
                  "y": [
                    "Полная занятость",
                    "Проектная работа"
                  ],
                  "yaxis": "y"
                }
              ],
              "layout": {
                "bargap": 0.2,
                "barmode": "relative",
                "height": 300,
                "legend": {
                  "bgcolor": "#dee8fc",
                  "title": {
                    "text": "Типа рабочего графика :"
                  },
                  "tracegroupgap": 0
                },
                "template": {
                  "data": {
                    "bar": [
                      {
                        "error_x": {
                          "color": "#2a3f5f"
                        },
                        "error_y": {
                          "color": "#2a3f5f"
                        },
                        "marker": {
                          "line": {
                            "color": "#E5ECF6",
                            "width": 0.5
                          },
                          "pattern": {
                            "fillmode": "overlay",
                            "size": 10,
                            "solidity": 0.2
                          }
                        },
                        "type": "bar"
                      }
                    ],
                    "barpolar": [
                      {
                        "marker": {
                          "line": {
                            "color": "#E5ECF6",
                            "width": 0.5
                          },
                          "pattern": {
                            "fillmode": "overlay",
                            "size": 10,
                            "solidity": 0.2
                          }
                        },
                        "type": "barpolar"
                      }
                    ],
                    "carpet": [
                      {
                        "aaxis": {
                          "endlinecolor": "#2a3f5f",
                          "gridcolor": "white",
                          "linecolor": "white",
                          "minorgridcolor": "white",
                          "startlinecolor": "#2a3f5f"
                        },
                        "baxis": {
                          "endlinecolor": "#2a3f5f",
                          "gridcolor": "white",
                          "linecolor": "white",
                          "minorgridcolor": "white",
                          "startlinecolor": "#2a3f5f"
                        },
                        "type": "carpet"
                      }
                    ],
                    "choropleth": [
                      {
                        "colorbar": {
                          "outlinewidth": 0,
                          "ticks": ""
                        },
                        "type": "choropleth"
                      }
                    ],
                    "contour": [
                      {
                        "colorbar": {
                          "outlinewidth": 0,
                          "ticks": ""
                        },
                        "colorscale": [
                          [
                            0,
                            "#0d0887"
                          ],
                          [
                            0.1111111111111111,
                            "#46039f"
                          ],
                          [
                            0.2222222222222222,
                            "#7201a8"
                          ],
                          [
                            0.3333333333333333,
                            "#9c179e"
                          ],
                          [
                            0.4444444444444444,
                            "#bd3786"
                          ],
                          [
                            0.5555555555555556,
                            "#d8576b"
                          ],
                          [
                            0.6666666666666666,
                            "#ed7953"
                          ],
                          [
                            0.7777777777777778,
                            "#fb9f3a"
                          ],
                          [
                            0.8888888888888888,
                            "#fdca26"
                          ],
                          [
                            1,
                            "#f0f921"
                          ]
                        ],
                        "type": "contour"
                      }
                    ],
                    "contourcarpet": [
                      {
                        "colorbar": {
                          "outlinewidth": 0,
                          "ticks": ""
                        },
                        "type": "contourcarpet"
                      }
                    ],
                    "heatmap": [
                      {
                        "colorbar": {
                          "outlinewidth": 0,
                          "ticks": ""
                        },
                        "colorscale": [
                          [
                            0,
                            "#0d0887"
                          ],
                          [
                            0.1111111111111111,
                            "#46039f"
                          ],
                          [
                            0.2222222222222222,
                            "#7201a8"
                          ],
                          [
                            0.3333333333333333,
                            "#9c179e"
                          ],
                          [
                            0.4444444444444444,
                            "#bd3786"
                          ],
                          [
                            0.5555555555555556,
                            "#d8576b"
                          ],
                          [
                            0.6666666666666666,
                            "#ed7953"
                          ],
                          [
                            0.7777777777777778,
                            "#fb9f3a"
                          ],
                          [
                            0.8888888888888888,
                            "#fdca26"
                          ],
                          [
                            1,
                            "#f0f921"
                          ]
                        ],
                        "type": "heatmap"
                      }
                    ],
                    "heatmapgl": [
                      {
                        "colorbar": {
                          "outlinewidth": 0,
                          "ticks": ""
                        },
                        "colorscale": [
                          [
                            0,
                            "#0d0887"
                          ],
                          [
                            0.1111111111111111,
                            "#46039f"
                          ],
                          [
                            0.2222222222222222,
                            "#7201a8"
                          ],
                          [
                            0.3333333333333333,
                            "#9c179e"
                          ],
                          [
                            0.4444444444444444,
                            "#bd3786"
                          ],
                          [
                            0.5555555555555556,
                            "#d8576b"
                          ],
                          [
                            0.6666666666666666,
                            "#ed7953"
                          ],
                          [
                            0.7777777777777778,
                            "#fb9f3a"
                          ],
                          [
                            0.8888888888888888,
                            "#fdca26"
                          ],
                          [
                            1,
                            "#f0f921"
                          ]
                        ],
                        "type": "heatmapgl"
                      }
                    ],
                    "histogram": [
                      {
                        "marker": {
                          "pattern": {
                            "fillmode": "overlay",
                            "size": 10,
                            "solidity": 0.2
                          }
                        },
                        "type": "histogram"
                      }
                    ],
                    "histogram2d": [
                      {
                        "colorbar": {
                          "outlinewidth": 0,
                          "ticks": ""
                        },
                        "colorscale": [
                          [
                            0,
                            "#0d0887"
                          ],
                          [
                            0.1111111111111111,
                            "#46039f"
                          ],
                          [
                            0.2222222222222222,
                            "#7201a8"
                          ],
                          [
                            0.3333333333333333,
                            "#9c179e"
                          ],
                          [
                            0.4444444444444444,
                            "#bd3786"
                          ],
                          [
                            0.5555555555555556,
                            "#d8576b"
                          ],
                          [
                            0.6666666666666666,
                            "#ed7953"
                          ],
                          [
                            0.7777777777777778,
                            "#fb9f3a"
                          ],
                          [
                            0.8888888888888888,
                            "#fdca26"
                          ],
                          [
                            1,
                            "#f0f921"
                          ]
                        ],
                        "type": "histogram2d"
                      }
                    ],
                    "histogram2dcontour": [
                      {
                        "colorbar": {
                          "outlinewidth": 0,
                          "ticks": ""
                        },
                        "colorscale": [
                          [
                            0,
                            "#0d0887"
                          ],
                          [
                            0.1111111111111111,
                            "#46039f"
                          ],
                          [
                            0.2222222222222222,
                            "#7201a8"
                          ],
                          [
                            0.3333333333333333,
                            "#9c179e"
                          ],
                          [
                            0.4444444444444444,
                            "#bd3786"
                          ],
                          [
                            0.5555555555555556,
                            "#d8576b"
                          ],
                          [
                            0.6666666666666666,
                            "#ed7953"
                          ],
                          [
                            0.7777777777777778,
                            "#fb9f3a"
                          ],
                          [
                            0.8888888888888888,
                            "#fdca26"
                          ],
                          [
                            1,
                            "#f0f921"
                          ]
                        ],
                        "type": "histogram2dcontour"
                      }
                    ],
                    "mesh3d": [
                      {
                        "colorbar": {
                          "outlinewidth": 0,
                          "ticks": ""
                        },
                        "type": "mesh3d"
                      }
                    ],
                    "parcoords": [
                      {
                        "line": {
                          "colorbar": {
                            "outlinewidth": 0,
                            "ticks": ""
                          }
                        },
                        "type": "parcoords"
                      }
                    ],
                    "pie": [
                      {
                        "automargin": true,
                        "type": "pie"
                      }
                    ],
                    "scatter": [
                      {
                        "marker": {
                          "colorbar": {
                            "outlinewidth": 0,
                            "ticks": ""
                          }
                        },
                        "type": "scatter"
                      }
                    ],
                    "scatter3d": [
                      {
                        "line": {
                          "colorbar": {
                            "outlinewidth": 0,
                            "ticks": ""
                          }
                        },
                        "marker": {
                          "colorbar": {
                            "outlinewidth": 0,
                            "ticks": ""
                          }
                        },
                        "type": "scatter3d"
                      }
                    ],
                    "scattercarpet": [
                      {
                        "marker": {
                          "colorbar": {
                            "outlinewidth": 0,
                            "ticks": ""
                          }
                        },
                        "type": "scattercarpet"
                      }
                    ],
                    "scattergeo": [
                      {
                        "marker": {
                          "colorbar": {
                            "outlinewidth": 0,
                            "ticks": ""
                          }
                        },
                        "type": "scattergeo"
                      }
                    ],
                    "scattergl": [
                      {
                        "marker": {
                          "colorbar": {
                            "outlinewidth": 0,
                            "ticks": ""
                          }
                        },
                        "type": "scattergl"
                      }
                    ],
                    "scattermapbox": [
                      {
                        "marker": {
                          "colorbar": {
                            "outlinewidth": 0,
                            "ticks": ""
                          }
                        },
                        "type": "scattermapbox"
                      }
                    ],
                    "scatterpolar": [
                      {
                        "marker": {
                          "colorbar": {
                            "outlinewidth": 0,
                            "ticks": ""
                          }
                        },
                        "type": "scatterpolar"
                      }
                    ],
                    "scatterpolargl": [
                      {
                        "marker": {
                          "colorbar": {
                            "outlinewidth": 0,
                            "ticks": ""
                          }
                        },
                        "type": "scatterpolargl"
                      }
                    ],
                    "scatterternary": [
                      {
                        "marker": {
                          "colorbar": {
                            "outlinewidth": 0,
                            "ticks": ""
                          }
                        },
                        "type": "scatterternary"
                      }
                    ],
                    "surface": [
                      {
                        "colorbar": {
                          "outlinewidth": 0,
                          "ticks": ""
                        },
                        "colorscale": [
                          [
                            0,
                            "#0d0887"
                          ],
                          [
                            0.1111111111111111,
                            "#46039f"
                          ],
                          [
                            0.2222222222222222,
                            "#7201a8"
                          ],
                          [
                            0.3333333333333333,
                            "#9c179e"
                          ],
                          [
                            0.4444444444444444,
                            "#bd3786"
                          ],
                          [
                            0.5555555555555556,
                            "#d8576b"
                          ],
                          [
                            0.6666666666666666,
                            "#ed7953"
                          ],
                          [
                            0.7777777777777778,
                            "#fb9f3a"
                          ],
                          [
                            0.8888888888888888,
                            "#fdca26"
                          ],
                          [
                            1,
                            "#f0f921"
                          ]
                        ],
                        "type": "surface"
                      }
                    ],
                    "table": [
                      {
                        "cells": {
                          "fill": {
                            "color": "#EBF0F8"
                          },
                          "line": {
                            "color": "white"
                          }
                        },
                        "header": {
                          "fill": {
                            "color": "#C8D4E3"
                          },
                          "line": {
                            "color": "white"
                          }
                        },
                        "type": "table"
                      }
                    ]
                  },
                  "layout": {
                    "annotationdefaults": {
                      "arrowcolor": "#2a3f5f",
                      "arrowhead": 0,
                      "arrowwidth": 1
                    },
                    "autotypenumbers": "strict",
                    "coloraxis": {
                      "colorbar": {
                        "outlinewidth": 0,
                        "ticks": ""
                      }
                    },
                    "colorscale": {
                      "diverging": [
                        [
                          0,
                          "#8e0152"
                        ],
                        [
                          0.1,
                          "#c51b7d"
                        ],
                        [
                          0.2,
                          "#de77ae"
                        ],
                        [
                          0.3,
                          "#f1b6da"
                        ],
                        [
                          0.4,
                          "#fde0ef"
                        ],
                        [
                          0.5,
                          "#f7f7f7"
                        ],
                        [
                          0.6,
                          "#e6f5d0"
                        ],
                        [
                          0.7,
                          "#b8e186"
                        ],
                        [
                          0.8,
                          "#7fbc41"
                        ],
                        [
                          0.9,
                          "#4d9221"
                        ],
                        [
                          1,
                          "#276419"
                        ]
                      ],
                      "sequential": [
                        [
                          0,
                          "#0d0887"
                        ],
                        [
                          0.1111111111111111,
                          "#46039f"
                        ],
                        [
                          0.2222222222222222,
                          "#7201a8"
                        ],
                        [
                          0.3333333333333333,
                          "#9c179e"
                        ],
                        [
                          0.4444444444444444,
                          "#bd3786"
                        ],
                        [
                          0.5555555555555556,
                          "#d8576b"
                        ],
                        [
                          0.6666666666666666,
                          "#ed7953"
                        ],
                        [
                          0.7777777777777778,
                          "#fb9f3a"
                        ],
                        [
                          0.8888888888888888,
                          "#fdca26"
                        ],
                        [
                          1,
                          "#f0f921"
                        ]
                      ],
                      "sequentialminus": [
                        [
                          0,
                          "#0d0887"
                        ],
                        [
                          0.1111111111111111,
                          "#46039f"
                        ],
                        [
                          0.2222222222222222,
                          "#7201a8"
                        ],
                        [
                          0.3333333333333333,
                          "#9c179e"
                        ],
                        [
                          0.4444444444444444,
                          "#bd3786"
                        ],
                        [
                          0.5555555555555556,
                          "#d8576b"
                        ],
                        [
                          0.6666666666666666,
                          "#ed7953"
                        ],
                        [
                          0.7777777777777778,
                          "#fb9f3a"
                        ],
                        [
                          0.8888888888888888,
                          "#fdca26"
                        ],
                        [
                          1,
                          "#f0f921"
                        ]
                      ]
                    },
                    "colorway": [
                      "#636efa",
                      "#EF553B",
                      "#00cc96",
                      "#ab63fa",
                      "#FFA15A",
                      "#19d3f3",
                      "#FF6692",
                      "#B6E880",
                      "#FF97FF",
                      "#FECB52"
                    ],
                    "font": {
                      "color": "#2a3f5f"
                    },
                    "geo": {
                      "bgcolor": "white",
                      "lakecolor": "white",
                      "landcolor": "#E5ECF6",
                      "showlakes": true,
                      "showland": true,
                      "subunitcolor": "white"
                    },
                    "hoverlabel": {
                      "align": "left"
                    },
                    "hovermode": "closest",
                    "mapbox": {
                      "style": "light"
                    },
                    "paper_bgcolor": "white",
                    "plot_bgcolor": "#E5ECF6",
                    "polar": {
                      "angularaxis": {
                        "gridcolor": "white",
                        "linecolor": "white",
                        "ticks": ""
                      },
                      "bgcolor": "#E5ECF6",
                      "radialaxis": {
                        "gridcolor": "white",
                        "linecolor": "white",
                        "ticks": ""
                      }
                    },
                    "scene": {
                      "xaxis": {
                        "backgroundcolor": "#E5ECF6",
                        "gridcolor": "white",
                        "gridwidth": 2,
                        "linecolor": "white",
                        "showbackground": true,
                        "ticks": "",
                        "zerolinecolor": "white"
                      },
                      "yaxis": {
                        "backgroundcolor": "#E5ECF6",
                        "gridcolor": "white",
                        "gridwidth": 2,
                        "linecolor": "white",
                        "showbackground": true,
                        "ticks": "",
                        "zerolinecolor": "white"
                      },
                      "zaxis": {
                        "backgroundcolor": "#E5ECF6",
                        "gridcolor": "white",
                        "gridwidth": 2,
                        "linecolor": "white",
                        "showbackground": true,
                        "ticks": "",
                        "zerolinecolor": "white"
                      }
                    },
                    "shapedefaults": {
                      "line": {
                        "color": "#2a3f5f"
                      }
                    },
                    "ternary": {
                      "aaxis": {
                        "gridcolor": "white",
                        "linecolor": "white",
                        "ticks": ""
                      },
                      "baxis": {
                        "gridcolor": "white",
                        "linecolor": "white",
                        "ticks": ""
                      },
                      "bgcolor": "#E5ECF6",
                      "caxis": {
                        "gridcolor": "white",
                        "linecolor": "white",
                        "ticks": ""
                      }
                    },
                    "title": {
                      "x": 0.05
                    },
                    "xaxis": {
                      "automargin": true,
                      "gridcolor": "white",
                      "linecolor": "white",
                      "ticks": "",
                      "title": {
                        "standoff": 15
                      },
                      "zerolinecolor": "white",
                      "zerolinewidth": 2
                    },
                    "yaxis": {
                      "automargin": true,
                      "gridcolor": "white",
                      "linecolor": "white",
                      "ticks": "",
                      "title": {
                        "standoff": 15
                      },
                      "zerolinecolor": "white",
                      "zerolinewidth": 2
                    }
                  }
                },
                "title": {
                  "text": "Зависимость кол-ва вакансий от Типа трудоустройства и Типа рабочего графика",
                  "x": 0.5,
                  "xanchor": "center"
                },
                "width": 1000,
                "xaxis": {
                  "anchor": "y",
                  "domain": [
                    0,
                    1
                  ],
                  "title": {
                    "text": "Кол-во вакансий"
                  }
                },
                "yaxis": {
                  "anchor": "x",
                  "domain": [
                    0,
                    1
                  ],
                  "title": {
                    "text": "Тип трудоустройства"
                  }
                }
              }
            }
          },
          "metadata": {},
          "output_type": "display_data"
        }
      ],
      "source": [
        "# результат запроса\n",
        "display(df.head(30))\n",
        "#многоуровневая столбчатая диаграмма\n",
        "fig=px.bar(\n",
        "    data_frame = df,\n",
        "    x='Кол-во вакансий',\n",
        "    y='Тип трудоустройства',\n",
        "    #barmode='group',\n",
        "    color='Тип рабочего графика',\n",
        "    labels={'Кол-во вакансий':'Кол-во вакансий', 'Тип трудоустройства':'Тип трудоустройства'},\n",
        "    height=300,\n",
        "    width=1000,\n",
        "    title='Зависимость кол-ва вакансий от Типа трудоустройства и Типа рабочего графика'\n",
        ")\n",
        "fig.update_layout(\n",
        "     bargap           = 0.2\n",
        "    ,legend_bgcolor   = '#dee8fc'\n",
        "    ,legend_title     = 'Типа рабочего графика :'\n",
        ")\n",
        "fig.update_layout(title_xanchor='center', title_x=0.5)\n",
        "fig.show()"
      ]
    },
    {
      "cell_type": "markdown",
      "id": "0136ffee-0ead-4a6b-b608-61d1c753a438",
      "metadata": {
        "id": "0136ffee-0ead-4a6b-b608-61d1c753a438"
      },
      "source": [
        "5. Напишите запрос, выводящий значения поля Требуемый опыт работы (experience) в порядке возрастания количества вакансий, в которых указан данный вариант опыта. "
      ]
    },
    {
      "cell_type": "code",
      "execution_count": 236,
      "id": "5b3a8e79-f7ab-4008-b767-12aea3a205ea",
      "metadata": {
        "id": "5b3a8e79-f7ab-4008-b767-12aea3a205ea"
      },
      "outputs": [],
      "source": [
        "# текст запроса\n",
        "query = f'''select experience as \"Требуемый опыт работы\"\n",
        "                  ,count(id)  as \"Кол-во вакансий\"\n",
        "              from VACANCIES \n",
        "              group by experience\n",
        "              order by 2\n",
        "         '''\n",
        "df = pd.read_sql_query(query, connection)"
      ]
    },
    {
      "cell_type": "code",
      "execution_count": 237,
      "id": "3Is64Y-hpDpq",
      "metadata": {
        "id": "3Is64Y-hpDpq"
      },
      "outputs": [
        {
          "name": "stdout",
          "output_type": "stream",
          "text": [
            "Более 6 лет - Нет опыта - От 3 до 6 лет - От 1 года до 3 лет\n"
          ]
        },
        {
          "data": {
            "application/vnd.plotly.v1+json": {
              "config": {
                "plotlyServerURL": "https://plot.ly"
              },
              "data": [
                {
                  "domain": {
                    "x": [
                      0,
                      1
                    ],
                    "y": [
                      0,
                      1
                    ]
                  },
                  "hovertemplate": "Требуемый опыт работы=%{label}<br>Кол-во вакансий=%{value}<extra></extra>",
                  "labels": [
                    "Более 6 лет",
                    "Нет опыта",
                    "От 3 до 6 лет",
                    "От 1 года до 3 лет"
                  ],
                  "legendgroup": "",
                  "name": "",
                  "showlegend": true,
                  "type": "pie",
                  "values": [
                    1337,
                    7197,
                    14511,
                    26152
                  ]
                }
              ],
              "layout": {
                "legend": {
                  "tracegroupgap": 0
                },
                "template": {
                  "data": {
                    "bar": [
                      {
                        "error_x": {
                          "color": "#2a3f5f"
                        },
                        "error_y": {
                          "color": "#2a3f5f"
                        },
                        "marker": {
                          "line": {
                            "color": "#E5ECF6",
                            "width": 0.5
                          },
                          "pattern": {
                            "fillmode": "overlay",
                            "size": 10,
                            "solidity": 0.2
                          }
                        },
                        "type": "bar"
                      }
                    ],
                    "barpolar": [
                      {
                        "marker": {
                          "line": {
                            "color": "#E5ECF6",
                            "width": 0.5
                          },
                          "pattern": {
                            "fillmode": "overlay",
                            "size": 10,
                            "solidity": 0.2
                          }
                        },
                        "type": "barpolar"
                      }
                    ],
                    "carpet": [
                      {
                        "aaxis": {
                          "endlinecolor": "#2a3f5f",
                          "gridcolor": "white",
                          "linecolor": "white",
                          "minorgridcolor": "white",
                          "startlinecolor": "#2a3f5f"
                        },
                        "baxis": {
                          "endlinecolor": "#2a3f5f",
                          "gridcolor": "white",
                          "linecolor": "white",
                          "minorgridcolor": "white",
                          "startlinecolor": "#2a3f5f"
                        },
                        "type": "carpet"
                      }
                    ],
                    "choropleth": [
                      {
                        "colorbar": {
                          "outlinewidth": 0,
                          "ticks": ""
                        },
                        "type": "choropleth"
                      }
                    ],
                    "contour": [
                      {
                        "colorbar": {
                          "outlinewidth": 0,
                          "ticks": ""
                        },
                        "colorscale": [
                          [
                            0,
                            "#0d0887"
                          ],
                          [
                            0.1111111111111111,
                            "#46039f"
                          ],
                          [
                            0.2222222222222222,
                            "#7201a8"
                          ],
                          [
                            0.3333333333333333,
                            "#9c179e"
                          ],
                          [
                            0.4444444444444444,
                            "#bd3786"
                          ],
                          [
                            0.5555555555555556,
                            "#d8576b"
                          ],
                          [
                            0.6666666666666666,
                            "#ed7953"
                          ],
                          [
                            0.7777777777777778,
                            "#fb9f3a"
                          ],
                          [
                            0.8888888888888888,
                            "#fdca26"
                          ],
                          [
                            1,
                            "#f0f921"
                          ]
                        ],
                        "type": "contour"
                      }
                    ],
                    "contourcarpet": [
                      {
                        "colorbar": {
                          "outlinewidth": 0,
                          "ticks": ""
                        },
                        "type": "contourcarpet"
                      }
                    ],
                    "heatmap": [
                      {
                        "colorbar": {
                          "outlinewidth": 0,
                          "ticks": ""
                        },
                        "colorscale": [
                          [
                            0,
                            "#0d0887"
                          ],
                          [
                            0.1111111111111111,
                            "#46039f"
                          ],
                          [
                            0.2222222222222222,
                            "#7201a8"
                          ],
                          [
                            0.3333333333333333,
                            "#9c179e"
                          ],
                          [
                            0.4444444444444444,
                            "#bd3786"
                          ],
                          [
                            0.5555555555555556,
                            "#d8576b"
                          ],
                          [
                            0.6666666666666666,
                            "#ed7953"
                          ],
                          [
                            0.7777777777777778,
                            "#fb9f3a"
                          ],
                          [
                            0.8888888888888888,
                            "#fdca26"
                          ],
                          [
                            1,
                            "#f0f921"
                          ]
                        ],
                        "type": "heatmap"
                      }
                    ],
                    "heatmapgl": [
                      {
                        "colorbar": {
                          "outlinewidth": 0,
                          "ticks": ""
                        },
                        "colorscale": [
                          [
                            0,
                            "#0d0887"
                          ],
                          [
                            0.1111111111111111,
                            "#46039f"
                          ],
                          [
                            0.2222222222222222,
                            "#7201a8"
                          ],
                          [
                            0.3333333333333333,
                            "#9c179e"
                          ],
                          [
                            0.4444444444444444,
                            "#bd3786"
                          ],
                          [
                            0.5555555555555556,
                            "#d8576b"
                          ],
                          [
                            0.6666666666666666,
                            "#ed7953"
                          ],
                          [
                            0.7777777777777778,
                            "#fb9f3a"
                          ],
                          [
                            0.8888888888888888,
                            "#fdca26"
                          ],
                          [
                            1,
                            "#f0f921"
                          ]
                        ],
                        "type": "heatmapgl"
                      }
                    ],
                    "histogram": [
                      {
                        "marker": {
                          "pattern": {
                            "fillmode": "overlay",
                            "size": 10,
                            "solidity": 0.2
                          }
                        },
                        "type": "histogram"
                      }
                    ],
                    "histogram2d": [
                      {
                        "colorbar": {
                          "outlinewidth": 0,
                          "ticks": ""
                        },
                        "colorscale": [
                          [
                            0,
                            "#0d0887"
                          ],
                          [
                            0.1111111111111111,
                            "#46039f"
                          ],
                          [
                            0.2222222222222222,
                            "#7201a8"
                          ],
                          [
                            0.3333333333333333,
                            "#9c179e"
                          ],
                          [
                            0.4444444444444444,
                            "#bd3786"
                          ],
                          [
                            0.5555555555555556,
                            "#d8576b"
                          ],
                          [
                            0.6666666666666666,
                            "#ed7953"
                          ],
                          [
                            0.7777777777777778,
                            "#fb9f3a"
                          ],
                          [
                            0.8888888888888888,
                            "#fdca26"
                          ],
                          [
                            1,
                            "#f0f921"
                          ]
                        ],
                        "type": "histogram2d"
                      }
                    ],
                    "histogram2dcontour": [
                      {
                        "colorbar": {
                          "outlinewidth": 0,
                          "ticks": ""
                        },
                        "colorscale": [
                          [
                            0,
                            "#0d0887"
                          ],
                          [
                            0.1111111111111111,
                            "#46039f"
                          ],
                          [
                            0.2222222222222222,
                            "#7201a8"
                          ],
                          [
                            0.3333333333333333,
                            "#9c179e"
                          ],
                          [
                            0.4444444444444444,
                            "#bd3786"
                          ],
                          [
                            0.5555555555555556,
                            "#d8576b"
                          ],
                          [
                            0.6666666666666666,
                            "#ed7953"
                          ],
                          [
                            0.7777777777777778,
                            "#fb9f3a"
                          ],
                          [
                            0.8888888888888888,
                            "#fdca26"
                          ],
                          [
                            1,
                            "#f0f921"
                          ]
                        ],
                        "type": "histogram2dcontour"
                      }
                    ],
                    "mesh3d": [
                      {
                        "colorbar": {
                          "outlinewidth": 0,
                          "ticks": ""
                        },
                        "type": "mesh3d"
                      }
                    ],
                    "parcoords": [
                      {
                        "line": {
                          "colorbar": {
                            "outlinewidth": 0,
                            "ticks": ""
                          }
                        },
                        "type": "parcoords"
                      }
                    ],
                    "pie": [
                      {
                        "automargin": true,
                        "type": "pie"
                      }
                    ],
                    "scatter": [
                      {
                        "marker": {
                          "colorbar": {
                            "outlinewidth": 0,
                            "ticks": ""
                          }
                        },
                        "type": "scatter"
                      }
                    ],
                    "scatter3d": [
                      {
                        "line": {
                          "colorbar": {
                            "outlinewidth": 0,
                            "ticks": ""
                          }
                        },
                        "marker": {
                          "colorbar": {
                            "outlinewidth": 0,
                            "ticks": ""
                          }
                        },
                        "type": "scatter3d"
                      }
                    ],
                    "scattercarpet": [
                      {
                        "marker": {
                          "colorbar": {
                            "outlinewidth": 0,
                            "ticks": ""
                          }
                        },
                        "type": "scattercarpet"
                      }
                    ],
                    "scattergeo": [
                      {
                        "marker": {
                          "colorbar": {
                            "outlinewidth": 0,
                            "ticks": ""
                          }
                        },
                        "type": "scattergeo"
                      }
                    ],
                    "scattergl": [
                      {
                        "marker": {
                          "colorbar": {
                            "outlinewidth": 0,
                            "ticks": ""
                          }
                        },
                        "type": "scattergl"
                      }
                    ],
                    "scattermapbox": [
                      {
                        "marker": {
                          "colorbar": {
                            "outlinewidth": 0,
                            "ticks": ""
                          }
                        },
                        "type": "scattermapbox"
                      }
                    ],
                    "scatterpolar": [
                      {
                        "marker": {
                          "colorbar": {
                            "outlinewidth": 0,
                            "ticks": ""
                          }
                        },
                        "type": "scatterpolar"
                      }
                    ],
                    "scatterpolargl": [
                      {
                        "marker": {
                          "colorbar": {
                            "outlinewidth": 0,
                            "ticks": ""
                          }
                        },
                        "type": "scatterpolargl"
                      }
                    ],
                    "scatterternary": [
                      {
                        "marker": {
                          "colorbar": {
                            "outlinewidth": 0,
                            "ticks": ""
                          }
                        },
                        "type": "scatterternary"
                      }
                    ],
                    "surface": [
                      {
                        "colorbar": {
                          "outlinewidth": 0,
                          "ticks": ""
                        },
                        "colorscale": [
                          [
                            0,
                            "#0d0887"
                          ],
                          [
                            0.1111111111111111,
                            "#46039f"
                          ],
                          [
                            0.2222222222222222,
                            "#7201a8"
                          ],
                          [
                            0.3333333333333333,
                            "#9c179e"
                          ],
                          [
                            0.4444444444444444,
                            "#bd3786"
                          ],
                          [
                            0.5555555555555556,
                            "#d8576b"
                          ],
                          [
                            0.6666666666666666,
                            "#ed7953"
                          ],
                          [
                            0.7777777777777778,
                            "#fb9f3a"
                          ],
                          [
                            0.8888888888888888,
                            "#fdca26"
                          ],
                          [
                            1,
                            "#f0f921"
                          ]
                        ],
                        "type": "surface"
                      }
                    ],
                    "table": [
                      {
                        "cells": {
                          "fill": {
                            "color": "#EBF0F8"
                          },
                          "line": {
                            "color": "white"
                          }
                        },
                        "header": {
                          "fill": {
                            "color": "#C8D4E3"
                          },
                          "line": {
                            "color": "white"
                          }
                        },
                        "type": "table"
                      }
                    ]
                  },
                  "layout": {
                    "annotationdefaults": {
                      "arrowcolor": "#2a3f5f",
                      "arrowhead": 0,
                      "arrowwidth": 1
                    },
                    "autotypenumbers": "strict",
                    "coloraxis": {
                      "colorbar": {
                        "outlinewidth": 0,
                        "ticks": ""
                      }
                    },
                    "colorscale": {
                      "diverging": [
                        [
                          0,
                          "#8e0152"
                        ],
                        [
                          0.1,
                          "#c51b7d"
                        ],
                        [
                          0.2,
                          "#de77ae"
                        ],
                        [
                          0.3,
                          "#f1b6da"
                        ],
                        [
                          0.4,
                          "#fde0ef"
                        ],
                        [
                          0.5,
                          "#f7f7f7"
                        ],
                        [
                          0.6,
                          "#e6f5d0"
                        ],
                        [
                          0.7,
                          "#b8e186"
                        ],
                        [
                          0.8,
                          "#7fbc41"
                        ],
                        [
                          0.9,
                          "#4d9221"
                        ],
                        [
                          1,
                          "#276419"
                        ]
                      ],
                      "sequential": [
                        [
                          0,
                          "#0d0887"
                        ],
                        [
                          0.1111111111111111,
                          "#46039f"
                        ],
                        [
                          0.2222222222222222,
                          "#7201a8"
                        ],
                        [
                          0.3333333333333333,
                          "#9c179e"
                        ],
                        [
                          0.4444444444444444,
                          "#bd3786"
                        ],
                        [
                          0.5555555555555556,
                          "#d8576b"
                        ],
                        [
                          0.6666666666666666,
                          "#ed7953"
                        ],
                        [
                          0.7777777777777778,
                          "#fb9f3a"
                        ],
                        [
                          0.8888888888888888,
                          "#fdca26"
                        ],
                        [
                          1,
                          "#f0f921"
                        ]
                      ],
                      "sequentialminus": [
                        [
                          0,
                          "#0d0887"
                        ],
                        [
                          0.1111111111111111,
                          "#46039f"
                        ],
                        [
                          0.2222222222222222,
                          "#7201a8"
                        ],
                        [
                          0.3333333333333333,
                          "#9c179e"
                        ],
                        [
                          0.4444444444444444,
                          "#bd3786"
                        ],
                        [
                          0.5555555555555556,
                          "#d8576b"
                        ],
                        [
                          0.6666666666666666,
                          "#ed7953"
                        ],
                        [
                          0.7777777777777778,
                          "#fb9f3a"
                        ],
                        [
                          0.8888888888888888,
                          "#fdca26"
                        ],
                        [
                          1,
                          "#f0f921"
                        ]
                      ]
                    },
                    "colorway": [
                      "#636efa",
                      "#EF553B",
                      "#00cc96",
                      "#ab63fa",
                      "#FFA15A",
                      "#19d3f3",
                      "#FF6692",
                      "#B6E880",
                      "#FF97FF",
                      "#FECB52"
                    ],
                    "font": {
                      "color": "#2a3f5f"
                    },
                    "geo": {
                      "bgcolor": "white",
                      "lakecolor": "white",
                      "landcolor": "#E5ECF6",
                      "showlakes": true,
                      "showland": true,
                      "subunitcolor": "white"
                    },
                    "hoverlabel": {
                      "align": "left"
                    },
                    "hovermode": "closest",
                    "mapbox": {
                      "style": "light"
                    },
                    "paper_bgcolor": "white",
                    "plot_bgcolor": "#E5ECF6",
                    "polar": {
                      "angularaxis": {
                        "gridcolor": "white",
                        "linecolor": "white",
                        "ticks": ""
                      },
                      "bgcolor": "#E5ECF6",
                      "radialaxis": {
                        "gridcolor": "white",
                        "linecolor": "white",
                        "ticks": ""
                      }
                    },
                    "scene": {
                      "xaxis": {
                        "backgroundcolor": "#E5ECF6",
                        "gridcolor": "white",
                        "gridwidth": 2,
                        "linecolor": "white",
                        "showbackground": true,
                        "ticks": "",
                        "zerolinecolor": "white"
                      },
                      "yaxis": {
                        "backgroundcolor": "#E5ECF6",
                        "gridcolor": "white",
                        "gridwidth": 2,
                        "linecolor": "white",
                        "showbackground": true,
                        "ticks": "",
                        "zerolinecolor": "white"
                      },
                      "zaxis": {
                        "backgroundcolor": "#E5ECF6",
                        "gridcolor": "white",
                        "gridwidth": 2,
                        "linecolor": "white",
                        "showbackground": true,
                        "ticks": "",
                        "zerolinecolor": "white"
                      }
                    },
                    "shapedefaults": {
                      "line": {
                        "color": "#2a3f5f"
                      }
                    },
                    "ternary": {
                      "aaxis": {
                        "gridcolor": "white",
                        "linecolor": "white",
                        "ticks": ""
                      },
                      "baxis": {
                        "gridcolor": "white",
                        "linecolor": "white",
                        "ticks": ""
                      },
                      "bgcolor": "#E5ECF6",
                      "caxis": {
                        "gridcolor": "white",
                        "linecolor": "white",
                        "ticks": ""
                      }
                    },
                    "title": {
                      "x": 0.05
                    },
                    "xaxis": {
                      "automargin": true,
                      "gridcolor": "white",
                      "linecolor": "white",
                      "ticks": "",
                      "title": {
                        "standoff": 15
                      },
                      "zerolinecolor": "white",
                      "zerolinewidth": 2
                    },
                    "yaxis": {
                      "automargin": true,
                      "gridcolor": "white",
                      "linecolor": "white",
                      "ticks": "",
                      "title": {
                        "standoff": 15
                      },
                      "zerolinecolor": "white",
                      "zerolinewidth": 2
                    }
                  }
                },
                "title": {
                  "text": "Процентное соотношение по признаку Требуемый опыт работы"
                }
              }
            }
          },
          "metadata": {},
          "output_type": "display_data"
        }
      ],
      "source": [
        "# результат запроса \n",
        "str = ' - '.join(list(df['Требуемый опыт работы'].values))\n",
        "print(str)\n",
        "\n",
        "#строим круговую диаграмму \n",
        "fig = px.pie(df, values='Кол-во вакансий', names='Требуемый опыт работы', title='Процентное соотношение по признаку Требуемый опыт работы')\n",
        "fig.show()"
      ]
    },
    {
      "cell_type": "markdown",
      "metadata": {},
      "source": [
        "## Выводы по детальному анализу вакансий :\n",
        "* Основная масса вакансий на с типом трудоустройства на полный рабочий день , с типом рабочего графика полная занятость\n",
        "* Процентное соотношение по опыту работы : 53% - От 1 года до 3 лет , 29.5% - От 3 до 6 лет , 14.6 - Нет опыта , 2.7% - Более 6 лет\n",
        "\n",
        "> Основная масса работодателей хотят видеть в своей компании молодых специалистов готовых на полный рабочий день с полной занятостью , молодых потому что их уровень заработной платы самый низкий. Также работодатель готов предоставить соискателю удаленный формат работы , но таких вакансий примерно в три раза меньше , предполагаю , что это связано с тем  что в нашей базе представлены вакансии не только из IT сферы .\n"
      ]
    },
    {
      "cell_type": "markdown",
      "id": "oq2b7n1QpIka",
      "metadata": {
        "id": "oq2b7n1QpIka"
      },
      "source": [
        "***"
      ]
    },
    {
      "cell_type": "markdown",
      "id": "7ea20ab6-04a7-40a0-adec-443a0e5a42c3",
      "metadata": {
        "id": "7ea20ab6-04a7-40a0-adec-443a0e5a42c3"
      },
      "source": [
        "# Юнит 5. Анализ работодателей"
      ]
    },
    {
      "cell_type": "markdown",
      "id": "968aed80-74ef-4ffb-b5bf-c65b84e9caea",
      "metadata": {
        "id": "968aed80-74ef-4ffb-b5bf-c65b84e9caea"
      },
      "source": [
        "1. Напишите запрос, который позволит узнать, какие работодатели находятся на первом и пятом месте по количеству вакансий."
      ]
    },
    {
      "cell_type": "code",
      "execution_count": 238,
      "id": "f2d62796-d400-4ec1-a675-88112739a50e",
      "metadata": {
        "id": "f2d62796-d400-4ec1-a675-88112739a50e"
      },
      "outputs": [],
      "source": [
        "# текст запроса\n",
        "query = f'''with ds as (select n.name \n",
        "                              ,count(v.id) cnt\n",
        "                          from VACANCIES v\n",
        "                          join EMPLOYERS n on v.EMPLOYER_id = n.id\n",
        "                         group by n.name\n",
        "                         order by 2 desc \n",
        "                         limit 5)\n",
        "            (select ds.name, ds.cnt \n",
        "            from ds   \n",
        "            order by 2 desc\n",
        "            limit 1)\n",
        "            \n",
        "            union all\n",
        "            \n",
        "            (select ds.name, ds.cnt \n",
        "            from ds   \n",
        "            order by 2 \n",
        "            limit 1)\n",
        "         '''\n",
        "df = pd.read_sql_query(query, connection) "
      ]
    },
    {
      "cell_type": "code",
      "execution_count": 239,
      "id": "64tOMkAxqkQk",
      "metadata": {
        "id": "64tOMkAxqkQk"
      },
      "outputs": [
        {
          "name": "stdout",
          "output_type": "stream",
          "text": [
            "По количеству выкансий на первом месте  работодатель \"Яндекс\" на пятом месте работодатель \"Газпром нефть\"\n"
          ]
        }
      ],
      "source": [
        "# результат запроса \n",
        "lst = list(df['name'])\n",
        "print(f'По количеству выкансий на первом месте  работодатель \"{lst[0]}\" на пятом месте работодатель \"{lst[1]}\"')"
      ]
    },
    {
      "cell_type": "markdown",
      "id": "68377cfc-b378-43dc-ab7d-1195abf2c515",
      "metadata": {
        "id": "68377cfc-b378-43dc-ab7d-1195abf2c515"
      },
      "source": [
        "2. Напишите запрос, который для каждого региона выведет количество работодателей и вакансий в нём.\n",
        "Среди регионов, в которых нет вакансий, найдите тот, в котором наибольшее количество работодателей.\n"
      ]
    },
    {
      "cell_type": "code",
      "execution_count": 240,
      "id": "dd7df27a-e3e8-412e-a21a-5d389b71e891",
      "metadata": {
        "id": "dd7df27a-e3e8-412e-a21a-5d389b71e891"
      },
      "outputs": [],
      "source": [
        "# текст запроса \n",
        "query = f'''select a.name \n",
        "                  ,count(n.id) \n",
        "            from AREAS a\n",
        "            join EMPLOYERS n on n.area = a.id \n",
        "            where not exists (select 1 \n",
        "                                from VACANCIES v \n",
        "                               where a.id = v.area_id) \n",
        "            group by a.name \n",
        "            order by 2 desc \n",
        "            limit 1              \n",
        "         '''\n",
        "df = pd.read_sql_query(query, connection) "
      ]
    },
    {
      "cell_type": "code",
      "execution_count": 241,
      "id": "x1ikWbydrbf6",
      "metadata": {
        "id": "x1ikWbydrbf6"
      },
      "outputs": [
        {
          "name": "stdout",
          "output_type": "stream",
          "text": [
            "Регионов, в котором нет вакансий, но наибольшее количество работодателей это \"Россия\"\n"
          ]
        }
      ],
      "source": [
        "# результат запроса  \n",
        "print(f'Регионов, в котором нет вакансий, но наибольшее количество работодателей это \"{\"\".join(df[\"name\"].values)}\"')"
      ]
    },
    {
      "cell_type": "markdown",
      "id": "f2fe0acb-ab1a-4e15-9326-2560e22d73c1",
      "metadata": {
        "id": "f2fe0acb-ab1a-4e15-9326-2560e22d73c1"
      },
      "source": [
        "3. Для каждого работодателя посчитайте количество регионов, в которых он публикует свои вакансии. Отсортируйте результат по убыванию количества.\n"
      ]
    },
    {
      "cell_type": "code",
      "execution_count": 242,
      "id": "6271f8ad-bd2e-4196-ae4a-5b39c4c1010e",
      "metadata": {
        "id": "6271f8ad-bd2e-4196-ae4a-5b39c4c1010e"
      },
      "outputs": [],
      "source": [
        "# текст запроса\n",
        "query = f'''select e.name \n",
        "                  ,count(distinct a.id) cnt\n",
        "            from EMPLOYERS e\n",
        "            join VACANCIES v on e.id = v.EMPLOYER_id\n",
        "            join AREAS a on  a.id = v.area_id  \n",
        "            group by e.name \n",
        "            order by 2 desc    \n",
        "            limit 1    \n",
        "         '''\n",
        "df = pd.read_sql_query(query, connection)"
      ]
    },
    {
      "cell_type": "code",
      "execution_count": 243,
      "id": "1EIvX3HasH4F",
      "metadata": {
        "id": "1EIvX3HasH4F"
      },
      "outputs": [
        {
          "name": "stdout",
          "output_type": "stream",
          "text": [
            "Работодатель \"Яндекс\" публикует в 181 регионах свои вакансии , это максимальное кол-во для всех работодателей\n"
          ]
        }
      ],
      "source": [
        "# результат запроса   \n",
        "print(f'Работодатель \"{\"\".join(df[\"name\"].values)}\" публикует в {int(df[\"cnt\"].values)} регионах свои вакансии , это максимальное кол-во для всех работодателей')"
      ]
    },
    {
      "cell_type": "markdown",
      "id": "eab2206d-d95b-468b-8e5f-34381abf0ce7",
      "metadata": {
        "id": "eab2206d-d95b-468b-8e5f-34381abf0ce7"
      },
      "source": [
        "4. Напишите запрос для подсчёта количества работодателей, у которых не указана сфера деятельности. "
      ]
    },
    {
      "cell_type": "code",
      "execution_count": 244,
      "id": "80defb23-bfb1-4a18-8be6-bf36aa7165d5",
      "metadata": {
        "id": "80defb23-bfb1-4a18-8be6-bf36aa7165d5"
      },
      "outputs": [],
      "source": [
        "# текст запроса\n",
        "query = f'''select  count(e.id) cnt\n",
        "            from EMPLOYERS e\n",
        "            where not exists (select 1 \n",
        "                                from EMPLOYERS_INDUSTRIES n \n",
        "                               where n.EMPLOYER_id = e.id)  \n",
        "         '''\n",
        "df = pd.read_sql_query(query, connection)"
      ]
    },
    {
      "cell_type": "code",
      "execution_count": 245,
      "id": "Dp_yCx6ysQSu",
      "metadata": {
        "id": "Dp_yCx6ysQSu"
      },
      "outputs": [
        {
          "name": "stdout",
          "output_type": "stream",
          "text": [
            "У 8419 работодателей из 23501 не указана сфера деятельности\n"
          ]
        }
      ],
      "source": [
        "# результат запроса \n",
        "print(f'У {int(df[\"cnt\"].values)} работодателей из {int(df_emp.values)} не указана сфера деятельности')"
      ]
    },
    {
      "cell_type": "markdown",
      "id": "0112af31-f6b0-4e3b-82ab-71296e752e5e",
      "metadata": {
        "id": "0112af31-f6b0-4e3b-82ab-71296e752e5e"
      },
      "source": [
        "5. Напишите запрос, чтобы узнать название компании, находящейся на третьем месте в алфавитном списке (по названию) компаний, у которых указано четыре сферы деятельности. "
      ]
    },
    {
      "cell_type": "code",
      "execution_count": 246,
      "id": "973b0cfc-a972-470a-8b4a-68744ef220c4",
      "metadata": {
        "id": "973b0cfc-a972-470a-8b4a-68744ef220c4"
      },
      "outputs": [],
      "source": [
        "# текст запроса\n",
        "query = f'''with ds as (select  e.name  \n",
        "                          from EMPLOYERS e\n",
        "                          join EMPLOYERS_INDUSTRIES n \n",
        "                            on n.EMPLOYER_id = e.id \n",
        "                        group by e.name\n",
        "                        having count(distinct n.INDUSTRY_id) = 4 \n",
        "                        order by 1\n",
        "                        limit 3)\n",
        "            select ds.name from ds\n",
        "            order by 1 desc\n",
        "            limit 1\n",
        "         '''\n",
        "df = pd.read_sql_query(query, connection)"
      ]
    },
    {
      "cell_type": "code",
      "execution_count": 247,
      "id": "xsPtpp8EsaED",
      "metadata": {
        "id": "xsPtpp8EsaED"
      },
      "outputs": [
        {
          "name": "stdout",
          "output_type": "stream",
          "text": [
            "Компания, находящейся на третьем месте в алфавитном\n",
            " списке (по названию) компаний, у которой указано\n",
            " четыре сферы деятельности это компания \"2ГИС\"\n"
          ]
        }
      ],
      "source": [
        "# результат запроса \n",
        "print(f'Компания, находящейся на третьем месте в алфавитном\\n списке (по названию) компаний, у которой указано\\n четыре сферы деятельности это компания \"{\"\".join(df[\"name\"].values)}\"')"
      ]
    },
    {
      "cell_type": "markdown",
      "id": "3bfcfdaf-755d-4d2b-8ed8-326201dc07ab",
      "metadata": {
        "id": "3bfcfdaf-755d-4d2b-8ed8-326201dc07ab"
      },
      "source": [
        "6. С помощью запроса выясните, у какого количества работодателей в качестве сферы деятельности указана Разработка программного обеспечения.\n"
      ]
    },
    {
      "cell_type": "code",
      "execution_count": 248,
      "id": "ad3f270f-2991-47eb-929b-e8f88a55b0d1",
      "metadata": {
        "id": "ad3f270f-2991-47eb-929b-e8f88a55b0d1"
      },
      "outputs": [],
      "source": [
        "# текст запроса\n",
        "query = f'''select count(e.id) cnt  \n",
        "              from EMPLOYERS e\n",
        "              join EMPLOYERS_INDUSTRIES n \n",
        "                on n.EMPLOYER_id = e.id \n",
        "              join INDUSTRIES d\n",
        "                on n.INDUSTRY_id = d.id \n",
        "               and d.name = 'Разработка программного обеспечения'\n",
        "         '''\n",
        "df = pd.read_sql_query(query, connection)"
      ]
    },
    {
      "cell_type": "code",
      "execution_count": 249,
      "id": "H72qxWM0shPR",
      "metadata": {
        "id": "H72qxWM0shPR"
      },
      "outputs": [
        {
          "name": "stdout",
          "output_type": "stream",
          "text": [
            "У 3553 работодателей в качестве сферы деятельности указана \"Разработка программного обеспечения\"\n"
          ]
        }
      ],
      "source": [
        "# результат запроса\n",
        "print(f'У {int(df[\"cnt\"].values)} работодателей в качестве сферы деятельности указана \"Разработка программного обеспечения\"')"
      ]
    },
    {
      "cell_type": "markdown",
      "id": "7b02bb86-0546-40fb-94a4-242f050a5c57",
      "metadata": {
        "id": "7b02bb86-0546-40fb-94a4-242f050a5c57"
      },
      "source": [
        "7. Для компании «Яндекс» выведите список регионов-миллионников, в которых представлены вакансии компании, вместе с количеством вакансий в этих регионах. Также добавьте строку Total с общим количеством вакансий компании. Результат отсортируйте по возрастанию количества.\n",
        "\n",
        "Список городов-милионников надо взять [отсюда](https://ru.wikipedia.org/wiki/%D0%93%D0%BE%D1%80%D0%BE%D0%B4%D0%B0-%D0%BC%D0%B8%D0%BB%D0%BB%D0%B8%D0%BE%D0%BD%D0%B5%D1%80%D1%8B_%D0%A0%D0%BE%D1%81%D1%81%D0%B8%D0%B8). \n",
        "\n",
        "Если возникнут трудности с этим задание посмотрите материалы модуля  PYTHON-17. Как получать данные из веб-источников и API. "
      ]
    },
    {
      "cell_type": "code",
      "execution_count": 250,
      "metadata": {},
      "outputs": [],
      "source": [
        "# парсинг\n",
        "\n",
        "# Ссылка на страницу с городами-милионниками\n",
        "url = \"https://ru.wikipedia.org/wiki/Города-миллионеры_России\"\n",
        "\n",
        "# Загрузка HTML страницы\n",
        "response = requests.get(url)\n",
        "\n",
        "# Если запрос успешен, создаем датафрейм\n",
        "if response.status_code == 200:\n",
        "    # Парсинг таблицы со страницы\n",
        "    df_list = pd.read_html(response.content)\n",
        "\n",
        "    # Выбор нужной таблицы со списком городов\n",
        "    df = df_list[1]\n",
        "\n",
        "    # Удаление ненужных столбцов\n",
        "    df = df.drop(columns=[\"№\"])\n",
        "    df = df.rename(columns={\"Город\":\"Город-миллионник\"})\n",
        "\n",
        "    # Вывод датафрейма\n",
        "    #display(df.head(20))\n",
        "    str_list = \"'\" + \"','\".join(df['Город-миллионник'].values) + \"'\"\n",
        "    str_list = str_list.lower()\n",
        "    #print(str_list)\n",
        "else:\n",
        "    print(\"Не удалось загрузить страницу\")\n",
        "\n",
        "\n",
        "# текст запроса\n",
        "query = f'''select coalesce(e.name,'Total') as name\n",
        "                  ,count(v.id)              as cnt\n",
        "              from AREAS e\n",
        "              join VACANCIES v \n",
        "                on e.id = v.area_id\n",
        "              join EMPLOYERS m \n",
        "                on v.EMPLOYER_id = m.id \n",
        "               and lower(m.name) = 'яндекс'\n",
        "              WHERE lower(e.name) IN ({str_list})\n",
        "              group by ROLLUP(e.name)\n",
        "              order by 2\n",
        "         '''\n",
        "df = pd.read_sql_query(query, connection)     "
      ]
    },
    {
      "cell_type": "code",
      "execution_count": 251,
      "id": "ttPhiO1rsvPq",
      "metadata": {
        "id": "ttPhiO1rsvPq"
      },
      "outputs": [
        {
          "data": {
            "text/html": [
              "<div>\n",
              "<style scoped>\n",
              "    .dataframe tbody tr th:only-of-type {\n",
              "        vertical-align: middle;\n",
              "    }\n",
              "\n",
              "    .dataframe tbody tr th {\n",
              "        vertical-align: top;\n",
              "    }\n",
              "\n",
              "    .dataframe thead th {\n",
              "        text-align: right;\n",
              "    }\n",
              "</style>\n",
              "<table border=\"1\" class=\"dataframe\">\n",
              "  <thead>\n",
              "    <tr style=\"text-align: right;\">\n",
              "      <th></th>\n",
              "      <th>name</th>\n",
              "      <th>cnt</th>\n",
              "    </tr>\n",
              "  </thead>\n",
              "  <tbody>\n",
              "    <tr>\n",
              "      <th>0</th>\n",
              "      <td>Омск</td>\n",
              "      <td>21</td>\n",
              "    </tr>\n",
              "    <tr>\n",
              "      <th>1</th>\n",
              "      <td>Челябинск</td>\n",
              "      <td>22</td>\n",
              "    </tr>\n",
              "    <tr>\n",
              "      <th>2</th>\n",
              "      <td>Красноярск</td>\n",
              "      <td>23</td>\n",
              "    </tr>\n",
              "    <tr>\n",
              "      <th>3</th>\n",
              "      <td>Волгоград</td>\n",
              "      <td>24</td>\n",
              "    </tr>\n",
              "    <tr>\n",
              "      <th>4</th>\n",
              "      <td>Пермь</td>\n",
              "      <td>25</td>\n",
              "    </tr>\n",
              "    <tr>\n",
              "      <th>5</th>\n",
              "      <td>Казань</td>\n",
              "      <td>25</td>\n",
              "    </tr>\n",
              "    <tr>\n",
              "      <th>6</th>\n",
              "      <td>Ростов-на-Дону</td>\n",
              "      <td>25</td>\n",
              "    </tr>\n",
              "    <tr>\n",
              "      <th>7</th>\n",
              "      <td>Самара</td>\n",
              "      <td>26</td>\n",
              "    </tr>\n",
              "    <tr>\n",
              "      <th>8</th>\n",
              "      <td>Уфа</td>\n",
              "      <td>26</td>\n",
              "    </tr>\n",
              "    <tr>\n",
              "      <th>9</th>\n",
              "      <td>Краснодар</td>\n",
              "      <td>30</td>\n",
              "    </tr>\n",
              "    <tr>\n",
              "      <th>10</th>\n",
              "      <td>Воронеж</td>\n",
              "      <td>32</td>\n",
              "    </tr>\n",
              "    <tr>\n",
              "      <th>11</th>\n",
              "      <td>Новосибирск</td>\n",
              "      <td>35</td>\n",
              "    </tr>\n",
              "    <tr>\n",
              "      <th>12</th>\n",
              "      <td>Нижний Новгород</td>\n",
              "      <td>36</td>\n",
              "    </tr>\n",
              "    <tr>\n",
              "      <th>13</th>\n",
              "      <td>Екатеринбург</td>\n",
              "      <td>39</td>\n",
              "    </tr>\n",
              "    <tr>\n",
              "      <th>14</th>\n",
              "      <td>Санкт-Петербург</td>\n",
              "      <td>42</td>\n",
              "    </tr>\n",
              "    <tr>\n",
              "      <th>15</th>\n",
              "      <td>Москва</td>\n",
              "      <td>54</td>\n",
              "    </tr>\n",
              "    <tr>\n",
              "      <th>16</th>\n",
              "      <td>Total</td>\n",
              "      <td>485</td>\n",
              "    </tr>\n",
              "  </tbody>\n",
              "</table>\n",
              "</div>"
            ],
            "text/plain": [
              "               name  cnt\n",
              "0              Омск   21\n",
              "1         Челябинск   22\n",
              "2        Красноярск   23\n",
              "3         Волгоград   24\n",
              "4             Пермь   25\n",
              "5            Казань   25\n",
              "6    Ростов-на-Дону   25\n",
              "7            Самара   26\n",
              "8               Уфа   26\n",
              "9         Краснодар   30\n",
              "10          Воронеж   32\n",
              "11      Новосибирск   35\n",
              "12  Нижний Новгород   36\n",
              "13     Екатеринбург   39\n",
              "14  Санкт-Петербург   42\n",
              "15           Москва   54\n",
              "16            Total  485"
            ]
          },
          "metadata": {},
          "output_type": "display_data"
        }
      ],
      "source": [
        "# результат запроса\n",
        "display(df.head(20))   "
      ]
    },
    {
      "cell_type": "markdown",
      "id": "04966e40-3bc3-4dc8-9ba2-e80580ce3abc",
      "metadata": {
        "id": "04966e40-3bc3-4dc8-9ba2-e80580ce3abc"
      },
      "source": [
        "***"
      ]
    },
    {
      "cell_type": "markdown",
      "metadata": {},
      "source": [
        "### Выводы по анализу работодателей\n",
        "* У 8419 работодателей из 23501 не указана сфера деятельности \n",
        "* У 3553 работодателей в качестве сферы деятельности указана \"Разработка программного обеспечения\"\n",
        "* По количеству вакансий лидирует компания \"Яндекс\", думаю это связано с вакансиями для любого региона , с удаленным форматом работы\n",
        "* Регионов, в котором нет вакансий, но наибольшее количество работодателей это \"Россия\" \n"
      ]
    },
    {
      "cell_type": "markdown",
      "id": "b1ef156a-efcb-49ce-bb23-90763e7f35b2",
      "metadata": {
        "id": "b1ef156a-efcb-49ce-bb23-90763e7f35b2",
        "tags": []
      },
      "source": [
        "# Юнит 6. Предметный анализ"
      ]
    },
    {
      "cell_type": "markdown",
      "id": "b9cd50a0-992d-4988-8463-2b2b1c4629b4",
      "metadata": {
        "id": "b9cd50a0-992d-4988-8463-2b2b1c4629b4"
      },
      "source": [
        "1. Сколько вакансий имеет отношение к данным?\n",
        "\n",
        "Считаем, что вакансия имеет отношение к данным, если в её названии содержатся слова 'data' или 'данн'.\n",
        "\n",
        "*Подсказка: Обратите внимание, что названия вакансий могут быть написаны в любом регистре.* \n"
      ]
    },
    {
      "cell_type": "code",
      "execution_count": 252,
      "id": "54ab0e50-c0f1-47cc-a54b-bc5c8bc363f9",
      "metadata": {
        "id": "54ab0e50-c0f1-47cc-a54b-bc5c8bc363f9"
      },
      "outputs": [],
      "source": [
        "# текст запроса\n",
        "query = f'''select count(v.id) as cnt\n",
        "              from VACANCIES v \n",
        "              WHERE lower(v.name) like '%data%' or lower(v.name) like '%данн%'\n",
        "         '''\n",
        "df = pd.read_sql_query(query, connection) "
      ]
    },
    {
      "cell_type": "code",
      "execution_count": 253,
      "id": "9F1meAqsuUjd",
      "metadata": {
        "id": "9F1meAqsuUjd"
      },
      "outputs": [
        {
          "name": "stdout",
          "output_type": "stream",
          "text": [
            "1771  вакансий имеет отношение к данным\n"
          ]
        }
      ],
      "source": [
        "# результат запроса\n",
        "print(f'{int(df.values)}  вакансий имеет отношение к данным')"
      ]
    },
    {
      "cell_type": "markdown",
      "id": "4dea20cb-a36b-474a-a0b9-e08e8e3857a5",
      "metadata": {
        "id": "4dea20cb-a36b-474a-a0b9-e08e8e3857a5"
      },
      "source": [
        "2. Сколько есть подходящих вакансий для начинающего дата-сайентиста? \n",
        "Будем считать вакансиями для дата-сайентистов такие, в названии которых есть хотя бы одно из следующих сочетаний:\n",
        "* 'data scientist'\n",
        "* 'data science'\n",
        "* 'исследователь данных'\n",
        "* 'ML' (здесь не нужно брать вакансии по HTML)\n",
        "* 'machine learning'\n",
        "* 'машинн%обучен%'\n",
        "\n",
        "** В следующих заданиях мы продолжим работать с вакансиями по этому условию.*\n",
        "\n",
        "Считаем вакансиями для специалистов уровня Junior следующие:\n",
        "* в названии есть слово 'junior' *или*\n",
        "* требуемый опыт — Нет опыта *или*\n",
        "* тип трудоустройства — Стажировка.\n",
        " "
      ]
    },
    {
      "cell_type": "code",
      "execution_count": 254,
      "id": "9c61b3c0-bb66-46c9-ae1e-81d3f5752b4a",
      "metadata": {
        "id": "9c61b3c0-bb66-46c9-ae1e-81d3f5752b4a"
      },
      "outputs": [],
      "source": [
        "# текст запроса\n",
        "query = f'''with ds as (select *\n",
        "              from VACANCIES v \n",
        "              WHERE lower(v.name) like '%data scientist%' \n",
        "                 or lower(v.name) like '%data science%'\n",
        "                 or lower(v.name) like '%исследователь данных%'\n",
        "                 or lower(v.name) like '%machine learning%'\n",
        "                 or lower(v.name) like '%машинн%обучен%'\n",
        "                 or ( (lower(v.name) like '% ml%' or lower(v.name) like '%ml %')\n",
        "                       and lower(v.name) not like '%html%')\n",
        "                 )\n",
        "             select count(1) cnt \n",
        "               from ds   \n",
        "              where lower(ds.name)        like '%junior%'\n",
        "                 or lower(ds.employment)  like '%стажировка%' \n",
        "                 or lower(ds.experience)  like '%нет опыта%'\n",
        "         '''\n",
        "df = pd.read_sql_query(query, connection) "
      ]
    },
    {
      "cell_type": "code",
      "execution_count": 255,
      "id": "ZNM-LLYuu1dj",
      "metadata": {
        "id": "ZNM-LLYuu1dj"
      },
      "outputs": [
        {
          "name": "stdout",
          "output_type": "stream",
          "text": [
            "51  вакансий имеет отношение к данным для соискателя без опыта работы\n"
          ]
        }
      ],
      "source": [
        "# результат запроса\n",
        "print(f'{int(df.values)}  вакансий имеет отношение к данным для соискателя без опыта работы')"
      ]
    },
    {
      "cell_type": "markdown",
      "id": "eedceb80-c5ca-480e-b27a-278dfb8b4438",
      "metadata": {
        "id": "eedceb80-c5ca-480e-b27a-278dfb8b4438"
      },
      "source": [
        "3. Сколько есть вакансий для DS, в которых в качестве ключевого навыка указан SQL или postgres?\n",
        "\n",
        "** Критерии для отнесения вакансии к DS указаны в предыдущем задании.*"
      ]
    },
    {
      "cell_type": "code",
      "execution_count": 256,
      "id": "69621713-0cc5-4f1b-a1d7-bb144fa6148c",
      "metadata": {
        "id": "69621713-0cc5-4f1b-a1d7-bb144fa6148c"
      },
      "outputs": [],
      "source": [
        "# текст запроса\n",
        "query = f'''with ds as \n",
        "            (select *\n",
        "               from VACANCIES v \n",
        "              WHERE v.name ilike any (array['%data scientist%'\n",
        "                                          ,'%data science%'\n",
        "                                          ,'%исследователь данных%' \n",
        "                                          ,'%machine learning%'\n",
        "                                          ,'%машинн%обучен%'\n",
        "                                          ])\n",
        "                or  (v.name not ilike '%html%' and v.name like '%ML%') \n",
        "            )\n",
        "             -- из полученной выборки по DS строим основной запрос\n",
        "             select count(distinct ds.id) cnt \n",
        "               from ds   \n",
        "              where ds.key_skills like '%SQL%' \n",
        "                 or ds.key_skills ilike '%postgres%'   \n",
        "         '''\n",
        "df = pd.read_sql_query(query, connection) "
      ]
    },
    {
      "cell_type": "code",
      "execution_count": 257,
      "id": "alA8WEAAvGdf",
      "metadata": {
        "id": "alA8WEAAvGdf"
      },
      "outputs": [
        {
          "name": "stdout",
          "output_type": "stream",
          "text": [
            "201  вакансий для DS, в которых в качестве ключевого навыка указан SQL или postgres\n"
          ]
        }
      ],
      "source": [
        "# результат запроса\n",
        "print(f'{int(df.values)}  вакансий для DS, в которых в качестве ключевого навыка указан SQL или postgres') "
      ]
    },
    {
      "cell_type": "markdown",
      "id": "1be1e9c6-37cf-4a5f-bfeb-04cab799dc80",
      "metadata": {
        "id": "1be1e9c6-37cf-4a5f-bfeb-04cab799dc80"
      },
      "source": [
        "4. Проверьте, насколько популярен Python в требованиях работодателей к DS.Для этого вычислите количество вакансий, в которых в качестве ключевого навыка указан Python.\n",
        "\n",
        "** Это можно сделать помощью запроса, аналогичного предыдущему.*"
      ]
    },
    {
      "cell_type": "code",
      "execution_count": 258,
      "id": "0036a355-9ccf-4564-8b01-73d8194297e7",
      "metadata": {
        "id": "0036a355-9ccf-4564-8b01-73d8194297e7"
      },
      "outputs": [],
      "source": [
        "# текст запроса\n",
        "query = f'''with ds as \n",
        "            (select *\n",
        "               from VACANCIES v \n",
        "              WHERE v.name ilike any (array['%data scientist%'\n",
        "                                          ,'%data science%'\n",
        "                                          ,'%исследователь данных%' \n",
        "                                          ,'%machine learning%'\n",
        "                                          ,'%машинн%обучен%'\n",
        "                                          ])\n",
        "                or  (v.name not ilike '%html%' and v.name like '%ML%')\n",
        "            )\n",
        "             -- из полученной выборки по DS строим основной запрос\n",
        "             select count(distinct ds.id) cnt \n",
        "               from ds   \n",
        "              where ds.key_skills ilike '%Python%'   \n",
        "         '''\n",
        "df = pd.read_sql_query(query, connection) "
      ]
    },
    {
      "cell_type": "code",
      "execution_count": 259,
      "id": "1i-5WyucvQ6v",
      "metadata": {
        "id": "1i-5WyucvQ6v"
      },
      "outputs": [
        {
          "name": "stdout",
          "output_type": "stream",
          "text": [
            "351 вакансий, в которых в качестве ключевого навыка указан Python\n"
          ]
        }
      ],
      "source": [
        "# результат запроса\n",
        "print(f'{int(df.values)} вакансий, в которых в качестве ключевого навыка указан Python')"
      ]
    },
    {
      "cell_type": "markdown",
      "id": "ec3c8db7-fa21-4a41-a994-1af63742a642",
      "metadata": {
        "id": "ec3c8db7-fa21-4a41-a994-1af63742a642"
      },
      "source": [
        "5. Сколько ключевых навыков в среднем указывают в вакансиях для DS?\n",
        "Ответ округлите до двух знаков после точки-разделителя."
      ]
    },
    {
      "cell_type": "code",
      "execution_count": 260,
      "id": "949132bc-d5b6-4611-8218-0b9a504d74f4",
      "metadata": {
        "id": "949132bc-d5b6-4611-8218-0b9a504d74f4"
      },
      "outputs": [],
      "source": [
        "# текст запроса\n",
        "query = f'''with ds as \n",
        "            (select *\n",
        "               from VACANCIES v \n",
        "              WHERE v.name ilike any (array['%data scientist%'\n",
        "                                          ,'%data science%'\n",
        "                                          ,'%исследователь данных%' \n",
        "                                          ,'%machine learning%'\n",
        "                                          ,'%машинн%обучен%'\n",
        "                                          ])\n",
        "                or  (v.name not ilike '%html%' and v.name like '%ML%')\n",
        "            )\n",
        "            -- из полученной выборки по DS строим основной запрос\n",
        "            select  avg(LENGTH(ds.key_skills) - LENGTH(REPLACE(ds.key_skills, chr(9), '')) +1)  as avg_skills \n",
        "              from ds     \n",
        "         '''\n",
        "df = pd.read_sql_query(query, connection) "
      ]
    },
    {
      "cell_type": "code",
      "execution_count": 261,
      "id": "a3V24Tvmviqk",
      "metadata": {
        "id": "a3V24Tvmviqk"
      },
      "outputs": [
        {
          "name": "stdout",
          "output_type": "stream",
          "text": [
            "6.41 ключевых навыков в среднем указывают в вакансиях для DS\n"
          ]
        }
      ],
      "source": [
        "# результат запроса\n",
        "print(f'{round(float(df.values),2)} ключевых навыков в среднем указывают в вакансиях для DS')"
      ]
    },
    {
      "cell_type": "markdown",
      "id": "1041c17a-ca8f-4543-a0ca-32778914fb00",
      "metadata": {
        "id": "1041c17a-ca8f-4543-a0ca-32778914fb00"
      },
      "source": [
        "6. Напишите запрос, позволяющий вычислить, какую зарплату для DS в **среднем** указывают для каждого типа требуемого опыта (уникальное значение из поля *experience*). \n",
        "\n",
        "При решении задачи примите во внимание следующее:\n",
        "1. Рассматриваем только вакансии, у которых заполнено хотя бы одно из двух полей с зарплатой.\n",
        "2. Если заполнены оба поля с зарплатой, то считаем зарплату по каждой вакансии как сумму двух полей, делённую на 2. Если заполнено только одно из полей, то его и считаем зарплатой по вакансии.\n",
        "3. Если в расчётах участвует null, в результате он тоже даст null (посмотрите, что возвращает запрос select 1 + null). Чтобы избежать этой ситуацию, мы воспользуемся функцией [coalesce](https://postgrespro.ru/docs/postgresql/9.5/functions-conditional#functions-coalesce-nvl-ifnull), которая заменит null на значение, которое мы передадим. Например, посмотрите, что возвращает запрос `select 1 + coalesce(null, 0)`\n",
        "\n",
        "Выясните, на какую зарплату в среднем может рассчитывать дата-сайентист с опытом работы от 3 до 6 лет. Результат округлите до целого числа. "
      ]
    },
    {
      "cell_type": "code",
      "execution_count": 262,
      "id": "6a743d39-5204-48d3-8271-b9f88e68d40e",
      "metadata": {
        "id": "6a743d39-5204-48d3-8271-b9f88e68d40e"
      },
      "outputs": [],
      "source": [
        "# текст запроса\n",
        "query = f'''with ds as \n",
        "            (select *\n",
        "               from VACANCIES v \n",
        "              WHERE v.name ilike any (array['%data scientist%'\n",
        "                                          ,'%data science%'\n",
        "                                          ,'%исследователь данных%' \n",
        "                                          ,'%machine learning%'\n",
        "                                          ,'%машинн%обучен%'\n",
        "                                          ])\n",
        "                or  (v.name not ilike '%html%' and v.name like '%ML%')\n",
        "            )\n",
        "            -- из полученной выборки по DS строим основной запрос\n",
        "            select ds.experience \"Опыт работы\"\n",
        "                  ,round(avg(coalesce((ds.salary_from +ds.salary_to)/2, ds.salary_from , ds.salary_to))\n",
        "                        )  \"Средняя ЗП\"\n",
        "              from ds     \n",
        "            where ds.salary_from is not null or ds.salary_to is not null\n",
        "            group by ds.experience  \n",
        "         '''\n",
        "df = pd.read_sql_query(query, connection) "
      ]
    },
    {
      "cell_type": "code",
      "execution_count": 263,
      "id": "aRIJ0mZEwU1_",
      "metadata": {
        "id": "aRIJ0mZEwU1_"
      },
      "outputs": [
        {
          "name": "stdout",
          "output_type": "stream",
          "text": [
            "На зарплату 243115 руб. в среднем может рассчитывать дата-сайентист с опытом работы от 3 до 6 лет\n"
          ]
        },
        {
          "data": {
            "application/vnd.plotly.v1+json": {
              "config": {
                "plotlyServerURL": "https://plot.ly"
              },
              "data": [
                {
                  "alignmentgroup": "True",
                  "hovertemplate": "Опыт работы=%{x}<br>Средняя ЗП=%{y}<extra></extra>",
                  "legendgroup": "",
                  "marker": {
                    "color": "#636efa",
                    "pattern": {
                      "shape": ""
                    }
                  },
                  "name": "",
                  "offsetgroup": "",
                  "orientation": "v",
                  "showlegend": false,
                  "textposition": "auto",
                  "type": "bar",
                  "x": [
                    "От 3 до 6 лет",
                    "От 1 года до 3 лет",
                    "Нет опыта"
                  ],
                  "xaxis": "x",
                  "y": [
                    243115,
                    139675,
                    74643
                  ],
                  "yaxis": "y"
                }
              ],
              "layout": {
                "bargap": 0.2,
                "barmode": "relative",
                "height": 400,
                "legend": {
                  "bgcolor": "#dee8fc",
                  "title": {
                    "text": "Типа рабочего графика :"
                  },
                  "tracegroupgap": 0
                },
                "template": {
                  "data": {
                    "bar": [
                      {
                        "error_x": {
                          "color": "#2a3f5f"
                        },
                        "error_y": {
                          "color": "#2a3f5f"
                        },
                        "marker": {
                          "line": {
                            "color": "#E5ECF6",
                            "width": 0.5
                          },
                          "pattern": {
                            "fillmode": "overlay",
                            "size": 10,
                            "solidity": 0.2
                          }
                        },
                        "type": "bar"
                      }
                    ],
                    "barpolar": [
                      {
                        "marker": {
                          "line": {
                            "color": "#E5ECF6",
                            "width": 0.5
                          },
                          "pattern": {
                            "fillmode": "overlay",
                            "size": 10,
                            "solidity": 0.2
                          }
                        },
                        "type": "barpolar"
                      }
                    ],
                    "carpet": [
                      {
                        "aaxis": {
                          "endlinecolor": "#2a3f5f",
                          "gridcolor": "white",
                          "linecolor": "white",
                          "minorgridcolor": "white",
                          "startlinecolor": "#2a3f5f"
                        },
                        "baxis": {
                          "endlinecolor": "#2a3f5f",
                          "gridcolor": "white",
                          "linecolor": "white",
                          "minorgridcolor": "white",
                          "startlinecolor": "#2a3f5f"
                        },
                        "type": "carpet"
                      }
                    ],
                    "choropleth": [
                      {
                        "colorbar": {
                          "outlinewidth": 0,
                          "ticks": ""
                        },
                        "type": "choropleth"
                      }
                    ],
                    "contour": [
                      {
                        "colorbar": {
                          "outlinewidth": 0,
                          "ticks": ""
                        },
                        "colorscale": [
                          [
                            0,
                            "#0d0887"
                          ],
                          [
                            0.1111111111111111,
                            "#46039f"
                          ],
                          [
                            0.2222222222222222,
                            "#7201a8"
                          ],
                          [
                            0.3333333333333333,
                            "#9c179e"
                          ],
                          [
                            0.4444444444444444,
                            "#bd3786"
                          ],
                          [
                            0.5555555555555556,
                            "#d8576b"
                          ],
                          [
                            0.6666666666666666,
                            "#ed7953"
                          ],
                          [
                            0.7777777777777778,
                            "#fb9f3a"
                          ],
                          [
                            0.8888888888888888,
                            "#fdca26"
                          ],
                          [
                            1,
                            "#f0f921"
                          ]
                        ],
                        "type": "contour"
                      }
                    ],
                    "contourcarpet": [
                      {
                        "colorbar": {
                          "outlinewidth": 0,
                          "ticks": ""
                        },
                        "type": "contourcarpet"
                      }
                    ],
                    "heatmap": [
                      {
                        "colorbar": {
                          "outlinewidth": 0,
                          "ticks": ""
                        },
                        "colorscale": [
                          [
                            0,
                            "#0d0887"
                          ],
                          [
                            0.1111111111111111,
                            "#46039f"
                          ],
                          [
                            0.2222222222222222,
                            "#7201a8"
                          ],
                          [
                            0.3333333333333333,
                            "#9c179e"
                          ],
                          [
                            0.4444444444444444,
                            "#bd3786"
                          ],
                          [
                            0.5555555555555556,
                            "#d8576b"
                          ],
                          [
                            0.6666666666666666,
                            "#ed7953"
                          ],
                          [
                            0.7777777777777778,
                            "#fb9f3a"
                          ],
                          [
                            0.8888888888888888,
                            "#fdca26"
                          ],
                          [
                            1,
                            "#f0f921"
                          ]
                        ],
                        "type": "heatmap"
                      }
                    ],
                    "heatmapgl": [
                      {
                        "colorbar": {
                          "outlinewidth": 0,
                          "ticks": ""
                        },
                        "colorscale": [
                          [
                            0,
                            "#0d0887"
                          ],
                          [
                            0.1111111111111111,
                            "#46039f"
                          ],
                          [
                            0.2222222222222222,
                            "#7201a8"
                          ],
                          [
                            0.3333333333333333,
                            "#9c179e"
                          ],
                          [
                            0.4444444444444444,
                            "#bd3786"
                          ],
                          [
                            0.5555555555555556,
                            "#d8576b"
                          ],
                          [
                            0.6666666666666666,
                            "#ed7953"
                          ],
                          [
                            0.7777777777777778,
                            "#fb9f3a"
                          ],
                          [
                            0.8888888888888888,
                            "#fdca26"
                          ],
                          [
                            1,
                            "#f0f921"
                          ]
                        ],
                        "type": "heatmapgl"
                      }
                    ],
                    "histogram": [
                      {
                        "marker": {
                          "pattern": {
                            "fillmode": "overlay",
                            "size": 10,
                            "solidity": 0.2
                          }
                        },
                        "type": "histogram"
                      }
                    ],
                    "histogram2d": [
                      {
                        "colorbar": {
                          "outlinewidth": 0,
                          "ticks": ""
                        },
                        "colorscale": [
                          [
                            0,
                            "#0d0887"
                          ],
                          [
                            0.1111111111111111,
                            "#46039f"
                          ],
                          [
                            0.2222222222222222,
                            "#7201a8"
                          ],
                          [
                            0.3333333333333333,
                            "#9c179e"
                          ],
                          [
                            0.4444444444444444,
                            "#bd3786"
                          ],
                          [
                            0.5555555555555556,
                            "#d8576b"
                          ],
                          [
                            0.6666666666666666,
                            "#ed7953"
                          ],
                          [
                            0.7777777777777778,
                            "#fb9f3a"
                          ],
                          [
                            0.8888888888888888,
                            "#fdca26"
                          ],
                          [
                            1,
                            "#f0f921"
                          ]
                        ],
                        "type": "histogram2d"
                      }
                    ],
                    "histogram2dcontour": [
                      {
                        "colorbar": {
                          "outlinewidth": 0,
                          "ticks": ""
                        },
                        "colorscale": [
                          [
                            0,
                            "#0d0887"
                          ],
                          [
                            0.1111111111111111,
                            "#46039f"
                          ],
                          [
                            0.2222222222222222,
                            "#7201a8"
                          ],
                          [
                            0.3333333333333333,
                            "#9c179e"
                          ],
                          [
                            0.4444444444444444,
                            "#bd3786"
                          ],
                          [
                            0.5555555555555556,
                            "#d8576b"
                          ],
                          [
                            0.6666666666666666,
                            "#ed7953"
                          ],
                          [
                            0.7777777777777778,
                            "#fb9f3a"
                          ],
                          [
                            0.8888888888888888,
                            "#fdca26"
                          ],
                          [
                            1,
                            "#f0f921"
                          ]
                        ],
                        "type": "histogram2dcontour"
                      }
                    ],
                    "mesh3d": [
                      {
                        "colorbar": {
                          "outlinewidth": 0,
                          "ticks": ""
                        },
                        "type": "mesh3d"
                      }
                    ],
                    "parcoords": [
                      {
                        "line": {
                          "colorbar": {
                            "outlinewidth": 0,
                            "ticks": ""
                          }
                        },
                        "type": "parcoords"
                      }
                    ],
                    "pie": [
                      {
                        "automargin": true,
                        "type": "pie"
                      }
                    ],
                    "scatter": [
                      {
                        "marker": {
                          "colorbar": {
                            "outlinewidth": 0,
                            "ticks": ""
                          }
                        },
                        "type": "scatter"
                      }
                    ],
                    "scatter3d": [
                      {
                        "line": {
                          "colorbar": {
                            "outlinewidth": 0,
                            "ticks": ""
                          }
                        },
                        "marker": {
                          "colorbar": {
                            "outlinewidth": 0,
                            "ticks": ""
                          }
                        },
                        "type": "scatter3d"
                      }
                    ],
                    "scattercarpet": [
                      {
                        "marker": {
                          "colorbar": {
                            "outlinewidth": 0,
                            "ticks": ""
                          }
                        },
                        "type": "scattercarpet"
                      }
                    ],
                    "scattergeo": [
                      {
                        "marker": {
                          "colorbar": {
                            "outlinewidth": 0,
                            "ticks": ""
                          }
                        },
                        "type": "scattergeo"
                      }
                    ],
                    "scattergl": [
                      {
                        "marker": {
                          "colorbar": {
                            "outlinewidth": 0,
                            "ticks": ""
                          }
                        },
                        "type": "scattergl"
                      }
                    ],
                    "scattermapbox": [
                      {
                        "marker": {
                          "colorbar": {
                            "outlinewidth": 0,
                            "ticks": ""
                          }
                        },
                        "type": "scattermapbox"
                      }
                    ],
                    "scatterpolar": [
                      {
                        "marker": {
                          "colorbar": {
                            "outlinewidth": 0,
                            "ticks": ""
                          }
                        },
                        "type": "scatterpolar"
                      }
                    ],
                    "scatterpolargl": [
                      {
                        "marker": {
                          "colorbar": {
                            "outlinewidth": 0,
                            "ticks": ""
                          }
                        },
                        "type": "scatterpolargl"
                      }
                    ],
                    "scatterternary": [
                      {
                        "marker": {
                          "colorbar": {
                            "outlinewidth": 0,
                            "ticks": ""
                          }
                        },
                        "type": "scatterternary"
                      }
                    ],
                    "surface": [
                      {
                        "colorbar": {
                          "outlinewidth": 0,
                          "ticks": ""
                        },
                        "colorscale": [
                          [
                            0,
                            "#0d0887"
                          ],
                          [
                            0.1111111111111111,
                            "#46039f"
                          ],
                          [
                            0.2222222222222222,
                            "#7201a8"
                          ],
                          [
                            0.3333333333333333,
                            "#9c179e"
                          ],
                          [
                            0.4444444444444444,
                            "#bd3786"
                          ],
                          [
                            0.5555555555555556,
                            "#d8576b"
                          ],
                          [
                            0.6666666666666666,
                            "#ed7953"
                          ],
                          [
                            0.7777777777777778,
                            "#fb9f3a"
                          ],
                          [
                            0.8888888888888888,
                            "#fdca26"
                          ],
                          [
                            1,
                            "#f0f921"
                          ]
                        ],
                        "type": "surface"
                      }
                    ],
                    "table": [
                      {
                        "cells": {
                          "fill": {
                            "color": "#EBF0F8"
                          },
                          "line": {
                            "color": "white"
                          }
                        },
                        "header": {
                          "fill": {
                            "color": "#C8D4E3"
                          },
                          "line": {
                            "color": "white"
                          }
                        },
                        "type": "table"
                      }
                    ]
                  },
                  "layout": {
                    "annotationdefaults": {
                      "arrowcolor": "#2a3f5f",
                      "arrowhead": 0,
                      "arrowwidth": 1
                    },
                    "autotypenumbers": "strict",
                    "coloraxis": {
                      "colorbar": {
                        "outlinewidth": 0,
                        "ticks": ""
                      }
                    },
                    "colorscale": {
                      "diverging": [
                        [
                          0,
                          "#8e0152"
                        ],
                        [
                          0.1,
                          "#c51b7d"
                        ],
                        [
                          0.2,
                          "#de77ae"
                        ],
                        [
                          0.3,
                          "#f1b6da"
                        ],
                        [
                          0.4,
                          "#fde0ef"
                        ],
                        [
                          0.5,
                          "#f7f7f7"
                        ],
                        [
                          0.6,
                          "#e6f5d0"
                        ],
                        [
                          0.7,
                          "#b8e186"
                        ],
                        [
                          0.8,
                          "#7fbc41"
                        ],
                        [
                          0.9,
                          "#4d9221"
                        ],
                        [
                          1,
                          "#276419"
                        ]
                      ],
                      "sequential": [
                        [
                          0,
                          "#0d0887"
                        ],
                        [
                          0.1111111111111111,
                          "#46039f"
                        ],
                        [
                          0.2222222222222222,
                          "#7201a8"
                        ],
                        [
                          0.3333333333333333,
                          "#9c179e"
                        ],
                        [
                          0.4444444444444444,
                          "#bd3786"
                        ],
                        [
                          0.5555555555555556,
                          "#d8576b"
                        ],
                        [
                          0.6666666666666666,
                          "#ed7953"
                        ],
                        [
                          0.7777777777777778,
                          "#fb9f3a"
                        ],
                        [
                          0.8888888888888888,
                          "#fdca26"
                        ],
                        [
                          1,
                          "#f0f921"
                        ]
                      ],
                      "sequentialminus": [
                        [
                          0,
                          "#0d0887"
                        ],
                        [
                          0.1111111111111111,
                          "#46039f"
                        ],
                        [
                          0.2222222222222222,
                          "#7201a8"
                        ],
                        [
                          0.3333333333333333,
                          "#9c179e"
                        ],
                        [
                          0.4444444444444444,
                          "#bd3786"
                        ],
                        [
                          0.5555555555555556,
                          "#d8576b"
                        ],
                        [
                          0.6666666666666666,
                          "#ed7953"
                        ],
                        [
                          0.7777777777777778,
                          "#fb9f3a"
                        ],
                        [
                          0.8888888888888888,
                          "#fdca26"
                        ],
                        [
                          1,
                          "#f0f921"
                        ]
                      ]
                    },
                    "colorway": [
                      "#636efa",
                      "#EF553B",
                      "#00cc96",
                      "#ab63fa",
                      "#FFA15A",
                      "#19d3f3",
                      "#FF6692",
                      "#B6E880",
                      "#FF97FF",
                      "#FECB52"
                    ],
                    "font": {
                      "color": "#2a3f5f"
                    },
                    "geo": {
                      "bgcolor": "white",
                      "lakecolor": "white",
                      "landcolor": "#E5ECF6",
                      "showlakes": true,
                      "showland": true,
                      "subunitcolor": "white"
                    },
                    "hoverlabel": {
                      "align": "left"
                    },
                    "hovermode": "closest",
                    "mapbox": {
                      "style": "light"
                    },
                    "paper_bgcolor": "white",
                    "plot_bgcolor": "#E5ECF6",
                    "polar": {
                      "angularaxis": {
                        "gridcolor": "white",
                        "linecolor": "white",
                        "ticks": ""
                      },
                      "bgcolor": "#E5ECF6",
                      "radialaxis": {
                        "gridcolor": "white",
                        "linecolor": "white",
                        "ticks": ""
                      }
                    },
                    "scene": {
                      "xaxis": {
                        "backgroundcolor": "#E5ECF6",
                        "gridcolor": "white",
                        "gridwidth": 2,
                        "linecolor": "white",
                        "showbackground": true,
                        "ticks": "",
                        "zerolinecolor": "white"
                      },
                      "yaxis": {
                        "backgroundcolor": "#E5ECF6",
                        "gridcolor": "white",
                        "gridwidth": 2,
                        "linecolor": "white",
                        "showbackground": true,
                        "ticks": "",
                        "zerolinecolor": "white"
                      },
                      "zaxis": {
                        "backgroundcolor": "#E5ECF6",
                        "gridcolor": "white",
                        "gridwidth": 2,
                        "linecolor": "white",
                        "showbackground": true,
                        "ticks": "",
                        "zerolinecolor": "white"
                      }
                    },
                    "shapedefaults": {
                      "line": {
                        "color": "#2a3f5f"
                      }
                    },
                    "ternary": {
                      "aaxis": {
                        "gridcolor": "white",
                        "linecolor": "white",
                        "ticks": ""
                      },
                      "baxis": {
                        "gridcolor": "white",
                        "linecolor": "white",
                        "ticks": ""
                      },
                      "bgcolor": "#E5ECF6",
                      "caxis": {
                        "gridcolor": "white",
                        "linecolor": "white",
                        "ticks": ""
                      }
                    },
                    "title": {
                      "x": 0.05
                    },
                    "xaxis": {
                      "automargin": true,
                      "gridcolor": "white",
                      "linecolor": "white",
                      "ticks": "",
                      "title": {
                        "standoff": 15
                      },
                      "zerolinecolor": "white",
                      "zerolinewidth": 2
                    },
                    "yaxis": {
                      "automargin": true,
                      "gridcolor": "white",
                      "linecolor": "white",
                      "ticks": "",
                      "title": {
                        "standoff": 15
                      },
                      "zerolinecolor": "white",
                      "zerolinewidth": 2
                    }
                  }
                },
                "title": {
                  "text": "Зависимость средней заработной платы от опыта работы",
                  "x": 0.5,
                  "xanchor": "center"
                },
                "width": 600,
                "xaxis": {
                  "anchor": "y",
                  "domain": [
                    0,
                    1
                  ],
                  "title": {
                    "text": "Опыт работы"
                  }
                },
                "yaxis": {
                  "anchor": "x",
                  "domain": [
                    0,
                    1
                  ],
                  "title": {
                    "text": "Средняя ЗП"
                  }
                }
              }
            }
          },
          "metadata": {},
          "output_type": "display_data"
        }
      ],
      "source": [
        "# результат запроса\n",
        "mask = df['Опыт работы'] == 'От 3 до 6 лет'\n",
        "print(f'На зарплату {int(df[mask][\"Средняя ЗП\"].values)} руб. в среднем может рассчитывать дата-сайентист с опытом работы от 3 до 6 лет')\n",
        "#многоуровневая столбчатая диаграмма\n",
        "fig=px.bar(\n",
        "    data_frame = df,\n",
        "    x='Опыт работы',\n",
        "    y='Средняя ЗП', \n",
        "    labels={'Опыт работы':'Опыт работы', 'Средняя ЗП':'Средняя ЗП'},\n",
        "    height=400,\n",
        "    width=600,\n",
        "    title='Зависимость средней заработной платы от опыта работы'\n",
        ")\n",
        "fig.update_layout(\n",
        "     bargap           = 0.2\n",
        "    ,legend_bgcolor   = '#dee8fc'\n",
        "    ,legend_title     = 'Типа рабочего графика :'\n",
        ")\n",
        "fig.update_layout(title_xanchor='center', title_x=0.5)\n",
        "fig.show()"
      ]
    },
    {
      "cell_type": "markdown",
      "id": "6a7892b4-4113-4746-adce-18aa2844f18e",
      "metadata": {
        "id": "6a7892b4-4113-4746-adce-18aa2844f18e"
      },
      "source": [
        "***"
      ]
    },
    {
      "cell_type": "markdown",
      "metadata": {},
      "source": [
        "### Выводы по предметному анализу\n",
        "* 1771  вакансий имеет отношение к данным \n",
        "* 51    вакансий имеет отношение к данным для соискателя без опыта работы\n",
        "* 201   вакансий для DS, в которых в качестве ключевого навыка указан SQL или postgres\n",
        "* 351   вакансий, в которых в качестве ключевого навыка указан Python\n",
        "* 6.41  ключевых навыков в среднем указывают в вакансиях для DS\n",
        "* Средняя заработная плата напрямую зависит от опыта работы\n"
      ]
    },
    {
      "cell_type": "markdown",
      "metadata": {},
      "source": [
        "***"
      ]
    },
    {
      "cell_type": "markdown",
      "metadata": {},
      "source": [
        "# Дополнительное исследование :\n",
        "* Дополнительная очистка данных и создание новых признаков при формировании датасета\n",
        "* Анализ признаков с пропусками , замена данных с пропусками \n",
        "* Удаление не нужных полей , переименование признаков , создание нового признака , удаление дублей\n",
        "* Поиск аномалий и зависимостей в вакансиях DS\n",
        "\n"
      ]
    },
    {
      "cell_type": "markdown",
      "metadata": {},
      "source": [
        "#### Дополнительная очистка данных и создание новых признаков при формировании датасета\n",
        "* Очистим данные по вакансиям ,относящимся к Data scientist, от вакансий для тестировщиков и разработчиков QML \n",
        "* Добавим признаки с полными наименованиями регионов и работодателей , \"Регион\" и \"Работодатель\"\n",
        "* Изначально число пропусков в признаках по ЗП составляло более 90 %, но эти признаки важны для нас , поэтому попробуем их заполнить средними значениями , в зависимости от опыта работы и региона , на основе их заполнения, создадим новый признак \"Средняя ЗП\"\n",
        "* Создадим новый признак 'Кол-во ключевых навыков'"
      ]
    },
    {
      "cell_type": "code",
      "execution_count": 297,
      "metadata": {},
      "outputs": [
        {
          "name": "stdout",
          "output_type": "stream",
          "text": [
            "размеры датафрейма (466, 16)\n"
          ]
        }
      ],
      "source": [
        "# выгрузим вакансии DS\n",
        "query = f'''\n",
        "        with \n",
        "        -- очистим данные по DS от вакансий для тестировщиков и разработчиков QML\n",
        "        ds as (select *\n",
        "                 from VACANCIES v \n",
        "                WHERE (v.name ilike any (array['%data scientist%'\n",
        "                                              ,'%data science%'\n",
        "                                              ,'%исследователь данных%' \n",
        "                                              ,'%machine learning%'\n",
        "                                              ,'%машинн%обучен%'\n",
        "                                              ]\n",
        "                                        )\n",
        "                         or  (lower(v.name) not like  '%html%'  and v.name like '%ML%')\n",
        "                       )\n",
        "                       and  (v.name not like   '%QML%') \n",
        "                       and  (v.name not ilike  '%тестировщик%') \n",
        "               )      \n",
        "       -- средние занчения верхней и нижней границы по ЗП для дата саититста\n",
        "       -- , в зависимости от опыта работы          \n",
        "       ,avg_salary_experience as (select ds.experience  \n",
        "                                        ,round(avg(ds.salary_from)) avg_salary_f \n",
        "                                        ,round(avg(ds.salary_to))   avg_salary_t \n",
        "                                        ,round(avg(coalesce((ds.salary_from +ds.salary_to)/2, ds.salary_from , ds.salary_to))\n",
        "                                       ) avg_salary_exp\n",
        "                                  from ds     \n",
        "                                 where ds.salary_from is not null or ds.salary_to is not null\n",
        "                                 group by ds.experience       \n",
        "                                 )       \n",
        "       -- средние занчения верхней и нижней границы по ЗП для дата саититста\n",
        "       -- , в зависимости от опыта работы и региона , если данных нет по региону \n",
        "       -- , заполняем средним значением по опыту работы         \n",
        "       ,avg_salary_experience_area as (select ds.experience \n",
        "                                     ,ds.area_id\n",
        "                                     ,round(avg(coalesce(ds.salary_from,avg_salary_f))) avg_salary_from\n",
        "                                     ,round(avg(coalesce(ds.salary_to,avg_salary_t)))   avg_salary_to\n",
        "                                from ds \n",
        "                                left join avg_salary_experience x \n",
        "                                on ds.experience = x.experience\n",
        "                                group by ds.experience \n",
        "                                        ,ds.area_id       \n",
        "                              )\n",
        "                 select ds.* \n",
        "                       ,g.avg_salary_from \n",
        "                       ,g.avg_salary_to\n",
        "                       ,coalesce((LENGTH(ds.key_skills) \n",
        "                        - LENGTH(REPLACE(ds.key_skills, chr(9), '')) +1) ,0)    \"Кол-во ключевых навыков\"\n",
        "                       ,round((coalesce(ds.salary_from,g.avg_salary_from)\n",
        "                            + coalesce(ds.salary_to   ,g.avg_salary_to))/2)  \"Средняя ЗП\"\n",
        "                       ,a.name                                               \"Регион\"\n",
        "                       ,m.name                                               \"Работодатель\"\n",
        "                 from ds\n",
        "                 left join avg_salary_experience_area g \n",
        "                   on ds.experience = g.experience   \n",
        "                  and ds.area_id    = g.area_id\n",
        "                 left join areas a \n",
        "                   on ds.area_id    = a.id\n",
        "                 left join EMPLOYERS m \n",
        "                   on ds.EMPLOYER_id = m.id    \n",
        "              Order by 1,2,3,4 ,13,14,15,16   \n",
        "          '''\n",
        "df_ds = pd.read_sql_query(query, connection)\n",
        " \n",
        "print(f'размеры датафрейма {df_ds.shape}')"
      ]
    },
    {
      "cell_type": "markdown",
      "metadata": {},
      "source": [
        "#### Анализ признаков с пропусками , замена данных с пропусками"
      ]
    },
    {
      "cell_type": "code",
      "execution_count": 298,
      "metadata": {},
      "outputs": [
        {
          "data": {
            "text/plain": [
              "salary_to          90.557940\n",
              "salary_from        90.343348\n",
              "key_skills         10.515021\n",
              "avg_salary_from     7.296137\n",
              "avg_salary_to       7.296137\n",
              "Средняя ЗП          7.296137\n",
              "dtype: float64"
            ]
          },
          "metadata": {},
          "output_type": "display_data"
        },
        {
          "data": {
            "image/png": "[encoded data removed]",
            "text/plain": [
              "<Figure size 2000x800 with 6 Axes>"
            ]
          },
          "metadata": {},
          "output_type": "display_data"
        }
      ],
      "source": [
        "# Смотрим признаки с пропусками Умножаем на 100 %, находим столбцы, где доля пропусков больше 0, \n",
        "# сортируем по убыванию и выводим результат:\n",
        "\n",
        "cols_null_percent = df_ds.isnull().mean() * 100\n",
        "cols_with_null = cols_null_percent[cols_null_percent>0].sort_values(ascending=False)\n",
        "display(cols_with_null)\n",
        "\n",
        "# Посмотрим, на распределения наших признаков:\n",
        "cols = cols_with_null.index\n",
        "df_ds[cols].hist(figsize=(20, 8));\n"
      ]
    },
    {
      "cell_type": "markdown",
      "metadata": {},
      "source": [
        "* В признаке 'Средняя ЗП' все же остались пропуски (432 заполнено из 466) , заменим их медианным значением по признаку\n",
        "* По признаку ключевые навыки 'key_skills' также есть пропуски , заполнение пустых значений по этому признаку не будем проводить в данном исследовании ,но мы создали по нему новый признак 'Кол-во ключевых навыков' при формировании датасета\n",
        "\n",
        "\n",
        "> столбцы\n",
        "salary_to ,\n",
        "salary_from ,\n",
        "avg_salary_from ,\n",
        "avg_salary_to  отображены, чтобы увидеть разницу после преобразования при формировании датасета\n"
      ]
    },
    {
      "cell_type": "code",
      "execution_count": 299,
      "metadata": {},
      "outputs": [],
      "source": [
        "#создаем копию исходной таблицы\n",
        "fill_data = df_ds.copy()\n",
        "\n",
        "#создаем словарь имя столбца: число(признак) на который надо заменить пропуски\n",
        "values = {'Средняя ЗП': fill_data['Средняя ЗП'].median()}\n",
        "#заполняем пропуски в соответствии с заявленным словарем\n",
        "fill_data = fill_data.fillna(values)\n"
      ]
    },
    {
      "cell_type": "markdown",
      "metadata": {},
      "source": [
        " #### Удаление ненужных полей , переименования признаков  , создание нового признака\n",
        "* Удалим ненужные столбцы\n",
        "salary_to ,\n",
        "salary_from ,\n",
        "avg_salary_from ,\n",
        "avg_salary_to  , я их вывела чтобы увидеть разницу после преобразования , также удалим признаки area_id и employer_id , мы по ним уже создали признаки с полными наименованиями регионов и работодателей\n",
        "\n",
        "\n",
        "* В признаке \"Регион\" присутствуют не Российские регионы , создадим новый признак 'Тип региона' , в котором будем отображать 'Россия' и 'Другие регионы'.\n",
        "\n",
        "\n",
        "> Список не Российских регионов :\n",
        " Ташкент, Тбилиси, Чехия, Сербия, Армения, Кипр, Батуми, Нур-Султан, Алматы, Израиль, Абхазия, Польша, Бишкек, Литва, Баку, Турция, Минск, Черногория\n",
        "\n"
      ]
    },
    {
      "cell_type": "code",
      "execution_count": 300,
      "metadata": {},
      "outputs": [
        {
          "data": {
            "text/html": [
              "<div>\n",
              "<style scoped>\n",
              "    .dataframe tbody tr th:only-of-type {\n",
              "        vertical-align: middle;\n",
              "    }\n",
              "\n",
              "    .dataframe tbody tr th {\n",
              "        vertical-align: top;\n",
              "    }\n",
              "\n",
              "    .dataframe thead th {\n",
              "        text-align: right;\n",
              "    }\n",
              "</style>\n",
              "<table border=\"1\" class=\"dataframe\">\n",
              "  <thead>\n",
              "    <tr style=\"text-align: right;\">\n",
              "      <th></th>\n",
              "      <th>Вакансия</th>\n",
              "      <th>Ключевые навыки</th>\n",
              "      <th>Тип рабочего графика</th>\n",
              "      <th>Опыт работы</th>\n",
              "      <th>Тип трудоустройства</th>\n",
              "      <th>Кол-во ключевых навыков</th>\n",
              "      <th>Средняя ЗП</th>\n",
              "      <th>Регион</th>\n",
              "      <th>Работодатель</th>\n",
              "      <th>Тип региона</th>\n",
              "    </tr>\n",
              "  </thead>\n",
              "  <tbody>\n",
              "    <tr>\n",
              "      <th>0</th>\n",
              "      <td>Data scientist</td>\n",
              "      <td>Python\\tC++\\tНаписание статей\\tНаписание научн...</td>\n",
              "      <td>Полный день</td>\n",
              "      <td>От 3 до 6 лет</td>\n",
              "      <td>Полная занятость</td>\n",
              "      <td>6</td>\n",
              "      <td>249576.0</td>\n",
              "      <td>Санкт-Петербург</td>\n",
              "      <td>ЦРТ | Группа компаний</td>\n",
              "      <td>Россия</td>\n",
              "    </tr>\n",
              "    <tr>\n",
              "      <th>1</th>\n",
              "      <td>Data scientist по построению моделей оценки кр...</td>\n",
              "      <td>Python\\tРиск-менеджмент\\tМатематическая статис...</td>\n",
              "      <td>Полный день</td>\n",
              "      <td>От 1 года до 3 лет</td>\n",
              "      <td>Полная занятость</td>\n",
              "      <td>3</td>\n",
              "      <td>152709.0</td>\n",
              "      <td>Москва</td>\n",
              "      <td>Банк ВТБ (ПАО)</td>\n",
              "      <td>Россия</td>\n",
              "    </tr>\n",
              "    <tr>\n",
              "      <th>2</th>\n",
              "      <td>Data scientist (проект Музыка)</td>\n",
              "      <td>SCALA\\tSpark\\tHadoop\\tJava\\tBig Data\\tPython</td>\n",
              "      <td>Полный день</td>\n",
              "      <td>От 1 года до 3 лет</td>\n",
              "      <td>Полная занятость</td>\n",
              "      <td>6</td>\n",
              "      <td>150697.0</td>\n",
              "      <td>Санкт-Петербург</td>\n",
              "      <td>VK</td>\n",
              "      <td>Россия</td>\n",
              "    </tr>\n",
              "    <tr>\n",
              "      <th>3</th>\n",
              "      <td>Data scientist (проект Моменты)</td>\n",
              "      <td>SCALA\\tSpark\\tHadoop\\tJava\\tBig Data\\tPython</td>\n",
              "      <td>Полный день</td>\n",
              "      <td>От 1 года до 3 лет</td>\n",
              "      <td>Полная занятость</td>\n",
              "      <td>6</td>\n",
              "      <td>150697.0</td>\n",
              "      <td>Санкт-Петербург</td>\n",
              "      <td>VK</td>\n",
              "      <td>Россия</td>\n",
              "    </tr>\n",
              "    <tr>\n",
              "      <th>4</th>\n",
              "      <td>Data scientist (Remote)</td>\n",
              "      <td>Python\\tC++\\tНаписание статей\\tНаписание научн...</td>\n",
              "      <td>Полный день</td>\n",
              "      <td>От 3 до 6 лет</td>\n",
              "      <td>Полная занятость</td>\n",
              "      <td>6</td>\n",
              "      <td>247901.0</td>\n",
              "      <td>Москва</td>\n",
              "      <td>ЦРТ | Группа компаний</td>\n",
              "      <td>Россия</td>\n",
              "    </tr>\n",
              "  </tbody>\n",
              "</table>\n",
              "</div>"
            ],
            "text/plain": [
              "                                            Вакансия  \\\n",
              "0                                     Data scientist   \n",
              "1  Data scientist по построению моделей оценки кр...   \n",
              "2                     Data scientist (проект Музыка)   \n",
              "3                    Data scientist (проект Моменты)   \n",
              "4                            Data scientist (Remote)   \n",
              "\n",
              "                                     Ключевые навыки Тип рабочего графика  \\\n",
              "0  Python\\tC++\\tНаписание статей\\tНаписание научн...          Полный день   \n",
              "1  Python\\tРиск-менеджмент\\tМатематическая статис...          Полный день   \n",
              "2       SCALA\\tSpark\\tHadoop\\tJava\\tBig Data\\tPython          Полный день   \n",
              "3       SCALA\\tSpark\\tHadoop\\tJava\\tBig Data\\tPython          Полный день   \n",
              "4  Python\\tC++\\tНаписание статей\\tНаписание научн...          Полный день   \n",
              "\n",
              "          Опыт работы Тип трудоустройства  Кол-во ключевых навыков  \\\n",
              "0       От 3 до 6 лет    Полная занятость                        6   \n",
              "1  От 1 года до 3 лет    Полная занятость                        3   \n",
              "2  От 1 года до 3 лет    Полная занятость                        6   \n",
              "3  От 1 года до 3 лет    Полная занятость                        6   \n",
              "4       От 3 до 6 лет    Полная занятость                        6   \n",
              "\n",
              "   Средняя ЗП           Регион           Работодатель Тип региона  \n",
              "0    249576.0  Санкт-Петербург  ЦРТ | Группа компаний      Россия  \n",
              "1    152709.0           Москва         Банк ВТБ (ПАО)      Россия  \n",
              "2    150697.0  Санкт-Петербург                     VK      Россия  \n",
              "3    150697.0  Санкт-Петербург                     VK      Россия  \n",
              "4    247901.0           Москва  ЦРТ | Группа компаний      Россия  "
            ]
          },
          "metadata": {},
          "output_type": "display_data"
        },
        {
          "data": {
            "text/plain": [
              "Вакансия                   0.00000\n",
              "Ключевые навыки            0.10515\n",
              "Тип рабочего графика       0.00000\n",
              "Опыт работы                0.00000\n",
              "Тип трудоустройства        0.00000\n",
              "Кол-во ключевых навыков    0.00000\n",
              "Средняя ЗП                 0.00000\n",
              "Регион                     0.00000\n",
              "Работодатель               0.00000\n",
              "Тип региона                0.00000\n",
              "dtype: float64"
            ]
          },
          "execution_count": 300,
          "metadata": {},
          "output_type": "execute_result"
        }
      ],
      "source": [
        "# Удалим не нужные стобцы :  salary_to , salary_from , avg_salary_from , avg_salary_to \n",
        "fill_data.drop(['salary_to' , 'salary_from' , 'avg_salary_from' , 'avg_salary_to' ,'area_id','employer_id','id'], axis=1, inplace=True)\n",
        "\n",
        "# переименуем признаки\n",
        "fill_data = fill_data.rename(columns={'name': 'Вакансия','key_skills':'Ключевые навыки','schedule':'Тип рабочего графика'\n",
        "                                      ,'experience':'Опыт работы','employment':'Тип трудоустройства'})\n",
        "\n",
        "# Создание нового признака 'Тип региона'\n",
        "lst ='Ташкент, Тбилиси, Чехия, Сербия, Армения, Кипр, Батуми, Нур-Султан, Алматы, Израиль, Абхазия, Польша, Бишкек, Литва, Баку, Турция, Минск, Черногория'\n",
        "lst = lst.replace(' ','')\n",
        "lst = lst.split(',') \n",
        "fill_data['Тип региона'] = fill_data['Регион'].apply(lambda x: 'Другие регионы' if x in lst else 'Россия')\n",
        "display(fill_data.head())\n",
        "\n",
        "#выводим результирующую долю пропусков\n",
        "fill_data.isnull().mean()"
      ]
    },
    {
      "cell_type": "markdown",
      "metadata": {},
      "source": [
        "#### Удаление дублей"
      ]
    },
    {
      "cell_type": "code",
      "execution_count": 301,
      "metadata": {},
      "outputs": [
        {
          "name": "stdout",
          "output_type": "stream",
          "text": [
            "размеры датафрейма после очистки (466, 10)\n"
          ]
        }
      ],
      "source": [
        "fill_data.drop_duplicates(subset=['Вакансия','Ключевые навыки','Тип рабочего графика','Опыт работы'\t\n",
        "                                  ,'Тип трудоустройства','Кол-во ключевых навыков','Средняя ЗП'\n",
        "                                  ,'Регион','Работодатель','Тип региона'])\n",
        "\n",
        "# размеры датафрейма\n",
        "print(f'размер датафрейма после очистки {fill_data.shape}')"
      ]
    },
    {
      "cell_type": "markdown",
      "metadata": {},
      "source": [
        "#### Поиск аномалий и зависимостей в вакансиях DS"
      ]
    },
    {
      "cell_type": "code",
      "execution_count": 302,
      "metadata": {},
      "outputs": [
        {
          "data": {
            "text/html": [
              "<div>\n",
              "<style scoped>\n",
              "    .dataframe tbody tr th:only-of-type {\n",
              "        vertical-align: middle;\n",
              "    }\n",
              "\n",
              "    .dataframe tbody tr th {\n",
              "        vertical-align: top;\n",
              "    }\n",
              "\n",
              "    .dataframe thead th {\n",
              "        text-align: right;\n",
              "    }\n",
              "</style>\n",
              "<table border=\"1\" class=\"dataframe\">\n",
              "  <thead>\n",
              "    <tr style=\"text-align: right;\">\n",
              "      <th></th>\n",
              "      <th>Кол-во ключевых навыков</th>\n",
              "      <th>Средняя ЗП</th>\n",
              "    </tr>\n",
              "  </thead>\n",
              "  <tbody>\n",
              "    <tr>\n",
              "      <th>count</th>\n",
              "      <td>466.000000</td>\n",
              "      <td>466.000000</td>\n",
              "    </tr>\n",
              "    <tr>\n",
              "      <th>mean</th>\n",
              "      <td>5.759657</td>\n",
              "      <td>184436.403433</td>\n",
              "    </tr>\n",
              "    <tr>\n",
              "      <th>std</th>\n",
              "      <td>3.508846</td>\n",
              "      <td>57063.823255</td>\n",
              "    </tr>\n",
              "    <tr>\n",
              "      <th>min</th>\n",
              "      <td>0.000000</td>\n",
              "      <td>49000.000000</td>\n",
              "    </tr>\n",
              "    <tr>\n",
              "      <th>25%</th>\n",
              "      <td>4.000000</td>\n",
              "      <td>150697.000000</td>\n",
              "    </tr>\n",
              "    <tr>\n",
              "      <th>50%</th>\n",
              "      <td>5.000000</td>\n",
              "      <td>152709.000000</td>\n",
              "    </tr>\n",
              "    <tr>\n",
              "      <th>75%</th>\n",
              "      <td>7.000000</td>\n",
              "      <td>247447.750000</td>\n",
              "    </tr>\n",
              "    <tr>\n",
              "      <th>max</th>\n",
              "      <td>20.000000</td>\n",
              "      <td>450000.000000</td>\n",
              "    </tr>\n",
              "  </tbody>\n",
              "</table>\n",
              "</div>"
            ],
            "text/plain": [
              "       Кол-во ключевых навыков     Средняя ЗП\n",
              "count               466.000000     466.000000\n",
              "mean                  5.759657  184436.403433\n",
              "std                   3.508846   57063.823255\n",
              "min                   0.000000   49000.000000\n",
              "25%                   4.000000  150697.000000\n",
              "50%                   5.000000  152709.000000\n",
              "75%                   7.000000  247447.750000\n",
              "max                  20.000000  450000.000000"
            ]
          },
          "metadata": {},
          "output_type": "display_data"
        }
      ],
      "source": [
        "# Смотрим статистику по всем числовым признакам\n",
        "display(fill_data.describe())"
      ]
    },
    {
      "cell_type": "markdown",
      "metadata": {},
      "source": [
        "> Предельные значения по признаку  'Кол-во ключевых навыков'  0 и 20\n",
        ",предельные значения по признаку 'Средняя ЗП' = 49000 и 450000 .Минимальные значения вполне допустимы по признаку 'Средняя ЗП'. Необходимо детальное рассмотрение данных с максимальными значениями в этих признаках и минимальном значении по признаку 'Кол-во ключевых навыков' "
      ]
    },
    {
      "cell_type": "code",
      "execution_count": 315,
      "metadata": {},
      "outputs": [
        {
          "name": "stdout",
          "output_type": "stream",
          "text": [
            "Данные с сортировкой по признаку \"Средняя ЗП\"\n"
          ]
        },
        {
          "data": {
            "text/html": [
              "<div>\n",
              "<style scoped>\n",
              "    .dataframe tbody tr th:only-of-type {\n",
              "        vertical-align: middle;\n",
              "    }\n",
              "\n",
              "    .dataframe tbody tr th {\n",
              "        vertical-align: top;\n",
              "    }\n",
              "\n",
              "    .dataframe thead th {\n",
              "        text-align: right;\n",
              "    }\n",
              "</style>\n",
              "<table border=\"1\" class=\"dataframe\">\n",
              "  <thead>\n",
              "    <tr style=\"text-align: right;\">\n",
              "      <th></th>\n",
              "      <th>Вакансия</th>\n",
              "      <th>Ключевые навыки</th>\n",
              "      <th>Тип рабочего графика</th>\n",
              "      <th>Опыт работы</th>\n",
              "      <th>Тип трудоустройства</th>\n",
              "      <th>Кол-во ключевых навыков</th>\n",
              "      <th>Средняя ЗП</th>\n",
              "      <th>Регион</th>\n",
              "      <th>Работодатель</th>\n",
              "      <th>Тип региона</th>\n",
              "    </tr>\n",
              "  </thead>\n",
              "  <tbody>\n",
              "    <tr>\n",
              "      <th>437</th>\n",
              "      <td>Junior Data Scientist (Стажер)</td>\n",
              "      <td>Python\\tSQL\\tData Mining\\tC++\\tМатематический ...</td>\n",
              "      <td>Гибкий график</td>\n",
              "      <td>Нет опыта</td>\n",
              "      <td>Стажировка</td>\n",
              "      <td>11</td>\n",
              "      <td>49000.0</td>\n",
              "      <td>Екатеринбург</td>\n",
              "      <td>КБ Уральский банк реконструкции и развития (УБ...</td>\n",
              "      <td>Россия</td>\n",
              "    </tr>\n",
              "    <tr>\n",
              "      <th>187</th>\n",
              "      <td>Data Scientist (Junior+)</td>\n",
              "      <td>Python\\tOpenCV\\tTensorflow\\tComputer Vision\\tН...</td>\n",
              "      <td>Полный день</td>\n",
              "      <td>От 1 года до 3 лет</td>\n",
              "      <td>Полная занятость</td>\n",
              "      <td>8</td>\n",
              "      <td>60000.0</td>\n",
              "      <td>Пермь</td>\n",
              "      <td>Випакс+</td>\n",
              "      <td>Россия</td>\n",
              "    </tr>\n",
              "    <tr>\n",
              "      <th>56</th>\n",
              "      <td>Ведущий AI/ML инженер</td>\n",
              "      <td>Python\\tUnix\\tАналитическое мышление\\tНейронны...</td>\n",
              "      <td>Удаленная работа</td>\n",
              "      <td>Нет опыта</td>\n",
              "      <td>Полная занятость</td>\n",
              "      <td>7</td>\n",
              "      <td>64000.0</td>\n",
              "      <td>Екатеринбург</td>\n",
              "      <td>SteadyControl</td>\n",
              "      <td>Россия</td>\n",
              "    </tr>\n",
              "    <tr>\n",
              "      <th>232</th>\n",
              "      <td>Специалист ML/DS</td>\n",
              "      <td>Python\\tNumpy\\tPyTorch\\tPandas\\tМатематический...</td>\n",
              "      <td>Полный день</td>\n",
              "      <td>От 3 до 6 лет</td>\n",
              "      <td>Полная занятость</td>\n",
              "      <td>9</td>\n",
              "      <td>67126.0</td>\n",
              "      <td>Алматы</td>\n",
              "      <td>Cybernet (Кибернет)</td>\n",
              "      <td>Другие регионы</td>\n",
              "    </tr>\n",
              "    <tr>\n",
              "      <th>44</th>\n",
              "      <td>Data Scientist (Junior)</td>\n",
              "      <td>Python\\tMachine Learning\\tPandas\\tSQL\\tNumpy\\t...</td>\n",
              "      <td>Полный день</td>\n",
              "      <td>Нет опыта</td>\n",
              "      <td>Частичная занятость</td>\n",
              "      <td>8</td>\n",
              "      <td>72500.0</td>\n",
              "      <td>Москва</td>\n",
              "      <td>Строительный Двор</td>\n",
              "      <td>Россия</td>\n",
              "    </tr>\n",
              "    <tr>\n",
              "      <th>...</th>\n",
              "      <td>...</td>\n",
              "      <td>...</td>\n",
              "      <td>...</td>\n",
              "      <td>...</td>\n",
              "      <td>...</td>\n",
              "      <td>...</td>\n",
              "      <td>...</td>\n",
              "      <td>...</td>\n",
              "      <td>...</td>\n",
              "      <td>...</td>\n",
              "    </tr>\n",
              "    <tr>\n",
              "      <th>169</th>\n",
              "      <td>Data Scientist</td>\n",
              "      <td>PyTorch\\tPython\\tTensorflow\\tComputer Vision\\t...</td>\n",
              "      <td>Полный день</td>\n",
              "      <td>От 3 до 6 лет</td>\n",
              "      <td>Полная занятость</td>\n",
              "      <td>5</td>\n",
              "      <td>297781.0</td>\n",
              "      <td>Санкт-Петербург</td>\n",
              "      <td>OVISION</td>\n",
              "      <td>Россия</td>\n",
              "    </tr>\n",
              "    <tr>\n",
              "      <th>243</th>\n",
              "      <td>Senior Data Scientist</td>\n",
              "      <td>Знание стека DS\\tЗнание теории машинного обуче...</td>\n",
              "      <td>Полный день</td>\n",
              "      <td>От 3 до 6 лет</td>\n",
              "      <td>Полная занятость</td>\n",
              "      <td>3</td>\n",
              "      <td>300000.0</td>\n",
              "      <td>Санкт-Петербург</td>\n",
              "      <td>JSA Group</td>\n",
              "      <td>Россия</td>\n",
              "    </tr>\n",
              "    <tr>\n",
              "      <th>242</th>\n",
              "      <td>Senior Data Scientist</td>\n",
              "      <td>Знание стека DS\\tЗнание теории машинного обуче...</td>\n",
              "      <td>Полный день</td>\n",
              "      <td>От 3 до 6 лет</td>\n",
              "      <td>Полная занятость</td>\n",
              "      <td>3</td>\n",
              "      <td>300000.0</td>\n",
              "      <td>Москва</td>\n",
              "      <td>JSA Group</td>\n",
              "      <td>Россия</td>\n",
              "    </tr>\n",
              "    <tr>\n",
              "      <th>100</th>\n",
              "      <td>ML &amp; Advanced analytics Lead / Lead Data Scien...</td>\n",
              "      <td>Tableau\\tАнглийский язык\\tPython\\tАнализ данны...</td>\n",
              "      <td>Полный день</td>\n",
              "      <td>От 3 до 6 лет</td>\n",
              "      <td>Полная занятость</td>\n",
              "      <td>5</td>\n",
              "      <td>350000.0</td>\n",
              "      <td>Москва</td>\n",
              "      <td>AppQuantum</td>\n",
              "      <td>Россия</td>\n",
              "    </tr>\n",
              "    <tr>\n",
              "      <th>452</th>\n",
              "      <td>ML Engineer \\ Data scientist</td>\n",
              "      <td>Нейронные сети\\tУдаленная работа\\tMachine Lear...</td>\n",
              "      <td>Полный день</td>\n",
              "      <td>От 3 до 6 лет</td>\n",
              "      <td>Полная занятость</td>\n",
              "      <td>4</td>\n",
              "      <td>450000.0</td>\n",
              "      <td>Москва</td>\n",
              "      <td>Итон</td>\n",
              "      <td>Россия</td>\n",
              "    </tr>\n",
              "  </tbody>\n",
              "</table>\n",
              "<p>466 rows × 10 columns</p>\n",
              "</div>"
            ],
            "text/plain": [
              "                                              Вакансия  \\\n",
              "437                     Junior Data Scientist (Стажер)   \n",
              "187                           Data Scientist (Junior+)   \n",
              "56                               Ведущий AI/ML инженер   \n",
              "232                                   Специалист ML/DS   \n",
              "44                             Data Scientist (Junior)   \n",
              "..                                                 ...   \n",
              "169                                     Data Scientist   \n",
              "243                              Senior Data Scientist   \n",
              "242                              Senior Data Scientist   \n",
              "100  ML & Advanced analytics Lead / Lead Data Scien...   \n",
              "452                       ML Engineer \\ Data scientist   \n",
              "\n",
              "                                       Ключевые навыки Тип рабочего графика  \\\n",
              "437  Python\\tSQL\\tData Mining\\tC++\\tМатематический ...        Гибкий график   \n",
              "187  Python\\tOpenCV\\tTensorflow\\tComputer Vision\\tН...          Полный день   \n",
              "56   Python\\tUnix\\tАналитическое мышление\\tНейронны...     Удаленная работа   \n",
              "232  Python\\tNumpy\\tPyTorch\\tPandas\\tМатематический...          Полный день   \n",
              "44   Python\\tMachine Learning\\tPandas\\tSQL\\tNumpy\\t...          Полный день   \n",
              "..                                                 ...                  ...   \n",
              "169  PyTorch\\tPython\\tTensorflow\\tComputer Vision\\t...          Полный день   \n",
              "243  Знание стека DS\\tЗнание теории машинного обуче...          Полный день   \n",
              "242  Знание стека DS\\tЗнание теории машинного обуче...          Полный день   \n",
              "100  Tableau\\tАнглийский язык\\tPython\\tАнализ данны...          Полный день   \n",
              "452  Нейронные сети\\tУдаленная работа\\tMachine Lear...          Полный день   \n",
              "\n",
              "            Опыт работы  Тип трудоустройства  Кол-во ключевых навыков  \\\n",
              "437           Нет опыта           Стажировка                       11   \n",
              "187  От 1 года до 3 лет     Полная занятость                        8   \n",
              "56            Нет опыта     Полная занятость                        7   \n",
              "232       От 3 до 6 лет     Полная занятость                        9   \n",
              "44            Нет опыта  Частичная занятость                        8   \n",
              "..                  ...                  ...                      ...   \n",
              "169       От 3 до 6 лет     Полная занятость                        5   \n",
              "243       От 3 до 6 лет     Полная занятость                        3   \n",
              "242       От 3 до 6 лет     Полная занятость                        3   \n",
              "100       От 3 до 6 лет     Полная занятость                        5   \n",
              "452       От 3 до 6 лет     Полная занятость                        4   \n",
              "\n",
              "     Средняя ЗП           Регион  \\\n",
              "437     49000.0     Екатеринбург   \n",
              "187     60000.0            Пермь   \n",
              "56      64000.0     Екатеринбург   \n",
              "232     67126.0           Алматы   \n",
              "44      72500.0           Москва   \n",
              "..          ...              ...   \n",
              "169    297781.0  Санкт-Петербург   \n",
              "243    300000.0  Санкт-Петербург   \n",
              "242    300000.0           Москва   \n",
              "100    350000.0           Москва   \n",
              "452    450000.0           Москва   \n",
              "\n",
              "                                          Работодатель     Тип региона  \n",
              "437  КБ Уральский банк реконструкции и развития (УБ...          Россия  \n",
              "187                                            Випакс+          Россия  \n",
              "56                                       SteadyControl          Россия  \n",
              "232                                Cybernet (Кибернет)  Другие регионы  \n",
              "44                                   Строительный Двор          Россия  \n",
              "..                                                 ...             ...  \n",
              "169                                            OVISION          Россия  \n",
              "243                                          JSA Group          Россия  \n",
              "242                                          JSA Group          Россия  \n",
              "100                                         AppQuantum          Россия  \n",
              "452                                               Итон          Россия  \n",
              "\n",
              "[466 rows x 10 columns]"
            ]
          },
          "metadata": {},
          "output_type": "display_data"
        },
        {
          "name": "stdout",
          "output_type": "stream",
          "text": [
            "Данные с сортировкой по признаку \"Кол-во ключевых навыков\"\n"
          ]
        },
        {
          "data": {
            "text/html": [
              "<div>\n",
              "<style scoped>\n",
              "    .dataframe tbody tr th:only-of-type {\n",
              "        vertical-align: middle;\n",
              "    }\n",
              "\n",
              "    .dataframe tbody tr th {\n",
              "        vertical-align: top;\n",
              "    }\n",
              "\n",
              "    .dataframe thead th {\n",
              "        text-align: right;\n",
              "    }\n",
              "</style>\n",
              "<table border=\"1\" class=\"dataframe\">\n",
              "  <thead>\n",
              "    <tr style=\"text-align: right;\">\n",
              "      <th></th>\n",
              "      <th>Вакансия</th>\n",
              "      <th>Ключевые навыки</th>\n",
              "      <th>Тип рабочего графика</th>\n",
              "      <th>Опыт работы</th>\n",
              "      <th>Тип трудоустройства</th>\n",
              "      <th>Кол-во ключевых навыков</th>\n",
              "      <th>Средняя ЗП</th>\n",
              "      <th>Регион</th>\n",
              "      <th>Работодатель</th>\n",
              "      <th>Тип региона</th>\n",
              "    </tr>\n",
              "  </thead>\n",
              "  <tbody>\n",
              "    <tr>\n",
              "      <th>233</th>\n",
              "      <td>Data Scientist</td>\n",
              "      <td>None</td>\n",
              "      <td>Полный день</td>\n",
              "      <td>От 3 до 6 лет</td>\n",
              "      <td>Полная занятость</td>\n",
              "      <td>0</td>\n",
              "      <td>247901.0</td>\n",
              "      <td>Москва</td>\n",
              "      <td>МСП Банк</td>\n",
              "      <td>Россия</td>\n",
              "    </tr>\n",
              "    <tr>\n",
              "      <th>33</th>\n",
              "      <td>Data scientist (розничные риски)</td>\n",
              "      <td>None</td>\n",
              "      <td>Удаленная работа</td>\n",
              "      <td>От 1 года до 3 лет</td>\n",
              "      <td>Полная занятость</td>\n",
              "      <td>0</td>\n",
              "      <td>145810.0</td>\n",
              "      <td>Казань</td>\n",
              "      <td>Ак Барс Банк</td>\n",
              "      <td>Россия</td>\n",
              "    </tr>\n",
              "    <tr>\n",
              "      <th>418</th>\n",
              "      <td>Data Scientist</td>\n",
              "      <td>None</td>\n",
              "      <td>Полный день</td>\n",
              "      <td>От 3 до 6 лет</td>\n",
              "      <td>Полная занятость</td>\n",
              "      <td>0</td>\n",
              "      <td>249576.0</td>\n",
              "      <td>Санкт-Петербург</td>\n",
              "      <td>БИОКАД, биотехнологическая компания</td>\n",
              "      <td>Россия</td>\n",
              "    </tr>\n",
              "    <tr>\n",
              "      <th>226</th>\n",
              "      <td>Senior/Team Lead Data Scientist</td>\n",
              "      <td>None</td>\n",
              "      <td>Полный день</td>\n",
              "      <td>От 3 до 6 лет</td>\n",
              "      <td>Полная занятость</td>\n",
              "      <td>0</td>\n",
              "      <td>247901.0</td>\n",
              "      <td>Москва</td>\n",
              "      <td>СБЕР</td>\n",
              "      <td>Россия</td>\n",
              "    </tr>\n",
              "    <tr>\n",
              "      <th>421</th>\n",
              "      <td>ML-инженер/разработчик NLP</td>\n",
              "      <td>None</td>\n",
              "      <td>Полный день</td>\n",
              "      <td>От 3 до 6 лет</td>\n",
              "      <td>Полная занятость</td>\n",
              "      <td>0</td>\n",
              "      <td>219391.0</td>\n",
              "      <td>Алматы</td>\n",
              "      <td>ALSECO, АО</td>\n",
              "      <td>Другие регионы</td>\n",
              "    </tr>\n",
              "    <tr>\n",
              "      <th>...</th>\n",
              "      <td>...</td>\n",
              "      <td>...</td>\n",
              "      <td>...</td>\n",
              "      <td>...</td>\n",
              "      <td>...</td>\n",
              "      <td>...</td>\n",
              "      <td>...</td>\n",
              "      <td>...</td>\n",
              "      <td>...</td>\n",
              "      <td>...</td>\n",
              "    </tr>\n",
              "    <tr>\n",
              "      <th>234</th>\n",
              "      <td>Data Scientist</td>\n",
              "      <td>Python\\tSQL\\tLinux\\tHadoop\\tАнализ данных\\tCat...</td>\n",
              "      <td>Полный день</td>\n",
              "      <td>От 3 до 6 лет</td>\n",
              "      <td>Полная занятость</td>\n",
              "      <td>17</td>\n",
              "      <td>247901.0</td>\n",
              "      <td>Москва</td>\n",
              "      <td>Яндекс</td>\n",
              "      <td>Россия</td>\n",
              "    </tr>\n",
              "    <tr>\n",
              "      <th>182</th>\n",
              "      <td>ML/DS Team Lead</td>\n",
              "      <td>PyTorch\\tPython\\tSQL\\tУправление проектами\\tNL...</td>\n",
              "      <td>Полный день</td>\n",
              "      <td>От 1 года до 3 лет</td>\n",
              "      <td>Полная занятость</td>\n",
              "      <td>19</td>\n",
              "      <td>152709.0</td>\n",
              "      <td>Москва</td>\n",
              "      <td>АНО ЦИСМ</td>\n",
              "      <td>Россия</td>\n",
              "    </tr>\n",
              "    <tr>\n",
              "      <th>223</th>\n",
              "      <td>Аналитик данных\\Data Scientist</td>\n",
              "      <td>Python\\tSQL\\tАнализ данных\\tСтатистический ана...</td>\n",
              "      <td>Полный день</td>\n",
              "      <td>От 1 года до 3 лет</td>\n",
              "      <td>Полная занятость</td>\n",
              "      <td>19</td>\n",
              "      <td>145810.0</td>\n",
              "      <td>Казань</td>\n",
              "      <td>Эттон</td>\n",
              "      <td>Россия</td>\n",
              "    </tr>\n",
              "    <tr>\n",
              "      <th>224</th>\n",
              "      <td>Аналитик данных\\Data Scientist</td>\n",
              "      <td>Python\\tSQL\\tАнализ данных\\tСтатистический ана...</td>\n",
              "      <td>Полный день</td>\n",
              "      <td>От 1 года до 3 лет</td>\n",
              "      <td>Полная занятость</td>\n",
              "      <td>19</td>\n",
              "      <td>149932.0</td>\n",
              "      <td>Иннополис</td>\n",
              "      <td>Эттон</td>\n",
              "      <td>Россия</td>\n",
              "    </tr>\n",
              "    <tr>\n",
              "      <th>181</th>\n",
              "      <td>Специалист по углубленной аналитике данных (Da...</td>\n",
              "      <td>SPSS\\tСтатистический анализ\\tStatistica\\tАнали...</td>\n",
              "      <td>Полный день</td>\n",
              "      <td>От 1 года до 3 лет</td>\n",
              "      <td>Полная занятость</td>\n",
              "      <td>20</td>\n",
              "      <td>149932.0</td>\n",
              "      <td>Минск</td>\n",
              "      <td>А1 (Унитарное предприятие А1)</td>\n",
              "      <td>Другие регионы</td>\n",
              "    </tr>\n",
              "  </tbody>\n",
              "</table>\n",
              "<p>466 rows × 10 columns</p>\n",
              "</div>"
            ],
            "text/plain": [
              "                                              Вакансия  \\\n",
              "233                                     Data Scientist   \n",
              "33                    Data scientist (розничные риски)   \n",
              "418                                     Data Scientist   \n",
              "226                    Senior/Team Lead Data Scientist   \n",
              "421                         ML-инженер/разработчик NLP   \n",
              "..                                                 ...   \n",
              "234                                     Data Scientist   \n",
              "182                                    ML/DS Team Lead   \n",
              "223                     Аналитик данных\\Data Scientist   \n",
              "224                     Аналитик данных\\Data Scientist   \n",
              "181  Специалист по углубленной аналитике данных (Da...   \n",
              "\n",
              "                                       Ключевые навыки Тип рабочего графика  \\\n",
              "233                                               None          Полный день   \n",
              "33                                                None     Удаленная работа   \n",
              "418                                               None          Полный день   \n",
              "226                                               None          Полный день   \n",
              "421                                               None          Полный день   \n",
              "..                                                 ...                  ...   \n",
              "234  Python\\tSQL\\tLinux\\tHadoop\\tАнализ данных\\tCat...          Полный день   \n",
              "182  PyTorch\\tPython\\tSQL\\tУправление проектами\\tNL...          Полный день   \n",
              "223  Python\\tSQL\\tАнализ данных\\tСтатистический ана...          Полный день   \n",
              "224  Python\\tSQL\\tАнализ данных\\tСтатистический ана...          Полный день   \n",
              "181  SPSS\\tСтатистический анализ\\tStatistica\\tАнали...          Полный день   \n",
              "\n",
              "            Опыт работы Тип трудоустройства  Кол-во ключевых навыков  \\\n",
              "233       От 3 до 6 лет    Полная занятость                        0   \n",
              "33   От 1 года до 3 лет    Полная занятость                        0   \n",
              "418       От 3 до 6 лет    Полная занятость                        0   \n",
              "226       От 3 до 6 лет    Полная занятость                        0   \n",
              "421       От 3 до 6 лет    Полная занятость                        0   \n",
              "..                  ...                 ...                      ...   \n",
              "234       От 3 до 6 лет    Полная занятость                       17   \n",
              "182  От 1 года до 3 лет    Полная занятость                       19   \n",
              "223  От 1 года до 3 лет    Полная занятость                       19   \n",
              "224  От 1 года до 3 лет    Полная занятость                       19   \n",
              "181  От 1 года до 3 лет    Полная занятость                       20   \n",
              "\n",
              "     Средняя ЗП           Регион                         Работодатель  \\\n",
              "233    247901.0           Москва                             МСП Банк   \n",
              "33     145810.0           Казань                         Ак Барс Банк   \n",
              "418    249576.0  Санкт-Петербург  БИОКАД, биотехнологическая компания   \n",
              "226    247901.0           Москва                                 СБЕР   \n",
              "421    219391.0           Алматы                           ALSECO, АО   \n",
              "..          ...              ...                                  ...   \n",
              "234    247901.0           Москва                               Яндекс   \n",
              "182    152709.0           Москва                             АНО ЦИСМ   \n",
              "223    145810.0           Казань                                Эттон   \n",
              "224    149932.0        Иннополис                                Эттон   \n",
              "181    149932.0            Минск        А1 (Унитарное предприятие А1)   \n",
              "\n",
              "        Тип региона  \n",
              "233          Россия  \n",
              "33           Россия  \n",
              "418          Россия  \n",
              "226          Россия  \n",
              "421  Другие регионы  \n",
              "..              ...  \n",
              "234          Россия  \n",
              "182          Россия  \n",
              "223          Россия  \n",
              "224          Россия  \n",
              "181  Другие регионы  \n",
              "\n",
              "[466 rows x 10 columns]"
            ]
          },
          "metadata": {},
          "output_type": "display_data"
        },
        {
          "name": "stdout",
          "output_type": "stream",
          "text": [
            "Размерность датасата (466, 10)\n"
          ]
        }
      ],
      "source": [
        "# Сначала выведем ко-во строк с предельными значениями\n",
        "mask1 = fill_data['Кол-во ключевых навыков'] > 7\n",
        "mask2 = fill_data['Кол-во ключевых навыков'] == 0\n",
        "mask3 = fill_data['Средняя ЗП'] > 400\n",
        "print('Данные с сортировкой по признаку \"Средняя ЗП\"')\n",
        "display(fill_data[mask1 | mask2 | mask3].sort_values(['Средняя ЗП']))\n",
        "print('Данные с сортировкой по признаку \"Кол-во ключевых навыков\"')\n",
        "display(fill_data[mask1 | mask2 | mask3].sort_values(['Кол-во ключевых навыков']))\n",
        "print('Размерность датасета',fill_data[mask1 | mask2 | mask3].shape)"
      ]
    },
    {
      "cell_type": "markdown",
      "metadata": {},
      "source": [
        "> Кол-во строк по предельным значениям по двум признакам совпало с кол-вом строк в очищенном датасете, поэтому исследуем все данные "
      ]
    },
    {
      "cell_type": "markdown",
      "metadata": {},
      "source": [
        "##### Построим коробчатые диаграммы по этим признакам"
      ]
    },
    {
      "cell_type": "code",
      "execution_count": 319,
      "metadata": {},
      "outputs": [
        {
          "data": {
            "application/vnd.plotly.v1+json": {
              "config": {
                "plotlyServerURL": "https://plot.ly"
              },
              "data": [
                {
                  "alignmentgroup": "True",
                  "hovertemplate": "Тип региона=Россия<br>Опыт работы=%{x}<br>Средняя ЗП=%{y}<extra></extra>",
                  "legendgroup": "Россия",
                  "marker": {
                    "color": "#636efa"
                  },
                  "name": "Россия",
                  "notched": false,
                  "offsetgroup": "Россия",
                  "orientation": "v",
                  "showlegend": true,
                  "type": "box",
                  "x": [
                    "От 3 до 6 лет",
                    "От 1 года до 3 лет",
                    "От 1 года до 3 лет",
                    "От 1 года до 3 лет",
                    "От 3 до 6 лет",
                    "От 3 до 6 лет",
                    "От 3 до 6 лет",
                    "От 3 до 6 лет",
                    "От 3 до 6 лет",
                    "От 3 до 6 лет",
                    "От 3 до 6 лет",
                    "От 3 до 6 лет",
                    "От 3 до 6 лет",
                    "От 1 года до 3 лет",
                    "От 1 года до 3 лет",
                    "От 3 до 6 лет",
                    "Нет опыта",
                    "От 1 года до 3 лет",
                    "От 1 года до 3 лет",
                    "Нет опыта",
                    "От 1 года до 3 лет",
                    "Более 6 лет",
                    "От 1 года до 3 лет",
                    "Нет опыта",
                    "От 3 до 6 лет",
                    "От 1 года до 3 лет",
                    "От 1 года до 3 лет",
                    "Нет опыта",
                    "Нет опыта",
                    "От 3 до 6 лет",
                    "От 3 до 6 лет",
                    "От 1 года до 3 лет",
                    "От 1 года до 3 лет",
                    "От 3 до 6 лет",
                    "От 1 года до 3 лет",
                    "От 1 года до 3 лет",
                    "От 1 года до 3 лет",
                    "От 1 года до 3 лет",
                    "От 3 до 6 лет",
                    "От 1 года до 3 лет",
                    "От 3 до 6 лет",
                    "От 3 до 6 лет",
                    "Нет опыта",
                    "Нет опыта",
                    "От 1 года до 3 лет",
                    "От 3 до 6 лет",
                    "От 3 до 6 лет",
                    "От 3 до 6 лет",
                    "От 1 года до 3 лет",
                    "От 3 до 6 лет",
                    "От 3 до 6 лет",
                    "От 3 до 6 лет",
                    "От 1 года до 3 лет",
                    "Нет опыта",
                    "От 1 года до 3 лет",
                    "От 3 до 6 лет",
                    "От 1 года до 3 лет",
                    "От 1 года до 3 лет",
                    "От 1 года до 3 лет",
                    "От 1 года до 3 лет",
                    "От 1 года до 3 лет",
                    "От 1 года до 3 лет",
                    "От 1 года до 3 лет",
                    "От 1 года до 3 лет",
                    "От 3 до 6 лет",
                    "От 3 до 6 лет",
                    "От 1 года до 3 лет",
                    "От 1 года до 3 лет",
                    "От 1 года до 3 лет",
                    "От 1 года до 3 лет",
                    "От 1 года до 3 лет",
                    "От 3 до 6 лет",
                    "От 1 года до 3 лет",
                    "От 1 года до 3 лет",
                    "От 3 до 6 лет",
                    "От 3 до 6 лет",
                    "От 3 до 6 лет",
                    "От 1 года до 3 лет",
                    "От 3 до 6 лет",
                    "От 3 до 6 лет",
                    "От 3 до 6 лет",
                    "От 1 года до 3 лет",
                    "От 1 года до 3 лет",
                    "От 1 года до 3 лет",
                    "От 1 года до 3 лет",
                    "От 1 года до 3 лет",
                    "От 3 до 6 лет",
                    "От 3 до 6 лет",
                    "От 3 до 6 лет",
                    "От 1 года до 3 лет",
                    "От 3 до 6 лет",
                    "От 1 года до 3 лет",
                    "От 1 года до 3 лет",
                    "От 1 года до 3 лет",
                    "От 3 до 6 лет",
                    "От 3 до 6 лет",
                    "От 3 до 6 лет",
                    "Нет опыта",
                    "От 1 года до 3 лет",
                    "От 3 до 6 лет",
                    "От 3 до 6 лет",
                    "От 3 до 6 лет",
                    "От 3 до 6 лет",
                    "От 3 до 6 лет",
                    "От 1 года до 3 лет",
                    "От 3 до 6 лет",
                    "От 1 года до 3 лет",
                    "От 1 года до 3 лет",
                    "Нет опыта",
                    "От 3 до 6 лет",
                    "От 3 до 6 лет",
                    "От 3 до 6 лет",
                    "От 3 до 6 лет",
                    "От 1 года до 3 лет",
                    "От 3 до 6 лет",
                    "От 3 до 6 лет",
                    "От 1 года до 3 лет",
                    "От 1 года до 3 лет",
                    "От 1 года до 3 лет",
                    "От 1 года до 3 лет",
                    "От 1 года до 3 лет",
                    "От 1 года до 3 лет",
                    "От 3 до 6 лет",
                    "От 3 до 6 лет",
                    "От 3 до 6 лет",
                    "Более 6 лет",
                    "От 3 до 6 лет",
                    "Более 6 лет",
                    "Более 6 лет",
                    "От 3 до 6 лет",
                    "От 1 года до 3 лет",
                    "От 1 года до 3 лет",
                    "От 1 года до 3 лет",
                    "От 1 года до 3 лет",
                    "От 3 до 6 лет",
                    "От 1 года до 3 лет",
                    "От 3 до 6 лет",
                    "От 1 года до 3 лет",
                    "От 3 до 6 лет",
                    "От 3 до 6 лет",
                    "От 3 до 6 лет",
                    "От 1 года до 3 лет",
                    "От 1 года до 3 лет",
                    "От 3 до 6 лет",
                    "От 1 года до 3 лет",
                    "От 1 года до 3 лет",
                    "От 1 года до 3 лет",
                    "От 1 года до 3 лет",
                    "От 1 года до 3 лет",
                    "От 1 года до 3 лет",
                    "От 1 года до 3 лет",
                    "От 3 до 6 лет",
                    "От 1 года до 3 лет",
                    "От 1 года до 3 лет",
                    "От 1 года до 3 лет",
                    "Более 6 лет",
                    "Более 6 лет",
                    "От 3 до 6 лет",
                    "От 3 до 6 лет",
                    "От 1 года до 3 лет",
                    "От 1 года до 3 лет",
                    "От 3 до 6 лет",
                    "От 3 до 6 лет",
                    "От 1 года до 3 лет",
                    "От 3 до 6 лет",
                    "Более 6 лет",
                    "Более 6 лет",
                    "Более 6 лет",
                    "Более 6 лет",
                    "От 1 года до 3 лет",
                    "От 3 до 6 лет",
                    "От 1 года до 3 лет",
                    "От 3 до 6 лет",
                    "От 3 до 6 лет",
                    "От 3 до 6 лет",
                    "От 3 до 6 лет",
                    "От 3 до 6 лет",
                    "От 3 до 6 лет",
                    "От 3 до 6 лет",
                    "От 1 года до 3 лет",
                    "От 1 года до 3 лет",
                    "От 1 года до 3 лет",
                    "От 1 года до 3 лет",
                    "От 1 года до 3 лет",
                    "От 1 года до 3 лет",
                    "От 1 года до 3 лет",
                    "От 3 до 6 лет",
                    "От 3 до 6 лет",
                    "От 1 года до 3 лет",
                    "От 1 года до 3 лет",
                    "От 1 года до 3 лет",
                    "От 1 года до 3 лет",
                    "От 1 года до 3 лет",
                    "От 3 до 6 лет",
                    "От 3 до 6 лет",
                    "От 1 года до 3 лет",
                    "От 3 до 6 лет",
                    "От 1 года до 3 лет",
                    "От 3 до 6 лет",
                    "От 3 до 6 лет",
                    "От 3 до 6 лет",
                    "От 3 до 6 лет",
                    "Нет опыта",
                    "От 1 года до 3 лет",
                    "От 1 года до 3 лет",
                    "От 1 года до 3 лет",
                    "От 1 года до 3 лет",
                    "От 3 до 6 лет",
                    "От 3 до 6 лет",
                    "От 1 года до 3 лет",
                    "От 3 до 6 лет",
                    "От 3 до 6 лет",
                    "От 3 до 6 лет",
                    "Нет опыта",
                    "От 3 до 6 лет",
                    "Нет опыта",
                    "От 3 до 6 лет",
                    "От 1 года до 3 лет",
                    "От 3 до 6 лет",
                    "От 3 до 6 лет",
                    "От 3 до 6 лет",
                    "От 1 года до 3 лет",
                    "От 1 года до 3 лет",
                    "От 3 до 6 лет",
                    "От 1 года до 3 лет",
                    "От 1 года до 3 лет",
                    "От 3 до 6 лет",
                    "От 1 года до 3 лет",
                    "От 3 до 6 лет",
                    "От 3 до 6 лет",
                    "От 1 года до 3 лет",
                    "От 1 года до 3 лет",
                    "От 1 года до 3 лет",
                    "От 1 года до 3 лет",
                    "От 3 до 6 лет",
                    "От 1 года до 3 лет",
                    "От 1 года до 3 лет",
                    "Более 6 лет",
                    "От 3 до 6 лет",
                    "От 3 до 6 лет",
                    "От 1 года до 3 лет",
                    "От 1 года до 3 лет",
                    "От 1 года до 3 лет",
                    "От 1 года до 3 лет",
                    "Более 6 лет",
                    "От 3 до 6 лет",
                    "От 1 года до 3 лет",
                    "От 3 до 6 лет",
                    "От 1 года до 3 лет",
                    "От 1 года до 3 лет",
                    "От 1 года до 3 лет",
                    "От 1 года до 3 лет",
                    "От 1 года до 3 лет",
                    "От 3 до 6 лет",
                    "От 1 года до 3 лет",
                    "От 1 года до 3 лет",
                    "От 3 до 6 лет",
                    "Нет опыта",
                    "От 3 до 6 лет",
                    "От 1 года до 3 лет",
                    "От 3 до 6 лет",
                    "От 3 до 6 лет",
                    "От 1 года до 3 лет",
                    "От 3 до 6 лет",
                    "Нет опыта",
                    "От 1 года до 3 лет",
                    "От 1 года до 3 лет",
                    "От 3 до 6 лет",
                    "От 3 до 6 лет",
                    "Нет опыта",
                    "Более 6 лет",
                    "От 1 года до 3 лет",
                    "От 1 года до 3 лет",
                    "От 1 года до 3 лет",
                    "От 3 до 6 лет",
                    "От 1 года до 3 лет",
                    "От 3 до 6 лет",
                    "От 3 до 6 лет",
                    "От 1 года до 3 лет",
                    "От 1 года до 3 лет",
                    "От 1 года до 3 лет",
                    "От 3 до 6 лет",
                    "От 3 до 6 лет",
                    "От 1 года до 3 лет",
                    "От 3 до 6 лет",
                    "От 3 до 6 лет",
                    "От 1 года до 3 лет",
                    "От 3 до 6 лет",
                    "Нет опыта",
                    "От 1 года до 3 лет",
                    "От 3 до 6 лет",
                    "От 1 года до 3 лет",
                    "От 1 года до 3 лет",
                    "От 1 года до 3 лет",
                    "От 1 года до 3 лет",
                    "От 1 года до 3 лет",
                    "От 1 года до 3 лет",
                    "От 1 года до 3 лет",
                    "От 1 года до 3 лет",
                    "От 1 года до 3 лет",
                    "От 3 до 6 лет",
                    "От 1 года до 3 лет",
                    "От 1 года до 3 лет",
                    "От 1 года до 3 лет",
                    "От 1 года до 3 лет",
                    "От 1 года до 3 лет",
                    "От 1 года до 3 лет",
                    "От 1 года до 3 лет",
                    "От 1 года до 3 лет",
                    "От 1 года до 3 лет",
                    "От 1 года до 3 лет",
                    "От 1 года до 3 лет",
                    "От 1 года до 3 лет",
                    "От 1 года до 3 лет",
                    "От 3 до 6 лет",
                    "От 1 года до 3 лет",
                    "От 1 года до 3 лет",
                    "От 1 года до 3 лет",
                    "От 1 года до 3 лет",
                    "От 1 года до 3 лет",
                    "От 1 года до 3 лет",
                    "От 3 до 6 лет",
                    "От 3 до 6 лет",
                    "От 3 до 6 лет",
                    "От 3 до 6 лет",
                    "Нет опыта",
                    "Более 6 лет",
                    "От 3 до 6 лет",
                    "От 1 года до 3 лет",
                    "От 1 года до 3 лет",
                    "Нет опыта",
                    "От 1 года до 3 лет",
                    "От 1 года до 3 лет",
                    "От 3 до 6 лет",
                    "От 3 до 6 лет",
                    "От 3 до 6 лет",
                    "Нет опыта",
                    "Нет опыта",
                    "От 1 года до 3 лет",
                    "От 3 до 6 лет",
                    "От 3 до 6 лет",
                    "От 3 до 6 лет",
                    "От 3 до 6 лет",
                    "От 3 до 6 лет",
                    "От 3 до 6 лет",
                    "От 3 до 6 лет",
                    "От 1 года до 3 лет",
                    "От 1 года до 3 лет",
                    "От 3 до 6 лет",
                    "От 3 до 6 лет",
                    "От 3 до 6 лет",
                    "От 1 года до 3 лет",
                    "Нет опыта",
                    "Нет опыта",
                    "Нет опыта",
                    "От 1 года до 3 лет",
                    "От 1 года до 3 лет",
                    "От 1 года до 3 лет",
                    "От 1 года до 3 лет",
                    "От 3 до 6 лет",
                    "От 1 года до 3 лет",
                    "От 1 года до 3 лет",
                    "От 3 до 6 лет",
                    "От 1 года до 3 лет",
                    "Нет опыта",
                    "От 3 до 6 лет",
                    "От 1 года до 3 лет",
                    "От 1 года до 3 лет",
                    "От 3 до 6 лет",
                    "От 1 года до 3 лет",
                    "От 1 года до 3 лет",
                    "От 1 года до 3 лет",
                    "От 1 года до 3 лет",
                    "От 1 года до 3 лет",
                    "От 1 года до 3 лет",
                    "От 1 года до 3 лет",
                    "Нет опыта",
                    "Нет опыта",
                    "От 1 года до 3 лет",
                    "От 1 года до 3 лет",
                    "От 1 года до 3 лет",
                    "От 1 года до 3 лет",
                    "От 1 года до 3 лет",
                    "От 1 года до 3 лет",
                    "От 3 до 6 лет",
                    "От 1 года до 3 лет",
                    "От 3 до 6 лет",
                    "От 3 до 6 лет",
                    "От 3 до 6 лет",
                    "От 3 до 6 лет",
                    "От 3 до 6 лет",
                    "От 3 до 6 лет",
                    "От 3 до 6 лет",
                    "От 1 года до 3 лет",
                    "От 1 года до 3 лет",
                    "От 1 года до 3 лет",
                    "От 1 года до 3 лет",
                    "От 1 года до 3 лет",
                    "От 1 года до 3 лет"
                  ],
                  "x0": " ",
                  "xaxis": "x",
                  "y": [
                    249576,
                    152709,
                    150697,
                    150697,
                    247901,
                    247901,
                    247901,
                    249576,
                    244769,
                    246088,
                    244769,
                    249576,
                    249576,
                    152709,
                    139611,
                    295295,
                    78350,
                    149932,
                    150697,
                    78350,
                    105000,
                    152709,
                    149932,
                    115000,
                    247901,
                    105676,
                    149932,
                    79000,
                    79000,
                    247901,
                    244769,
                    145810,
                    150697,
                    244769,
                    149932,
                    150697,
                    149932,
                    152709,
                    247901,
                    149932,
                    192648,
                    244769,
                    72500,
                    79000,
                    152709,
                    247901,
                    247901,
                    249576,
                    145810,
                    249576,
                    247901,
                    247901,
                    150697,
                    64000,
                    152709,
                    244769,
                    152709,
                    152709,
                    152709,
                    150000,
                    152709,
                    152709,
                    128514,
                    152709,
                    247901,
                    249576,
                    148099,
                    152709,
                    152709,
                    149932,
                    152709,
                    247901,
                    152709,
                    150697,
                    250000,
                    247901,
                    247901,
                    152709,
                    244769,
                    244769,
                    246088,
                    152709,
                    152709,
                    152709,
                    152709,
                    152709,
                    247901,
                    247901,
                    247901,
                    149932,
                    247901,
                    128099,
                    127095,
                    152709,
                    247901,
                    247901,
                    350000,
                    79334,
                    149932,
                    244769,
                    247901,
                    249576,
                    244769,
                    249576,
                    152709,
                    249576,
                    152709,
                    152709,
                    80000,
                    249646,
                    247901,
                    247901,
                    247901,
                    152709,
                    247901,
                    247901,
                    152709,
                    152709,
                    152709,
                    275000,
                    152709,
                    152709,
                    247901,
                    247901,
                    244769,
                    152709,
                    247901,
                    152709,
                    152709,
                    247901,
                    225000,
                    150697,
                    152709,
                    152709,
                    247901,
                    189611,
                    247901,
                    150697,
                    297781,
                    247901,
                    247901,
                    150697,
                    152709,
                    247901,
                    152709,
                    149932,
                    145810,
                    149932,
                    149932,
                    150697,
                    152709,
                    247901,
                    152709,
                    152709,
                    60000,
                    152709,
                    152709,
                    244769,
                    244769,
                    152709,
                    150697,
                    247901,
                    247901,
                    152709,
                    247901,
                    152709,
                    152709,
                    152709,
                    152709,
                    152709,
                    247901,
                    152709,
                    247901,
                    247901,
                    247901,
                    247901,
                    244769,
                    247901,
                    249576,
                    152709,
                    152709,
                    152709,
                    152709,
                    161644,
                    152709,
                    150697,
                    247901,
                    247901,
                    152709,
                    152709,
                    145810,
                    149932,
                    152709,
                    247901,
                    247901,
                    152709,
                    247901,
                    152709,
                    247901,
                    247901,
                    247901,
                    249576,
                    78350,
                    205000,
                    152709,
                    150697,
                    150697,
                    300000,
                    300000,
                    152709,
                    247901,
                    247901,
                    247901,
                    78350,
                    247901,
                    84167,
                    247901,
                    152709,
                    225000,
                    247901,
                    247901,
                    152709,
                    152709,
                    155000,
                    149932,
                    150697,
                    247901,
                    152709,
                    248255,
                    247901,
                    150697,
                    152709,
                    149932,
                    152709,
                    247901,
                    152709,
                    175500,
                    152709,
                    244769,
                    225000,
                    152709,
                    152709,
                    150697,
                    152709,
                    152709,
                    199475,
                    149932,
                    247901,
                    150697,
                    152709,
                    145810,
                    152709,
                    152709,
                    247901,
                    275000,
                    152709,
                    249576,
                    78350,
                    247901,
                    152709,
                    248255,
                    247901,
                    112837,
                    247901,
                    78350,
                    152709,
                    152709,
                    244769,
                    247901,
                    78350,
                    152709,
                    152709,
                    152709,
                    152709,
                    247901,
                    152709,
                    244769,
                    247901,
                    152709,
                    152709,
                    152709,
                    247901,
                    247901,
                    152709,
                    247901,
                    273255,
                    152709,
                    140000,
                    84167,
                    152709,
                    247901,
                    150697,
                    225000,
                    152709,
                    150697,
                    149932,
                    149932,
                    145810,
                    149932,
                    149611,
                    247901,
                    152709,
                    149932,
                    145810,
                    150697,
                    140658,
                    149932,
                    149932,
                    149932,
                    149932,
                    145810,
                    149932,
                    149932,
                    140658,
                    275000,
                    152709,
                    152709,
                    150697,
                    149932,
                    149932,
                    152709,
                    247901,
                    247901,
                    249576,
                    247901,
                    78000,
                    152709,
                    247901,
                    149932,
                    107095,
                    78350,
                    75000,
                    150697,
                    244769,
                    244769,
                    244769,
                    79000,
                    83500,
                    137837,
                    244769,
                    244769,
                    246088,
                    244769,
                    249576,
                    246088,
                    244769,
                    143500,
                    152709,
                    244769,
                    246088,
                    244769,
                    150697,
                    84167,
                    79334,
                    79000,
                    149932,
                    149932,
                    140658,
                    150697,
                    204795,
                    152709,
                    150697,
                    249576,
                    149932,
                    78350,
                    249576,
                    149932,
                    150697,
                    249576,
                    152709,
                    150697,
                    110000,
                    150000,
                    150000,
                    150370,
                    149932,
                    80167,
                    49000,
                    149932,
                    152709,
                    112837,
                    149932,
                    152709,
                    150697,
                    249576,
                    143884,
                    249576,
                    246088,
                    244769,
                    244769,
                    244769,
                    450000,
                    244769,
                    149932,
                    152709,
                    150697,
                    94730,
                    152709,
                    149932
                  ],
                  "y0": " ",
                  "yaxis": "y"
                },
                {
                  "alignmentgroup": "True",
                  "hovertemplate": "Тип региона=Другие регионы<br>Опыт работы=%{x}<br>Средняя ЗП=%{y}<extra></extra>",
                  "legendgroup": "Другие регионы",
                  "marker": {
                    "color": "#EF553B"
                  },
                  "name": "Другие регионы",
                  "notched": false,
                  "offsetgroup": "Другие регионы",
                  "orientation": "v",
                  "showlegend": true,
                  "type": "box",
                  "x": [
                    "От 1 года до 3 лет",
                    "От 3 до 6 лет",
                    "От 3 до 6 лет",
                    "От 3 до 6 лет",
                    "От 1 года до 3 лет",
                    "От 1 года до 3 лет",
                    "От 3 до 6 лет",
                    "От 3 до 6 лет",
                    "От 3 до 6 лет",
                    "От 3 до 6 лет",
                    "От 1 года до 3 лет",
                    "От 3 до 6 лет",
                    "Более 6 лет",
                    "Более 6 лет",
                    "Более 6 лет",
                    "Более 6 лет",
                    "Более 6 лет",
                    "Более 6 лет",
                    "Более 6 лет",
                    "Более 6 лет",
                    "Более 6 лет",
                    "Более 6 лет",
                    "Более 6 лет",
                    "Более 6 лет",
                    "Более 6 лет",
                    "Более 6 лет",
                    "Более 6 лет",
                    "Более 6 лет",
                    "Более 6 лет",
                    "Более 6 лет",
                    "Более 6 лет",
                    "От 1 года до 3 лет",
                    "От 1 года до 3 лет",
                    "От 3 до 6 лет",
                    "От 3 до 6 лет",
                    "От 1 года до 3 лет",
                    "Более 6 лет",
                    "От 3 до 6 лет",
                    "От 3 до 6 лет",
                    "От 3 до 6 лет",
                    "От 3 до 6 лет",
                    "От 1 года до 3 лет",
                    "От 3 до 6 лет",
                    "От 3 до 6 лет",
                    "От 1 года до 3 лет",
                    "Нет опыта",
                    "От 1 года до 3 лет",
                    "От 3 до 6 лет",
                    "От 3 до 6 лет",
                    "От 1 года до 3 лет",
                    "От 1 года до 3 лет",
                    "От 3 до 6 лет",
                    "От 3 до 6 лет",
                    "От 3 до 6 лет",
                    "От 3 до 6 лет",
                    "От 1 года до 3 лет",
                    "От 3 до 6 лет",
                    "От 1 года до 3 лет",
                    "От 3 до 6 лет",
                    "От 1 года до 3 лет",
                    "От 3 до 6 лет",
                    "От 3 до 6 лет",
                    "От 3 до 6 лет",
                    "От 3 до 6 лет",
                    "От 3 до 6 лет",
                    "От 3 до 6 лет",
                    "От 3 до 6 лет"
                  ],
                  "x0": " ",
                  "xaxis": "x",
                  "y": [
                    122047,
                    244769,
                    219391,
                    244769,
                    149932,
                    149932,
                    244769,
                    244769,
                    244769,
                    244769,
                    145948,
                    244769,
                    152709,
                    152709,
                    152709,
                    152709,
                    152709,
                    152709,
                    152709,
                    152709,
                    152709,
                    152709,
                    152709,
                    152709,
                    152709,
                    152709,
                    152709,
                    152709,
                    152709,
                    152709,
                    152709,
                    149932,
                    145948,
                    67126,
                    295295,
                    149932,
                    152709,
                    244769,
                    219391,
                    219391,
                    245596,
                    145948,
                    245596,
                    210527,
                    145948,
                    79000,
                    149932,
                    219391,
                    244769,
                    149932,
                    145948,
                    261611,
                    216372,
                    216372,
                    216372,
                    145948,
                    219391,
                    149932,
                    261611,
                    149932,
                    244769,
                    236622,
                    230571,
                    244769,
                    244769,
                    244769,
                    219391
                  ],
                  "y0": " ",
                  "yaxis": "y"
                }
              ],
              "layout": {
                "boxmode": "group",
                "height": 700,
                "legend": {
                  "title": {
                    "text": "Тип региона"
                  },
                  "tracegroupgap": 0
                },
                "template": {
                  "data": {
                    "bar": [
                      {
                        "error_x": {
                          "color": "#2a3f5f"
                        },
                        "error_y": {
                          "color": "#2a3f5f"
                        },
                        "marker": {
                          "line": {
                            "color": "#E5ECF6",
                            "width": 0.5
                          },
                          "pattern": {
                            "fillmode": "overlay",
                            "size": 10,
                            "solidity": 0.2
                          }
                        },
                        "type": "bar"
                      }
                    ],
                    "barpolar": [
                      {
                        "marker": {
                          "line": {
                            "color": "#E5ECF6",
                            "width": 0.5
                          },
                          "pattern": {
                            "fillmode": "overlay",
                            "size": 10,
                            "solidity": 0.2
                          }
                        },
                        "type": "barpolar"
                      }
                    ],
                    "carpet": [
                      {
                        "aaxis": {
                          "endlinecolor": "#2a3f5f",
                          "gridcolor": "white",
                          "linecolor": "white",
                          "minorgridcolor": "white",
                          "startlinecolor": "#2a3f5f"
                        },
                        "baxis": {
                          "endlinecolor": "#2a3f5f",
                          "gridcolor": "white",
                          "linecolor": "white",
                          "minorgridcolor": "white",
                          "startlinecolor": "#2a3f5f"
                        },
                        "type": "carpet"
                      }
                    ],
                    "choropleth": [
                      {
                        "colorbar": {
                          "outlinewidth": 0,
                          "ticks": ""
                        },
                        "type": "choropleth"
                      }
                    ],
                    "contour": [
                      {
                        "colorbar": {
                          "outlinewidth": 0,
                          "ticks": ""
                        },
                        "colorscale": [
                          [
                            0,
                            "#0d0887"
                          ],
                          [
                            0.1111111111111111,
                            "#46039f"
                          ],
                          [
                            0.2222222222222222,
                            "#7201a8"
                          ],
                          [
                            0.3333333333333333,
                            "#9c179e"
                          ],
                          [
                            0.4444444444444444,
                            "#bd3786"
                          ],
                          [
                            0.5555555555555556,
                            "#d8576b"
                          ],
                          [
                            0.6666666666666666,
                            "#ed7953"
                          ],
                          [
                            0.7777777777777778,
                            "#fb9f3a"
                          ],
                          [
                            0.8888888888888888,
                            "#fdca26"
                          ],
                          [
                            1,
                            "#f0f921"
                          ]
                        ],
                        "type": "contour"
                      }
                    ],
                    "contourcarpet": [
                      {
                        "colorbar": {
                          "outlinewidth": 0,
                          "ticks": ""
                        },
                        "type": "contourcarpet"
                      }
                    ],
                    "heatmap": [
                      {
                        "colorbar": {
                          "outlinewidth": 0,
                          "ticks": ""
                        },
                        "colorscale": [
                          [
                            0,
                            "#0d0887"
                          ],
                          [
                            0.1111111111111111,
                            "#46039f"
                          ],
                          [
                            0.2222222222222222,
                            "#7201a8"
                          ],
                          [
                            0.3333333333333333,
                            "#9c179e"
                          ],
                          [
                            0.4444444444444444,
                            "#bd3786"
                          ],
                          [
                            0.5555555555555556,
                            "#d8576b"
                          ],
                          [
                            0.6666666666666666,
                            "#ed7953"
                          ],
                          [
                            0.7777777777777778,
                            "#fb9f3a"
                          ],
                          [
                            0.8888888888888888,
                            "#fdca26"
                          ],
                          [
                            1,
                            "#f0f921"
                          ]
                        ],
                        "type": "heatmap"
                      }
                    ],
                    "heatmapgl": [
                      {
                        "colorbar": {
                          "outlinewidth": 0,
                          "ticks": ""
                        },
                        "colorscale": [
                          [
                            0,
                            "#0d0887"
                          ],
                          [
                            0.1111111111111111,
                            "#46039f"
                          ],
                          [
                            0.2222222222222222,
                            "#7201a8"
                          ],
                          [
                            0.3333333333333333,
                            "#9c179e"
                          ],
                          [
                            0.4444444444444444,
                            "#bd3786"
                          ],
                          [
                            0.5555555555555556,
                            "#d8576b"
                          ],
                          [
                            0.6666666666666666,
                            "#ed7953"
                          ],
                          [
                            0.7777777777777778,
                            "#fb9f3a"
                          ],
                          [
                            0.8888888888888888,
                            "#fdca26"
                          ],
                          [
                            1,
                            "#f0f921"
                          ]
                        ],
                        "type": "heatmapgl"
                      }
                    ],
                    "histogram": [
                      {
                        "marker": {
                          "pattern": {
                            "fillmode": "overlay",
                            "size": 10,
                            "solidity": 0.2
                          }
                        },
                        "type": "histogram"
                      }
                    ],
                    "histogram2d": [
                      {
                        "colorbar": {
                          "outlinewidth": 0,
                          "ticks": ""
                        },
                        "colorscale": [
                          [
                            0,
                            "#0d0887"
                          ],
                          [
                            0.1111111111111111,
                            "#46039f"
                          ],
                          [
                            0.2222222222222222,
                            "#7201a8"
                          ],
                          [
                            0.3333333333333333,
                            "#9c179e"
                          ],
                          [
                            0.4444444444444444,
                            "#bd3786"
                          ],
                          [
                            0.5555555555555556,
                            "#d8576b"
                          ],
                          [
                            0.6666666666666666,
                            "#ed7953"
                          ],
                          [
                            0.7777777777777778,
                            "#fb9f3a"
                          ],
                          [
                            0.8888888888888888,
                            "#fdca26"
                          ],
                          [
                            1,
                            "#f0f921"
                          ]
                        ],
                        "type": "histogram2d"
                      }
                    ],
                    "histogram2dcontour": [
                      {
                        "colorbar": {
                          "outlinewidth": 0,
                          "ticks": ""
                        },
                        "colorscale": [
                          [
                            0,
                            "#0d0887"
                          ],
                          [
                            0.1111111111111111,
                            "#46039f"
                          ],
                          [
                            0.2222222222222222,
                            "#7201a8"
                          ],
                          [
                            0.3333333333333333,
                            "#9c179e"
                          ],
                          [
                            0.4444444444444444,
                            "#bd3786"
                          ],
                          [
                            0.5555555555555556,
                            "#d8576b"
                          ],
                          [
                            0.6666666666666666,
                            "#ed7953"
                          ],
                          [
                            0.7777777777777778,
                            "#fb9f3a"
                          ],
                          [
                            0.8888888888888888,
                            "#fdca26"
                          ],
                          [
                            1,
                            "#f0f921"
                          ]
                        ],
                        "type": "histogram2dcontour"
                      }
                    ],
                    "mesh3d": [
                      {
                        "colorbar": {
                          "outlinewidth": 0,
                          "ticks": ""
                        },
                        "type": "mesh3d"
                      }
                    ],
                    "parcoords": [
                      {
                        "line": {
                          "colorbar": {
                            "outlinewidth": 0,
                            "ticks": ""
                          }
                        },
                        "type": "parcoords"
                      }
                    ],
                    "pie": [
                      {
                        "automargin": true,
                        "type": "pie"
                      }
                    ],
                    "scatter": [
                      {
                        "marker": {
                          "colorbar": {
                            "outlinewidth": 0,
                            "ticks": ""
                          }
                        },
                        "type": "scatter"
                      }
                    ],
                    "scatter3d": [
                      {
                        "line": {
                          "colorbar": {
                            "outlinewidth": 0,
                            "ticks": ""
                          }
                        },
                        "marker": {
                          "colorbar": {
                            "outlinewidth": 0,
                            "ticks": ""
                          }
                        },
                        "type": "scatter3d"
                      }
                    ],
                    "scattercarpet": [
                      {
                        "marker": {
                          "colorbar": {
                            "outlinewidth": 0,
                            "ticks": ""
                          }
                        },
                        "type": "scattercarpet"
                      }
                    ],
                    "scattergeo": [
                      {
                        "marker": {
                          "colorbar": {
                            "outlinewidth": 0,
                            "ticks": ""
                          }
                        },
                        "type": "scattergeo"
                      }
                    ],
                    "scattergl": [
                      {
                        "marker": {
                          "colorbar": {
                            "outlinewidth": 0,
                            "ticks": ""
                          }
                        },
                        "type": "scattergl"
                      }
                    ],
                    "scattermapbox": [
                      {
                        "marker": {
                          "colorbar": {
                            "outlinewidth": 0,
                            "ticks": ""
                          }
                        },
                        "type": "scattermapbox"
                      }
                    ],
                    "scatterpolar": [
                      {
                        "marker": {
                          "colorbar": {
                            "outlinewidth": 0,
                            "ticks": ""
                          }
                        },
                        "type": "scatterpolar"
                      }
                    ],
                    "scatterpolargl": [
                      {
                        "marker": {
                          "colorbar": {
                            "outlinewidth": 0,
                            "ticks": ""
                          }
                        },
                        "type": "scatterpolargl"
                      }
                    ],
                    "scatterternary": [
                      {
                        "marker": {
                          "colorbar": {
                            "outlinewidth": 0,
                            "ticks": ""
                          }
                        },
                        "type": "scatterternary"
                      }
                    ],
                    "surface": [
                      {
                        "colorbar": {
                          "outlinewidth": 0,
                          "ticks": ""
                        },
                        "colorscale": [
                          [
                            0,
                            "#0d0887"
                          ],
                          [
                            0.1111111111111111,
                            "#46039f"
                          ],
                          [
                            0.2222222222222222,
                            "#7201a8"
                          ],
                          [
                            0.3333333333333333,
                            "#9c179e"
                          ],
                          [
                            0.4444444444444444,
                            "#bd3786"
                          ],
                          [
                            0.5555555555555556,
                            "#d8576b"
                          ],
                          [
                            0.6666666666666666,
                            "#ed7953"
                          ],
                          [
                            0.7777777777777778,
                            "#fb9f3a"
                          ],
                          [
                            0.8888888888888888,
                            "#fdca26"
                          ],
                          [
                            1,
                            "#f0f921"
                          ]
                        ],
                        "type": "surface"
                      }
                    ],
                    "table": [
                      {
                        "cells": {
                          "fill": {
                            "color": "#EBF0F8"
                          },
                          "line": {
                            "color": "white"
                          }
                        },
                        "header": {
                          "fill": {
                            "color": "#C8D4E3"
                          },
                          "line": {
                            "color": "white"
                          }
                        },
                        "type": "table"
                      }
                    ]
                  },
                  "layout": {
                    "annotationdefaults": {
                      "arrowcolor": "#2a3f5f",
                      "arrowhead": 0,
                      "arrowwidth": 1
                    },
                    "autotypenumbers": "strict",
                    "coloraxis": {
                      "colorbar": {
                        "outlinewidth": 0,
                        "ticks": ""
                      }
                    },
                    "colorscale": {
                      "diverging": [
                        [
                          0,
                          "#8e0152"
                        ],
                        [
                          0.1,
                          "#c51b7d"
                        ],
                        [
                          0.2,
                          "#de77ae"
                        ],
                        [
                          0.3,
                          "#f1b6da"
                        ],
                        [
                          0.4,
                          "#fde0ef"
                        ],
                        [
                          0.5,
                          "#f7f7f7"
                        ],
                        [
                          0.6,
                          "#e6f5d0"
                        ],
                        [
                          0.7,
                          "#b8e186"
                        ],
                        [
                          0.8,
                          "#7fbc41"
                        ],
                        [
                          0.9,
                          "#4d9221"
                        ],
                        [
                          1,
                          "#276419"
                        ]
                      ],
                      "sequential": [
                        [
                          0,
                          "#0d0887"
                        ],
                        [
                          0.1111111111111111,
                          "#46039f"
                        ],
                        [
                          0.2222222222222222,
                          "#7201a8"
                        ],
                        [
                          0.3333333333333333,
                          "#9c179e"
                        ],
                        [
                          0.4444444444444444,
                          "#bd3786"
                        ],
                        [
                          0.5555555555555556,
                          "#d8576b"
                        ],
                        [
                          0.6666666666666666,
                          "#ed7953"
                        ],
                        [
                          0.7777777777777778,
                          "#fb9f3a"
                        ],
                        [
                          0.8888888888888888,
                          "#fdca26"
                        ],
                        [
                          1,
                          "#f0f921"
                        ]
                      ],
                      "sequentialminus": [
                        [
                          0,
                          "#0d0887"
                        ],
                        [
                          0.1111111111111111,
                          "#46039f"
                        ],
                        [
                          0.2222222222222222,
                          "#7201a8"
                        ],
                        [
                          0.3333333333333333,
                          "#9c179e"
                        ],
                        [
                          0.4444444444444444,
                          "#bd3786"
                        ],
                        [
                          0.5555555555555556,
                          "#d8576b"
                        ],
                        [
                          0.6666666666666666,
                          "#ed7953"
                        ],
                        [
                          0.7777777777777778,
                          "#fb9f3a"
                        ],
                        [
                          0.8888888888888888,
                          "#fdca26"
                        ],
                        [
                          1,
                          "#f0f921"
                        ]
                      ]
                    },
                    "colorway": [
                      "#636efa",
                      "#EF553B",
                      "#00cc96",
                      "#ab63fa",
                      "#FFA15A",
                      "#19d3f3",
                      "#FF6692",
                      "#B6E880",
                      "#FF97FF",
                      "#FECB52"
                    ],
                    "font": {
                      "color": "#2a3f5f"
                    },
                    "geo": {
                      "bgcolor": "white",
                      "lakecolor": "white",
                      "landcolor": "#E5ECF6",
                      "showlakes": true,
                      "showland": true,
                      "subunitcolor": "white"
                    },
                    "hoverlabel": {
                      "align": "left"
                    },
                    "hovermode": "closest",
                    "mapbox": {
                      "style": "light"
                    },
                    "paper_bgcolor": "white",
                    "plot_bgcolor": "#E5ECF6",
                    "polar": {
                      "angularaxis": {
                        "gridcolor": "white",
                        "linecolor": "white",
                        "ticks": ""
                      },
                      "bgcolor": "#E5ECF6",
                      "radialaxis": {
                        "gridcolor": "white",
                        "linecolor": "white",
                        "ticks": ""
                      }
                    },
                    "scene": {
                      "xaxis": {
                        "backgroundcolor": "#E5ECF6",
                        "gridcolor": "white",
                        "gridwidth": 2,
                        "linecolor": "white",
                        "showbackground": true,
                        "ticks": "",
                        "zerolinecolor": "white"
                      },
                      "yaxis": {
                        "backgroundcolor": "#E5ECF6",
                        "gridcolor": "white",
                        "gridwidth": 2,
                        "linecolor": "white",
                        "showbackground": true,
                        "ticks": "",
                        "zerolinecolor": "white"
                      },
                      "zaxis": {
                        "backgroundcolor": "#E5ECF6",
                        "gridcolor": "white",
                        "gridwidth": 2,
                        "linecolor": "white",
                        "showbackground": true,
                        "ticks": "",
                        "zerolinecolor": "white"
                      }
                    },
                    "shapedefaults": {
                      "line": {
                        "color": "#2a3f5f"
                      }
                    },
                    "ternary": {
                      "aaxis": {
                        "gridcolor": "white",
                        "linecolor": "white",
                        "ticks": ""
                      },
                      "baxis": {
                        "gridcolor": "white",
                        "linecolor": "white",
                        "ticks": ""
                      },
                      "bgcolor": "#E5ECF6",
                      "caxis": {
                        "gridcolor": "white",
                        "linecolor": "white",
                        "ticks": ""
                      }
                    },
                    "title": {
                      "x": 0.05
                    },
                    "xaxis": {
                      "automargin": true,
                      "gridcolor": "white",
                      "linecolor": "white",
                      "ticks": "",
                      "title": {
                        "standoff": 15
                      },
                      "zerolinecolor": "white",
                      "zerolinewidth": 2
                    },
                    "yaxis": {
                      "automargin": true,
                      "gridcolor": "white",
                      "linecolor": "white",
                      "ticks": "",
                      "title": {
                        "standoff": 15
                      },
                      "zerolinecolor": "white",
                      "zerolinewidth": 2
                    }
                  }
                },
                "title": {
                  "text": "Распределение \"Средней ЗП\" по типу региона и опыта работы"
                },
                "width": 1000,
                "xaxis": {
                  "anchor": "y",
                  "domain": [
                    0,
                    1
                  ],
                  "title": {
                    "text": "Опыт работы"
                  }
                },
                "yaxis": {
                  "anchor": "x",
                  "domain": [
                    0,
                    1
                  ],
                  "title": {
                    "text": "Средняя ЗП"
                  }
                }
              }
            }
          },
          "metadata": {},
          "output_type": "display_data"
        },
        {
          "data": {
            "application/vnd.plotly.v1+json": {
              "config": {
                "plotlyServerURL": "https://plot.ly"
              },
              "data": [
                {
                  "alignmentgroup": "True",
                  "hovertemplate": "Тип региона=Россия<br>Опыт работы=%{x}<br>Кол-во ключевых навыков=%{y}<extra></extra>",
                  "legendgroup": "Россия",
                  "marker": {
                    "color": "#636efa"
                  },
                  "name": "Россия",
                  "notched": false,
                  "offsetgroup": "Россия",
                  "orientation": "v",
                  "showlegend": true,
                  "type": "box",
                  "x": [
                    "От 3 до 6 лет",
                    "От 1 года до 3 лет",
                    "От 1 года до 3 лет",
                    "От 1 года до 3 лет",
                    "От 3 до 6 лет",
                    "От 3 до 6 лет",
                    "От 3 до 6 лет",
                    "От 3 до 6 лет",
                    "От 3 до 6 лет",
                    "От 3 до 6 лет",
                    "От 3 до 6 лет",
                    "От 3 до 6 лет",
                    "От 3 до 6 лет",
                    "От 1 года до 3 лет",
                    "От 1 года до 3 лет",
                    "От 3 до 6 лет",
                    "Нет опыта",
                    "От 1 года до 3 лет",
                    "От 1 года до 3 лет",
                    "Нет опыта",
                    "От 1 года до 3 лет",
                    "Более 6 лет",
                    "От 1 года до 3 лет",
                    "Нет опыта",
                    "От 3 до 6 лет",
                    "От 1 года до 3 лет",
                    "От 1 года до 3 лет",
                    "Нет опыта",
                    "Нет опыта",
                    "От 3 до 6 лет",
                    "От 3 до 6 лет",
                    "От 1 года до 3 лет",
                    "От 1 года до 3 лет",
                    "От 3 до 6 лет",
                    "От 1 года до 3 лет",
                    "От 1 года до 3 лет",
                    "От 1 года до 3 лет",
                    "От 1 года до 3 лет",
                    "От 3 до 6 лет",
                    "От 1 года до 3 лет",
                    "От 3 до 6 лет",
                    "От 3 до 6 лет",
                    "Нет опыта",
                    "Нет опыта",
                    "От 1 года до 3 лет",
                    "От 3 до 6 лет",
                    "От 3 до 6 лет",
                    "От 3 до 6 лет",
                    "От 1 года до 3 лет",
                    "От 3 до 6 лет",
                    "От 3 до 6 лет",
                    "От 3 до 6 лет",
                    "От 1 года до 3 лет",
                    "Нет опыта",
                    "От 1 года до 3 лет",
                    "От 3 до 6 лет",
                    "От 1 года до 3 лет",
                    "От 1 года до 3 лет",
                    "От 1 года до 3 лет",
                    "От 1 года до 3 лет",
                    "От 1 года до 3 лет",
                    "От 1 года до 3 лет",
                    "От 1 года до 3 лет",
                    "От 1 года до 3 лет",
                    "От 3 до 6 лет",
                    "От 3 до 6 лет",
                    "От 1 года до 3 лет",
                    "От 1 года до 3 лет",
                    "От 1 года до 3 лет",
                    "От 1 года до 3 лет",
                    "От 1 года до 3 лет",
                    "От 3 до 6 лет",
                    "От 1 года до 3 лет",
                    "От 1 года до 3 лет",
                    "От 3 до 6 лет",
                    "От 3 до 6 лет",
                    "От 3 до 6 лет",
                    "От 1 года до 3 лет",
                    "От 3 до 6 лет",
                    "От 3 до 6 лет",
                    "От 3 до 6 лет",
                    "От 1 года до 3 лет",
                    "От 1 года до 3 лет",
                    "От 1 года до 3 лет",
                    "От 1 года до 3 лет",
                    "От 1 года до 3 лет",
                    "От 3 до 6 лет",
                    "От 3 до 6 лет",
                    "От 3 до 6 лет",
                    "От 1 года до 3 лет",
                    "От 3 до 6 лет",
                    "От 1 года до 3 лет",
                    "От 1 года до 3 лет",
                    "От 1 года до 3 лет",
                    "От 3 до 6 лет",
                    "От 3 до 6 лет",
                    "От 3 до 6 лет",
                    "Нет опыта",
                    "От 1 года до 3 лет",
                    "От 3 до 6 лет",
                    "От 3 до 6 лет",
                    "От 3 до 6 лет",
                    "От 3 до 6 лет",
                    "От 3 до 6 лет",
                    "От 1 года до 3 лет",
                    "От 3 до 6 лет",
                    "От 1 года до 3 лет",
                    "От 1 года до 3 лет",
                    "Нет опыта",
                    "От 3 до 6 лет",
                    "От 3 до 6 лет",
                    "От 3 до 6 лет",
                    "От 3 до 6 лет",
                    "От 1 года до 3 лет",
                    "От 3 до 6 лет",
                    "От 3 до 6 лет",
                    "От 1 года до 3 лет",
                    "От 1 года до 3 лет",
                    "От 1 года до 3 лет",
                    "От 1 года до 3 лет",
                    "От 1 года до 3 лет",
                    "От 1 года до 3 лет",
                    "От 3 до 6 лет",
                    "От 3 до 6 лет",
                    "От 3 до 6 лет",
                    "Более 6 лет",
                    "От 3 до 6 лет",
                    "Более 6 лет",
                    "Более 6 лет",
                    "От 3 до 6 лет",
                    "От 1 года до 3 лет",
                    "От 1 года до 3 лет",
                    "От 1 года до 3 лет",
                    "От 1 года до 3 лет",
                    "От 3 до 6 лет",
                    "От 1 года до 3 лет",
                    "От 3 до 6 лет",
                    "От 1 года до 3 лет",
                    "От 3 до 6 лет",
                    "От 3 до 6 лет",
                    "От 3 до 6 лет",
                    "От 1 года до 3 лет",
                    "От 1 года до 3 лет",
                    "От 3 до 6 лет",
                    "От 1 года до 3 лет",
                    "От 1 года до 3 лет",
                    "От 1 года до 3 лет",
                    "От 1 года до 3 лет",
                    "От 1 года до 3 лет",
                    "От 1 года до 3 лет",
                    "От 1 года до 3 лет",
                    "От 3 до 6 лет",
                    "От 1 года до 3 лет",
                    "От 1 года до 3 лет",
                    "От 1 года до 3 лет",
                    "Более 6 лет",
                    "Более 6 лет",
                    "От 3 до 6 лет",
                    "От 3 до 6 лет",
                    "От 1 года до 3 лет",
                    "От 1 года до 3 лет",
                    "От 3 до 6 лет",
                    "От 3 до 6 лет",
                    "От 1 года до 3 лет",
                    "От 3 до 6 лет",
                    "Более 6 лет",
                    "Более 6 лет",
                    "Более 6 лет",
                    "Более 6 лет",
                    "От 1 года до 3 лет",
                    "От 3 до 6 лет",
                    "От 1 года до 3 лет",
                    "От 3 до 6 лет",
                    "От 3 до 6 лет",
                    "От 3 до 6 лет",
                    "От 3 до 6 лет",
                    "От 3 до 6 лет",
                    "От 3 до 6 лет",
                    "От 3 до 6 лет",
                    "От 1 года до 3 лет",
                    "От 1 года до 3 лет",
                    "От 1 года до 3 лет",
                    "От 1 года до 3 лет",
                    "От 1 года до 3 лет",
                    "От 1 года до 3 лет",
                    "От 1 года до 3 лет",
                    "От 3 до 6 лет",
                    "От 3 до 6 лет",
                    "От 1 года до 3 лет",
                    "От 1 года до 3 лет",
                    "От 1 года до 3 лет",
                    "От 1 года до 3 лет",
                    "От 1 года до 3 лет",
                    "От 3 до 6 лет",
                    "От 3 до 6 лет",
                    "От 1 года до 3 лет",
                    "От 3 до 6 лет",
                    "От 1 года до 3 лет",
                    "От 3 до 6 лет",
                    "От 3 до 6 лет",
                    "От 3 до 6 лет",
                    "От 3 до 6 лет",
                    "Нет опыта",
                    "От 1 года до 3 лет",
                    "От 1 года до 3 лет",
                    "От 1 года до 3 лет",
                    "От 1 года до 3 лет",
                    "От 3 до 6 лет",
                    "От 3 до 6 лет",
                    "От 1 года до 3 лет",
                    "От 3 до 6 лет",
                    "От 3 до 6 лет",
                    "От 3 до 6 лет",
                    "Нет опыта",
                    "От 3 до 6 лет",
                    "Нет опыта",
                    "От 3 до 6 лет",
                    "От 1 года до 3 лет",
                    "От 3 до 6 лет",
                    "От 3 до 6 лет",
                    "От 3 до 6 лет",
                    "От 1 года до 3 лет",
                    "От 1 года до 3 лет",
                    "От 3 до 6 лет",
                    "От 1 года до 3 лет",
                    "От 1 года до 3 лет",
                    "От 3 до 6 лет",
                    "От 1 года до 3 лет",
                    "От 3 до 6 лет",
                    "От 3 до 6 лет",
                    "От 1 года до 3 лет",
                    "От 1 года до 3 лет",
                    "От 1 года до 3 лет",
                    "От 1 года до 3 лет",
                    "От 3 до 6 лет",
                    "От 1 года до 3 лет",
                    "От 1 года до 3 лет",
                    "Более 6 лет",
                    "От 3 до 6 лет",
                    "От 3 до 6 лет",
                    "От 1 года до 3 лет",
                    "От 1 года до 3 лет",
                    "От 1 года до 3 лет",
                    "От 1 года до 3 лет",
                    "Более 6 лет",
                    "От 3 до 6 лет",
                    "От 1 года до 3 лет",
                    "От 3 до 6 лет",
                    "От 1 года до 3 лет",
                    "От 1 года до 3 лет",
                    "От 1 года до 3 лет",
                    "От 1 года до 3 лет",
                    "От 1 года до 3 лет",
                    "От 3 до 6 лет",
                    "От 1 года до 3 лет",
                    "От 1 года до 3 лет",
                    "От 3 до 6 лет",
                    "Нет опыта",
                    "От 3 до 6 лет",
                    "От 1 года до 3 лет",
                    "От 3 до 6 лет",
                    "От 3 до 6 лет",
                    "От 1 года до 3 лет",
                    "От 3 до 6 лет",
                    "Нет опыта",
                    "От 1 года до 3 лет",
                    "От 1 года до 3 лет",
                    "От 3 до 6 лет",
                    "От 3 до 6 лет",
                    "Нет опыта",
                    "Более 6 лет",
                    "От 1 года до 3 лет",
                    "От 1 года до 3 лет",
                    "От 1 года до 3 лет",
                    "От 3 до 6 лет",
                    "От 1 года до 3 лет",
                    "От 3 до 6 лет",
                    "От 3 до 6 лет",
                    "От 1 года до 3 лет",
                    "От 1 года до 3 лет",
                    "От 1 года до 3 лет",
                    "От 3 до 6 лет",
                    "От 3 до 6 лет",
                    "От 1 года до 3 лет",
                    "От 3 до 6 лет",
                    "От 3 до 6 лет",
                    "От 1 года до 3 лет",
                    "От 3 до 6 лет",
                    "Нет опыта",
                    "От 1 года до 3 лет",
                    "От 3 до 6 лет",
                    "От 1 года до 3 лет",
                    "От 1 года до 3 лет",
                    "От 1 года до 3 лет",
                    "От 1 года до 3 лет",
                    "От 1 года до 3 лет",
                    "От 1 года до 3 лет",
                    "От 1 года до 3 лет",
                    "От 1 года до 3 лет",
                    "От 1 года до 3 лет",
                    "От 3 до 6 лет",
                    "От 1 года до 3 лет",
                    "От 1 года до 3 лет",
                    "От 1 года до 3 лет",
                    "От 1 года до 3 лет",
                    "От 1 года до 3 лет",
                    "От 1 года до 3 лет",
                    "От 1 года до 3 лет",
                    "От 1 года до 3 лет",
                    "От 1 года до 3 лет",
                    "От 1 года до 3 лет",
                    "От 1 года до 3 лет",
                    "От 1 года до 3 лет",
                    "От 1 года до 3 лет",
                    "От 3 до 6 лет",
                    "От 1 года до 3 лет",
                    "От 1 года до 3 лет",
                    "От 1 года до 3 лет",
                    "От 1 года до 3 лет",
                    "От 1 года до 3 лет",
                    "От 1 года до 3 лет",
                    "От 3 до 6 лет",
                    "От 3 до 6 лет",
                    "От 3 до 6 лет",
                    "От 3 до 6 лет",
                    "Нет опыта",
                    "Более 6 лет",
                    "От 3 до 6 лет",
                    "От 1 года до 3 лет",
                    "От 1 года до 3 лет",
                    "Нет опыта",
                    "От 1 года до 3 лет",
                    "От 1 года до 3 лет",
                    "От 3 до 6 лет",
                    "От 3 до 6 лет",
                    "От 3 до 6 лет",
                    "Нет опыта",
                    "Нет опыта",
                    "От 1 года до 3 лет",
                    "От 3 до 6 лет",
                    "От 3 до 6 лет",
                    "От 3 до 6 лет",
                    "От 3 до 6 лет",
                    "От 3 до 6 лет",
                    "От 3 до 6 лет",
                    "От 3 до 6 лет",
                    "От 1 года до 3 лет",
                    "От 1 года до 3 лет",
                    "От 3 до 6 лет",
                    "От 3 до 6 лет",
                    "От 3 до 6 лет",
                    "От 1 года до 3 лет",
                    "Нет опыта",
                    "Нет опыта",
                    "Нет опыта",
                    "От 1 года до 3 лет",
                    "От 1 года до 3 лет",
                    "От 1 года до 3 лет",
                    "От 1 года до 3 лет",
                    "От 3 до 6 лет",
                    "От 1 года до 3 лет",
                    "От 1 года до 3 лет",
                    "От 3 до 6 лет",
                    "От 1 года до 3 лет",
                    "Нет опыта",
                    "От 3 до 6 лет",
                    "От 1 года до 3 лет",
                    "От 1 года до 3 лет",
                    "От 3 до 6 лет",
                    "От 1 года до 3 лет",
                    "От 1 года до 3 лет",
                    "От 1 года до 3 лет",
                    "От 1 года до 3 лет",
                    "От 1 года до 3 лет",
                    "От 1 года до 3 лет",
                    "От 1 года до 3 лет",
                    "Нет опыта",
                    "Нет опыта",
                    "От 1 года до 3 лет",
                    "От 1 года до 3 лет",
                    "От 1 года до 3 лет",
                    "От 1 года до 3 лет",
                    "От 1 года до 3 лет",
                    "От 1 года до 3 лет",
                    "От 3 до 6 лет",
                    "От 1 года до 3 лет",
                    "От 3 до 6 лет",
                    "От 3 до 6 лет",
                    "От 3 до 6 лет",
                    "От 3 до 6 лет",
                    "От 3 до 6 лет",
                    "От 3 до 6 лет",
                    "От 3 до 6 лет",
                    "От 1 года до 3 лет",
                    "От 1 года до 3 лет",
                    "От 1 года до 3 лет",
                    "От 1 года до 3 лет",
                    "От 1 года до 3 лет",
                    "От 1 года до 3 лет"
                  ],
                  "x0": " ",
                  "xaxis": "x",
                  "y": [
                    6,
                    3,
                    6,
                    6,
                    6,
                    0,
                    6,
                    6,
                    6,
                    6,
                    6,
                    4,
                    6,
                    12,
                    0,
                    4,
                    14,
                    5,
                    4,
                    12,
                    6,
                    2,
                    7,
                    3,
                    1,
                    0,
                    0,
                    9,
                    9,
                    5,
                    5,
                    0,
                    2,
                    5,
                    14,
                    5,
                    5,
                    9,
                    8,
                    6,
                    9,
                    5,
                    8,
                    4,
                    5,
                    7,
                    9,
                    8,
                    5,
                    4,
                    4,
                    5,
                    5,
                    7,
                    8,
                    5,
                    0,
                    13,
                    0,
                    6,
                    5,
                    5,
                    8,
                    3,
                    12,
                    12,
                    8,
                    5,
                    5,
                    7,
                    5,
                    5,
                    8,
                    4,
                    8,
                    8,
                    6,
                    9,
                    5,
                    5,
                    5,
                    8,
                    8,
                    0,
                    4,
                    5,
                    3,
                    6,
                    12,
                    4,
                    5,
                    5,
                    5,
                    5,
                    6,
                    5,
                    5,
                    11,
                    5,
                    4,
                    4,
                    4,
                    4,
                    8,
                    0,
                    7,
                    7,
                    2,
                    5,
                    14,
                    0,
                    0,
                    0,
                    5,
                    5,
                    0,
                    5,
                    5,
                    7,
                    5,
                    5,
                    5,
                    11,
                    5,
                    0,
                    14,
                    4,
                    5,
                    5,
                    7,
                    3,
                    5,
                    5,
                    5,
                    5,
                    8,
                    7,
                    2,
                    5,
                    0,
                    6,
                    0,
                    12,
                    0,
                    8,
                    8,
                    5,
                    1,
                    0,
                    5,
                    19,
                    6,
                    12,
                    0,
                    8,
                    14,
                    14,
                    9,
                    6,
                    0,
                    5,
                    5,
                    5,
                    6,
                    2,
                    6,
                    6,
                    6,
                    6,
                    6,
                    11,
                    5,
                    8,
                    5,
                    7,
                    14,
                    3,
                    3,
                    3,
                    10,
                    3,
                    11,
                    4,
                    11,
                    4,
                    4,
                    7,
                    1,
                    9,
                    0,
                    19,
                    19,
                    5,
                    0,
                    5,
                    5,
                    3,
                    11,
                    5,
                    0,
                    17,
                    5,
                    2,
                    16,
                    5,
                    4,
                    6,
                    3,
                    3,
                    0,
                    5,
                    0,
                    7,
                    5,
                    5,
                    8,
                    6,
                    7,
                    8,
                    15,
                    5,
                    5,
                    0,
                    8,
                    0,
                    12,
                    8,
                    5,
                    5,
                    9,
                    6,
                    4,
                    11,
                    0,
                    5,
                    12,
                    12,
                    6,
                    3,
                    6,
                    4,
                    6,
                    6,
                    0,
                    8,
                    5,
                    0,
                    12,
                    0,
                    0,
                    0,
                    4,
                    3,
                    6,
                    6,
                    5,
                    5,
                    6,
                    9,
                    6,
                    5,
                    7,
                    5,
                    6,
                    0,
                    4,
                    6,
                    5,
                    5,
                    2,
                    0,
                    13,
                    13,
                    6,
                    5,
                    8,
                    4,
                    5,
                    5,
                    3,
                    0,
                    5,
                    0,
                    8,
                    8,
                    4,
                    5,
                    3,
                    2,
                    3,
                    7,
                    2,
                    2,
                    5,
                    5,
                    5,
                    5,
                    5,
                    5,
                    6,
                    14,
                    9,
                    9,
                    9,
                    9,
                    9,
                    9,
                    9,
                    9,
                    9,
                    9,
                    9,
                    9,
                    9,
                    5,
                    6,
                    9,
                    4,
                    4,
                    4,
                    5,
                    0,
                    7,
                    5,
                    0,
                    10,
                    6,
                    4,
                    15,
                    0,
                    7,
                    5,
                    9,
                    5,
                    4,
                    4,
                    7,
                    11,
                    11,
                    4,
                    6,
                    6,
                    6,
                    6,
                    6,
                    6,
                    7,
                    5,
                    5,
                    5,
                    5,
                    5,
                    10,
                    10,
                    10,
                    5,
                    5,
                    5,
                    5,
                    6,
                    5,
                    5,
                    0,
                    4,
                    4,
                    3,
                    0,
                    0,
                    2,
                    8,
                    8,
                    0,
                    5,
                    6,
                    10,
                    10,
                    6,
                    11,
                    1,
                    14,
                    5,
                    6,
                    7,
                    0,
                    3,
                    11,
                    5,
                    5,
                    5,
                    5,
                    5,
                    4,
                    0,
                    11,
                    6,
                    5,
                    0,
                    6,
                    9
                  ],
                  "y0": " ",
                  "yaxis": "y"
                },
                {
                  "alignmentgroup": "True",
                  "hovertemplate": "Тип региона=Другие регионы<br>Опыт работы=%{x}<br>Кол-во ключевых навыков=%{y}<extra></extra>",
                  "legendgroup": "Другие регионы",
                  "marker": {
                    "color": "#EF553B"
                  },
                  "name": "Другие регионы",
                  "notched": false,
                  "offsetgroup": "Другие регионы",
                  "orientation": "v",
                  "showlegend": true,
                  "type": "box",
                  "x": [
                    "От 1 года до 3 лет",
                    "От 3 до 6 лет",
                    "От 3 до 6 лет",
                    "От 3 до 6 лет",
                    "От 1 года до 3 лет",
                    "От 1 года до 3 лет",
                    "От 3 до 6 лет",
                    "От 3 до 6 лет",
                    "От 3 до 6 лет",
                    "От 3 до 6 лет",
                    "От 1 года до 3 лет",
                    "От 3 до 6 лет",
                    "Более 6 лет",
                    "Более 6 лет",
                    "Более 6 лет",
                    "Более 6 лет",
                    "Более 6 лет",
                    "Более 6 лет",
                    "Более 6 лет",
                    "Более 6 лет",
                    "Более 6 лет",
                    "Более 6 лет",
                    "Более 6 лет",
                    "Более 6 лет",
                    "Более 6 лет",
                    "Более 6 лет",
                    "Более 6 лет",
                    "Более 6 лет",
                    "Более 6 лет",
                    "Более 6 лет",
                    "Более 6 лет",
                    "От 1 года до 3 лет",
                    "От 1 года до 3 лет",
                    "От 3 до 6 лет",
                    "От 3 до 6 лет",
                    "От 1 года до 3 лет",
                    "Более 6 лет",
                    "От 3 до 6 лет",
                    "От 3 до 6 лет",
                    "От 3 до 6 лет",
                    "От 3 до 6 лет",
                    "От 1 года до 3 лет",
                    "От 3 до 6 лет",
                    "От 3 до 6 лет",
                    "От 1 года до 3 лет",
                    "Нет опыта",
                    "От 1 года до 3 лет",
                    "От 3 до 6 лет",
                    "От 3 до 6 лет",
                    "От 1 года до 3 лет",
                    "От 1 года до 3 лет",
                    "От 3 до 6 лет",
                    "От 3 до 6 лет",
                    "От 3 до 6 лет",
                    "От 3 до 6 лет",
                    "От 1 года до 3 лет",
                    "От 3 до 6 лет",
                    "От 1 года до 3 лет",
                    "От 3 до 6 лет",
                    "От 1 года до 3 лет",
                    "От 3 до 6 лет",
                    "От 3 до 6 лет",
                    "От 3 до 6 лет",
                    "От 3 до 6 лет",
                    "От 3 до 6 лет",
                    "От 3 до 6 лет",
                    "От 3 до 6 лет"
                  ],
                  "x0": " ",
                  "xaxis": "x",
                  "y": [
                    11,
                    7,
                    12,
                    15,
                    2,
                    8,
                    5,
                    7,
                    7,
                    6,
                    3,
                    10,
                    5,
                    5,
                    5,
                    5,
                    5,
                    5,
                    5,
                    5,
                    5,
                    5,
                    5,
                    5,
                    5,
                    5,
                    5,
                    5,
                    5,
                    5,
                    5,
                    20,
                    9,
                    9,
                    5,
                    8,
                    3,
                    5,
                    5,
                    7,
                    6,
                    6,
                    5,
                    3,
                    5,
                    0,
                    8,
                    8,
                    6,
                    8,
                    5,
                    6,
                    3,
                    3,
                    3,
                    3,
                    0,
                    8,
                    5,
                    5,
                    5,
                    5,
                    5,
                    5,
                    5,
                    5,
                    7
                  ],
                  "y0": " ",
                  "yaxis": "y"
                }
              ],
              "layout": {
                "boxmode": "group",
                "height": 700,
                "legend": {
                  "title": {
                    "text": "Тип региона"
                  },
                  "tracegroupgap": 0
                },
                "template": {
                  "data": {
                    "bar": [
                      {
                        "error_x": {
                          "color": "#2a3f5f"
                        },
                        "error_y": {
                          "color": "#2a3f5f"
                        },
                        "marker": {
                          "line": {
                            "color": "#E5ECF6",
                            "width": 0.5
                          },
                          "pattern": {
                            "fillmode": "overlay",
                            "size": 10,
                            "solidity": 0.2
                          }
                        },
                        "type": "bar"
                      }
                    ],
                    "barpolar": [
                      {
                        "marker": {
                          "line": {
                            "color": "#E5ECF6",
                            "width": 0.5
                          },
                          "pattern": {
                            "fillmode": "overlay",
                            "size": 10,
                            "solidity": 0.2
                          }
                        },
                        "type": "barpolar"
                      }
                    ],
                    "carpet": [
                      {
                        "aaxis": {
                          "endlinecolor": "#2a3f5f",
                          "gridcolor": "white",
                          "linecolor": "white",
                          "minorgridcolor": "white",
                          "startlinecolor": "#2a3f5f"
                        },
                        "baxis": {
                          "endlinecolor": "#2a3f5f",
                          "gridcolor": "white",
                          "linecolor": "white",
                          "minorgridcolor": "white",
                          "startlinecolor": "#2a3f5f"
                        },
                        "type": "carpet"
                      }
                    ],
                    "choropleth": [
                      {
                        "colorbar": {
                          "outlinewidth": 0,
                          "ticks": ""
                        },
                        "type": "choropleth"
                      }
                    ],
                    "contour": [
                      {
                        "colorbar": {
                          "outlinewidth": 0,
                          "ticks": ""
                        },
                        "colorscale": [
                          [
                            0,
                            "#0d0887"
                          ],
                          [
                            0.1111111111111111,
                            "#46039f"
                          ],
                          [
                            0.2222222222222222,
                            "#7201a8"
                          ],
                          [
                            0.3333333333333333,
                            "#9c179e"
                          ],
                          [
                            0.4444444444444444,
                            "#bd3786"
                          ],
                          [
                            0.5555555555555556,
                            "#d8576b"
                          ],
                          [
                            0.6666666666666666,
                            "#ed7953"
                          ],
                          [
                            0.7777777777777778,
                            "#fb9f3a"
                          ],
                          [
                            0.8888888888888888,
                            "#fdca26"
                          ],
                          [
                            1,
                            "#f0f921"
                          ]
                        ],
                        "type": "contour"
                      }
                    ],
                    "contourcarpet": [
                      {
                        "colorbar": {
                          "outlinewidth": 0,
                          "ticks": ""
                        },
                        "type": "contourcarpet"
                      }
                    ],
                    "heatmap": [
                      {
                        "colorbar": {
                          "outlinewidth": 0,
                          "ticks": ""
                        },
                        "colorscale": [
                          [
                            0,
                            "#0d0887"
                          ],
                          [
                            0.1111111111111111,
                            "#46039f"
                          ],
                          [
                            0.2222222222222222,
                            "#7201a8"
                          ],
                          [
                            0.3333333333333333,
                            "#9c179e"
                          ],
                          [
                            0.4444444444444444,
                            "#bd3786"
                          ],
                          [
                            0.5555555555555556,
                            "#d8576b"
                          ],
                          [
                            0.6666666666666666,
                            "#ed7953"
                          ],
                          [
                            0.7777777777777778,
                            "#fb9f3a"
                          ],
                          [
                            0.8888888888888888,
                            "#fdca26"
                          ],
                          [
                            1,
                            "#f0f921"
                          ]
                        ],
                        "type": "heatmap"
                      }
                    ],
                    "heatmapgl": [
                      {
                        "colorbar": {
                          "outlinewidth": 0,
                          "ticks": ""
                        },
                        "colorscale": [
                          [
                            0,
                            "#0d0887"
                          ],
                          [
                            0.1111111111111111,
                            "#46039f"
                          ],
                          [
                            0.2222222222222222,
                            "#7201a8"
                          ],
                          [
                            0.3333333333333333,
                            "#9c179e"
                          ],
                          [
                            0.4444444444444444,
                            "#bd3786"
                          ],
                          [
                            0.5555555555555556,
                            "#d8576b"
                          ],
                          [
                            0.6666666666666666,
                            "#ed7953"
                          ],
                          [
                            0.7777777777777778,
                            "#fb9f3a"
                          ],
                          [
                            0.8888888888888888,
                            "#fdca26"
                          ],
                          [
                            1,
                            "#f0f921"
                          ]
                        ],
                        "type": "heatmapgl"
                      }
                    ],
                    "histogram": [
                      {
                        "marker": {
                          "pattern": {
                            "fillmode": "overlay",
                            "size": 10,
                            "solidity": 0.2
                          }
                        },
                        "type": "histogram"
                      }
                    ],
                    "histogram2d": [
                      {
                        "colorbar": {
                          "outlinewidth": 0,
                          "ticks": ""
                        },
                        "colorscale": [
                          [
                            0,
                            "#0d0887"
                          ],
                          [
                            0.1111111111111111,
                            "#46039f"
                          ],
                          [
                            0.2222222222222222,
                            "#7201a8"
                          ],
                          [
                            0.3333333333333333,
                            "#9c179e"
                          ],
                          [
                            0.4444444444444444,
                            "#bd3786"
                          ],
                          [
                            0.5555555555555556,
                            "#d8576b"
                          ],
                          [
                            0.6666666666666666,
                            "#ed7953"
                          ],
                          [
                            0.7777777777777778,
                            "#fb9f3a"
                          ],
                          [
                            0.8888888888888888,
                            "#fdca26"
                          ],
                          [
                            1,
                            "#f0f921"
                          ]
                        ],
                        "type": "histogram2d"
                      }
                    ],
                    "histogram2dcontour": [
                      {
                        "colorbar": {
                          "outlinewidth": 0,
                          "ticks": ""
                        },
                        "colorscale": [
                          [
                            0,
                            "#0d0887"
                          ],
                          [
                            0.1111111111111111,
                            "#46039f"
                          ],
                          [
                            0.2222222222222222,
                            "#7201a8"
                          ],
                          [
                            0.3333333333333333,
                            "#9c179e"
                          ],
                          [
                            0.4444444444444444,
                            "#bd3786"
                          ],
                          [
                            0.5555555555555556,
                            "#d8576b"
                          ],
                          [
                            0.6666666666666666,
                            "#ed7953"
                          ],
                          [
                            0.7777777777777778,
                            "#fb9f3a"
                          ],
                          [
                            0.8888888888888888,
                            "#fdca26"
                          ],
                          [
                            1,
                            "#f0f921"
                          ]
                        ],
                        "type": "histogram2dcontour"
                      }
                    ],
                    "mesh3d": [
                      {
                        "colorbar": {
                          "outlinewidth": 0,
                          "ticks": ""
                        },
                        "type": "mesh3d"
                      }
                    ],
                    "parcoords": [
                      {
                        "line": {
                          "colorbar": {
                            "outlinewidth": 0,
                            "ticks": ""
                          }
                        },
                        "type": "parcoords"
                      }
                    ],
                    "pie": [
                      {
                        "automargin": true,
                        "type": "pie"
                      }
                    ],
                    "scatter": [
                      {
                        "marker": {
                          "colorbar": {
                            "outlinewidth": 0,
                            "ticks": ""
                          }
                        },
                        "type": "scatter"
                      }
                    ],
                    "scatter3d": [
                      {
                        "line": {
                          "colorbar": {
                            "outlinewidth": 0,
                            "ticks": ""
                          }
                        },
                        "marker": {
                          "colorbar": {
                            "outlinewidth": 0,
                            "ticks": ""
                          }
                        },
                        "type": "scatter3d"
                      }
                    ],
                    "scattercarpet": [
                      {
                        "marker": {
                          "colorbar": {
                            "outlinewidth": 0,
                            "ticks": ""
                          }
                        },
                        "type": "scattercarpet"
                      }
                    ],
                    "scattergeo": [
                      {
                        "marker": {
                          "colorbar": {
                            "outlinewidth": 0,
                            "ticks": ""
                          }
                        },
                        "type": "scattergeo"
                      }
                    ],
                    "scattergl": [
                      {
                        "marker": {
                          "colorbar": {
                            "outlinewidth": 0,
                            "ticks": ""
                          }
                        },
                        "type": "scattergl"
                      }
                    ],
                    "scattermapbox": [
                      {
                        "marker": {
                          "colorbar": {
                            "outlinewidth": 0,
                            "ticks": ""
                          }
                        },
                        "type": "scattermapbox"
                      }
                    ],
                    "scatterpolar": [
                      {
                        "marker": {
                          "colorbar": {
                            "outlinewidth": 0,
                            "ticks": ""
                          }
                        },
                        "type": "scatterpolar"
                      }
                    ],
                    "scatterpolargl": [
                      {
                        "marker": {
                          "colorbar": {
                            "outlinewidth": 0,
                            "ticks": ""
                          }
                        },
                        "type": "scatterpolargl"
                      }
                    ],
                    "scatterternary": [
                      {
                        "marker": {
                          "colorbar": {
                            "outlinewidth": 0,
                            "ticks": ""
                          }
                        },
                        "type": "scatterternary"
                      }
                    ],
                    "surface": [
                      {
                        "colorbar": {
                          "outlinewidth": 0,
                          "ticks": ""
                        },
                        "colorscale": [
                          [
                            0,
                            "#0d0887"
                          ],
                          [
                            0.1111111111111111,
                            "#46039f"
                          ],
                          [
                            0.2222222222222222,
                            "#7201a8"
                          ],
                          [
                            0.3333333333333333,
                            "#9c179e"
                          ],
                          [
                            0.4444444444444444,
                            "#bd3786"
                          ],
                          [
                            0.5555555555555556,
                            "#d8576b"
                          ],
                          [
                            0.6666666666666666,
                            "#ed7953"
                          ],
                          [
                            0.7777777777777778,
                            "#fb9f3a"
                          ],
                          [
                            0.8888888888888888,
                            "#fdca26"
                          ],
                          [
                            1,
                            "#f0f921"
                          ]
                        ],
                        "type": "surface"
                      }
                    ],
                    "table": [
                      {
                        "cells": {
                          "fill": {
                            "color": "#EBF0F8"
                          },
                          "line": {
                            "color": "white"
                          }
                        },
                        "header": {
                          "fill": {
                            "color": "#C8D4E3"
                          },
                          "line": {
                            "color": "white"
                          }
                        },
                        "type": "table"
                      }
                    ]
                  },
                  "layout": {
                    "annotationdefaults": {
                      "arrowcolor": "#2a3f5f",
                      "arrowhead": 0,
                      "arrowwidth": 1
                    },
                    "autotypenumbers": "strict",
                    "coloraxis": {
                      "colorbar": {
                        "outlinewidth": 0,
                        "ticks": ""
                      }
                    },
                    "colorscale": {
                      "diverging": [
                        [
                          0,
                          "#8e0152"
                        ],
                        [
                          0.1,
                          "#c51b7d"
                        ],
                        [
                          0.2,
                          "#de77ae"
                        ],
                        [
                          0.3,
                          "#f1b6da"
                        ],
                        [
                          0.4,
                          "#fde0ef"
                        ],
                        [
                          0.5,
                          "#f7f7f7"
                        ],
                        [
                          0.6,
                          "#e6f5d0"
                        ],
                        [
                          0.7,
                          "#b8e186"
                        ],
                        [
                          0.8,
                          "#7fbc41"
                        ],
                        [
                          0.9,
                          "#4d9221"
                        ],
                        [
                          1,
                          "#276419"
                        ]
                      ],
                      "sequential": [
                        [
                          0,
                          "#0d0887"
                        ],
                        [
                          0.1111111111111111,
                          "#46039f"
                        ],
                        [
                          0.2222222222222222,
                          "#7201a8"
                        ],
                        [
                          0.3333333333333333,
                          "#9c179e"
                        ],
                        [
                          0.4444444444444444,
                          "#bd3786"
                        ],
                        [
                          0.5555555555555556,
                          "#d8576b"
                        ],
                        [
                          0.6666666666666666,
                          "#ed7953"
                        ],
                        [
                          0.7777777777777778,
                          "#fb9f3a"
                        ],
                        [
                          0.8888888888888888,
                          "#fdca26"
                        ],
                        [
                          1,
                          "#f0f921"
                        ]
                      ],
                      "sequentialminus": [
                        [
                          0,
                          "#0d0887"
                        ],
                        [
                          0.1111111111111111,
                          "#46039f"
                        ],
                        [
                          0.2222222222222222,
                          "#7201a8"
                        ],
                        [
                          0.3333333333333333,
                          "#9c179e"
                        ],
                        [
                          0.4444444444444444,
                          "#bd3786"
                        ],
                        [
                          0.5555555555555556,
                          "#d8576b"
                        ],
                        [
                          0.6666666666666666,
                          "#ed7953"
                        ],
                        [
                          0.7777777777777778,
                          "#fb9f3a"
                        ],
                        [
                          0.8888888888888888,
                          "#fdca26"
                        ],
                        [
                          1,
                          "#f0f921"
                        ]
                      ]
                    },
                    "colorway": [
                      "#636efa",
                      "#EF553B",
                      "#00cc96",
                      "#ab63fa",
                      "#FFA15A",
                      "#19d3f3",
                      "#FF6692",
                      "#B6E880",
                      "#FF97FF",
                      "#FECB52"
                    ],
                    "font": {
                      "color": "#2a3f5f"
                    },
                    "geo": {
                      "bgcolor": "white",
                      "lakecolor": "white",
                      "landcolor": "#E5ECF6",
                      "showlakes": true,
                      "showland": true,
                      "subunitcolor": "white"
                    },
                    "hoverlabel": {
                      "align": "left"
                    },
                    "hovermode": "closest",
                    "mapbox": {
                      "style": "light"
                    },
                    "paper_bgcolor": "white",
                    "plot_bgcolor": "#E5ECF6",
                    "polar": {
                      "angularaxis": {
                        "gridcolor": "white",
                        "linecolor": "white",
                        "ticks": ""
                      },
                      "bgcolor": "#E5ECF6",
                      "radialaxis": {
                        "gridcolor": "white",
                        "linecolor": "white",
                        "ticks": ""
                      }
                    },
                    "scene": {
                      "xaxis": {
                        "backgroundcolor": "#E5ECF6",
                        "gridcolor": "white",
                        "gridwidth": 2,
                        "linecolor": "white",
                        "showbackground": true,
                        "ticks": "",
                        "zerolinecolor": "white"
                      },
                      "yaxis": {
                        "backgroundcolor": "#E5ECF6",
                        "gridcolor": "white",
                        "gridwidth": 2,
                        "linecolor": "white",
                        "showbackground": true,
                        "ticks": "",
                        "zerolinecolor": "white"
                      },
                      "zaxis": {
                        "backgroundcolor": "#E5ECF6",
                        "gridcolor": "white",
                        "gridwidth": 2,
                        "linecolor": "white",
                        "showbackground": true,
                        "ticks": "",
                        "zerolinecolor": "white"
                      }
                    },
                    "shapedefaults": {
                      "line": {
                        "color": "#2a3f5f"
                      }
                    },
                    "ternary": {
                      "aaxis": {
                        "gridcolor": "white",
                        "linecolor": "white",
                        "ticks": ""
                      },
                      "baxis": {
                        "gridcolor": "white",
                        "linecolor": "white",
                        "ticks": ""
                      },
                      "bgcolor": "#E5ECF6",
                      "caxis": {
                        "gridcolor": "white",
                        "linecolor": "white",
                        "ticks": ""
                      }
                    },
                    "title": {
                      "x": 0.05
                    },
                    "xaxis": {
                      "automargin": true,
                      "gridcolor": "white",
                      "linecolor": "white",
                      "ticks": "",
                      "title": {
                        "standoff": 15
                      },
                      "zerolinecolor": "white",
                      "zerolinewidth": 2
                    },
                    "yaxis": {
                      "automargin": true,
                      "gridcolor": "white",
                      "linecolor": "white",
                      "ticks": "",
                      "title": {
                        "standoff": 15
                      },
                      "zerolinecolor": "white",
                      "zerolinewidth": 2
                    }
                  }
                },
                "title": {
                  "text": "Распределение признака \"Кол-во ключевых навыков\" по типу региона и опыта работы"
                },
                "width": 1000,
                "xaxis": {
                  "anchor": "y",
                  "domain": [
                    0,
                    1
                  ],
                  "title": {
                    "text": "Опыт работы"
                  }
                },
                "yaxis": {
                  "anchor": "x",
                  "domain": [
                    0,
                    1
                  ],
                  "title": {
                    "text": "Кол-во ключевых навыков"
                  }
                }
              }
            }
          },
          "metadata": {},
          "output_type": "display_data"
        }
      ],
      "source": [
        "# Коробчатая диаграмма \n",
        "fig = px.box(\n",
        "    data_frame=fill_data,\n",
        "    x='Опыт работы',\n",
        "    y='Средняя ЗП',\n",
        "    color='Тип региона',\n",
        "    title='Распределение \"Средней ЗП\" по типу региона и опыта работы',\n",
        "    height=700,\n",
        "    width=1000,\n",
        ")\n",
        "fig.show() \n",
        "\n",
        "# Коробчатая диаграмма \n",
        "fig = px.box(\n",
        "    data_frame=fill_data,\n",
        "    x='Опыт работы',\n",
        "    y='Кол-во ключевых навыков',\n",
        "    color='Тип региона',\n",
        "    title='Распределение признака \"Кол-во ключевых навыков\" по типу региона и опыта работы',\n",
        "    height=700,\n",
        "    width=1000,\n",
        ")\n",
        "fig.show() \n"
      ]
    },
    {
      "cell_type": "markdown",
      "metadata": {},
      "source": [
        "### Выводы по дополнительному исследованию"
      ]
    },
    {
      "cell_type": "markdown",
      "metadata": {},
      "source": [
        ">  В нашем наборе данных не так много данных, например, коробки не во всех категориях четко отслеживаются , но зависимость среднего уровня заработной платы от опыта работы хорошо прослеживается , если смотреть на первую коробчатую диаграмму.\n",
        "\n",
        "\n",
        "По ней также можно увидеть одну аномалию , это вакансия в иностранной компании с требуемым опытом работы от 3 до 6 лет с предлагаемой заработной платой в 67 тыс.руб. , что не соответствует уровню заработной платы в категории опыта работы от 3 до 6 лет даже в Российской компании и возможно повлияла на подсчет среднего значения Средней ЗП при формировании датасета, а это критично для всего признака.\n",
        "\n",
        "\n",
        "В категории опыта работы от 6 лет коробка совсем не сформировалась , думаю так могло случится по двум или одной из двух причин , это не достаточность данных и формирование среднего значения по признакам с заработной платой, мне пришлось заполнить им 90% недостающих данных, что конечно не совсем правильно, но это учебный проект . В реальных проектах , этого стоит избегать , но все таки получилось найти одну аномалию по этому признаку.\n",
        "\n",
        "\n",
        "> По второй диаграмме обнаружены 4 аномалии это :\n",
        "* две вакансии с опытом работы от 3 до 6 лет без ключевых навыков\n",
        "* одна вакансия с опытом работы от 6 лет без ключевых навыков  \n",
        "* одна вакансия в категории с опытом работы от 1 года до 3 лет с 20ю ключевыми навыками\n",
        "\n",
        "\n",
        "По второй диаграмме также прослеживаются выбросы в сторону увеличения в категориях с опытом работы от 1 года до 3 лет и от 3 до 6 лет , что говорит о наличии в этих вакансиях специфичных навыков у более опытных специалистов.\n"
      ]
    },
    {
      "cell_type": "markdown",
      "metadata": {},
      "source": [
        "***"
      ]
    },
    {
      "cell_type": "markdown",
      "id": "c0ED6fh7wiBT",
      "metadata": {
        "id": "c0ED6fh7wiBT"
      },
      "source": [
        "### Общий вывод по проекту"
      ]
    },
    {
      "cell_type": "markdown",
      "metadata": {},
      "source": [
        "#### Подведем итог исследования\n",
        "Данные, представленные в проекте, показывают вакансии работодателей для соискателей из разных регионов и с разными сферами деятельности . Кол-во данных достаточно обширны для выявления зависимостей и отображения статистики. Основная масса вакансий с типом трудоустройства на полный рабочий день , с типом рабочего графика полная занятость. Процентное соотношение по опыту работы : 53% - От 1 года до 3 лет , 29.5% - От 3 до 6 лет , 14.6 - Нет опыта , 2.7% - Более 6 лет\n",
        "\n",
        "\n",
        "> Основная масса работодателей хотят видеть в своей компании молодых специалистов готовых на полный рабочий день с полной занятостью , молодых , потому что их уровень заработной платы самый низкий. Так же работодатель готов предоставить соискателю удаленный формат работы , но таких вакансий примерно в три раза меньше , предполагаю , что это связано с тем  что в нашей базе представлены вакансии не только из IT сферы .\n",
        "\n",
        "\n",
        "Не у всех работодателей указана сфера деятельности , но у тех что она указана 3553 работодателя в качестве сферы деятельности указывают \"Разработка программного обеспечения\" , что говорит о высоком спросе на разработчиков ПО.\n",
        "По количеству вакансий лидирует компания \"Яндекс\", думаю это связано с вакансиями для любого региона , с удаленным форматом работы.\n",
        "1771  вакансий имеет отношение к данным ,  51 вакансий имеет отношение к данным для соискателя без опыта работы , что дает возможность найти работу даже не опытным специалистам . Основные навыки к специалистам данного направления это знание предметной области , Python и Базы данных.\n",
        "\n",
        "\n",
        "#### Выводы по дополнительному исследованию\n",
        "Дополнительное исследование показало наличие в представленных данных 466 вакансий Data Scientist . Исследование этого набора данных выявило 5 аномалий и зависимости признака \"Средней ЗП\" по типу региона и опыта работы и признака \"Кол-во ключевых навыков\" по типу региона и опыта работы.\n",
        "Четко прослеживается Уровень заработной платы от опыта работы и увеличение специфических ключевых навыков с увеличением опыта работы.\n",
        "\n",
        "\n",
        "#### Варианты продолжения исследования\n",
        "\n",
        "\n",
        "В качестве еще одного варианта исследования может выступать детальное исследование признака по ключевым навыкам ,можно привести данные по нему к общему виду, создать под каждый навык отдельный признак, проставив в них значения 0 и 1 и построить по ним тепловую карту.\n"
      ]
    }
  ],
  "metadata": {
    "colab": {
      "collapsed_sections": [
        "8d62a9f3-f64e-4fe7-bdac-c4dffa16155e"
      ],
      "provenance": []
    },
    "kernelspec": {
      "display_name": "Python 3 (ipykernel)",
      "language": "python",
      "name": "python3"
    },
    "language_info": {
      "codemirror_mode": {
        "name": "ipython",
        "version": 3
      },
      "file_extension": ".py",
      "mimetype": "text/x-python",
      "name": "python",
      "nbconvert_exporter": "python",
      "pygments_lexer": "ipython3",
      "version": "3.11.5"
    }
  },
  "nbformat": 4,
  "nbformat_minor": 5
}
